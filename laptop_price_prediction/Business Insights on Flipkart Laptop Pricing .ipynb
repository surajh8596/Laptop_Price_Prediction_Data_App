{
 "cells": [
  {
   "cell_type": "markdown",
   "id": "d393c165",
   "metadata": {},
   "source": [
    "### Problem Statement\n",
    "- **Elon Musk has started his own laptop company (Tesla Laptop) in India. He wants to give tough fights to big companies like Apple, Alienware, HP etc.**\n",
    "- **He does not know how to estimate the price of laptops his company creates. In this competitive laptop market you cannot simply assume things.**\n",
    "- **Musk wants to find out some relation between features of a Laptop(eg:- RAM, OS etc) and its selling price. But he is not so good at Data Mining.**\n",
    "- **To solve this problem he already asked his Data Engineering team to collect laptop data from various competitors.**\n",
    "- **Now he needs your (i.e Data Scientist’s) help to solve the following problem.**\n",
    "\n",
    "#### Step- 1 (Data Analysis and Mining)\n",
    "- Musk’s Requirements \n",
    "    1. Build an interface (using streamlit) for Elon Musk where he can enter the laptop features like RAM Size, RAM Type, HDD, OS, etc. and get the price prediction.\n",
    "    2. Based on your Data Analysis and MIning skills, give recommendations to Elon Musk on how the pricing works in the laptop market.\n",
    "\n",
    "\n",
    "#### Sprint - 2 (ML Model Tuning)\n",
    "- Now he wants you to test the models you have created for Underfitting and Overfitting. He wants you to build a best fit model.\n",
    "    1. First try to check if the models you have created are a best fit or not.\n",
    "    2. See if applying cross validation helps improve your models performance."
   ]
  },
  {
   "cell_type": "code",
   "execution_count": 1,
   "id": "2208e6f6",
   "metadata": {},
   "outputs": [],
   "source": [
    "import pandas as pd\n",
    "import numpy as np"
   ]
  },
  {
   "cell_type": "code",
   "execution_count": 2,
   "id": "12e02fa5",
   "metadata": {},
   "outputs": [],
   "source": [
    "pd.options.display.max_colwidth=10000000"
   ]
  },
  {
   "cell_type": "code",
   "execution_count": 3,
   "id": "ae402a63",
   "metadata": {},
   "outputs": [
    {
     "data": {
      "text/html": [
       "<div>\n",
       "<style scoped>\n",
       "    .dataframe tbody tr th:only-of-type {\n",
       "        vertical-align: middle;\n",
       "    }\n",
       "\n",
       "    .dataframe tbody tr th {\n",
       "        vertical-align: top;\n",
       "    }\n",
       "\n",
       "    .dataframe thead th {\n",
       "        text-align: right;\n",
       "    }\n",
       "</style>\n",
       "<table border=\"1\" class=\"dataframe\">\n",
       "  <thead>\n",
       "    <tr style=\"text-align: right;\">\n",
       "      <th></th>\n",
       "      <th>Product</th>\n",
       "      <th>Rating</th>\n",
       "      <th>MRP</th>\n",
       "      <th>Feature</th>\n",
       "    </tr>\n",
       "  </thead>\n",
       "  <tbody>\n",
       "    <tr>\n",
       "      <th>0</th>\n",
       "      <td>Lenovo IdeaPad 3 Core i3 11th Gen - (8 GB/256 GB SSD/Windows 11 Home) 14ITL05 Thin and Light Laptop</td>\n",
       "      <td>4.2</td>\n",
       "      <td>₹36,990</td>\n",
       "      <td>Intel Core i3 Processor (11th Gen)8 GB DDR4 RAM64 bit Windows 11 Operating System256 GB SSD35.56 cm (14 inch) DisplayOffice Home and Student 20212 Year Onsite�Warranty</td>\n",
       "    </tr>\n",
       "    <tr>\n",
       "      <th>1</th>\n",
       "      <td>Lenovo IdeaPad 3 Core i3 11th Gen - (8 GB/512 GB SSD/Windows 11 Home) 82H801L7IN | 82H802FJIN | 82H802...</td>\n",
       "      <td>4.2</td>\n",
       "      <td>₹39,990</td>\n",
       "      <td>Intel Core i3 Processor (11th Gen)8 GB DDR4 RAM64 bit Windows 11 Operating System512 GB SSD39.62 cm (15.6 inch) DisplayOffice Home and Student 20212 Year Onsite�Warranty</td>\n",
       "    </tr>\n",
       "    <tr>\n",
       "      <th>2</th>\n",
       "      <td>ASUS VivoBook 15 (2022) Core i3 10th Gen - (8 GB/512 GB SSD/Windows 11 Home) X515JA-EJ362WS | X515JA-E...</td>\n",
       "      <td>4.3</td>\n",
       "      <td>₹32,990</td>\n",
       "      <td>Intel Core i3 Processor (10th Gen)8 GB DDR4 RAM64 bit Windows 11 Operating System512 GB SSD39.62 cm (15.6 inch) DisplayOffice Home and Student 20211 Year Onsite Warranty</td>\n",
       "    </tr>\n",
       "    <tr>\n",
       "      <th>3</th>\n",
       "      <td>HP Pavilion Ryzen 5 Hexa Core AMD R5-5600H - (8 GB/512 GB SSD/Windows 10/4 GB Graphics/NVIDIA GeForce ...</td>\n",
       "      <td>4.4</td>\n",
       "      <td>₹49,990</td>\n",
       "      <td>AMD Ryzen 5 Hexa Core Processor8 GB DDR4 RAM64 bit Windows 10 Operating System512 GB SSD39.62 cm (15.6 inch) DisplayHP Documentation, HP e-service, HP BIOS Recovery, HP SSRM, HP Smart, HP Jumpstarts1 Year Onsite Warranty</td>\n",
       "    </tr>\n",
       "    <tr>\n",
       "      <th>4</th>\n",
       "      <td>ASUS TUF Gaming F15 Core i5 10th Gen - (8 GB/512 GB SSD/Windows 11 Home/4 GB Graphics/NVIDIA GeForce G...</td>\n",
       "      <td>4.4</td>\n",
       "      <td>₹49,990</td>\n",
       "      <td>Intel Core i5 Processor (10th Gen)8 GB DDR4 RAMWindows 11 Operating System512 GB SSD39.62 cm (15.6 inch) Display1 Year Onsite Warranty</td>\n",
       "    </tr>\n",
       "  </tbody>\n",
       "</table>\n",
       "</div>"
      ],
      "text/plain": [
       "                                                                                                     Product  \\\n",
       "0        Lenovo IdeaPad 3 Core i3 11th Gen - (8 GB/256 GB SSD/Windows 11 Home) 14ITL05 Thin and Light Laptop   \n",
       "1  Lenovo IdeaPad 3 Core i3 11th Gen - (8 GB/512 GB SSD/Windows 11 Home) 82H801L7IN | 82H802FJIN | 82H802...   \n",
       "2  ASUS VivoBook 15 (2022) Core i3 10th Gen - (8 GB/512 GB SSD/Windows 11 Home) X515JA-EJ362WS | X515JA-E...   \n",
       "3  HP Pavilion Ryzen 5 Hexa Core AMD R5-5600H - (8 GB/512 GB SSD/Windows 10/4 GB Graphics/NVIDIA GeForce ...   \n",
       "4  ASUS TUF Gaming F15 Core i5 10th Gen - (8 GB/512 GB SSD/Windows 11 Home/4 GB Graphics/NVIDIA GeForce G...   \n",
       "\n",
       "   Rating      MRP  \\\n",
       "0     4.2  ₹36,990   \n",
       "1     4.2  ₹39,990   \n",
       "2     4.3  ₹32,990   \n",
       "3     4.4  ₹49,990   \n",
       "4     4.4  ₹49,990   \n",
       "\n",
       "                                                                                                                                                                                                                        Feature  \n",
       "0                                                       Intel Core i3 Processor (11th Gen)8 GB DDR4 RAM64 bit Windows 11 Operating System256 GB SSD35.56 cm (14 inch) DisplayOffice Home and Student 20212 Year Onsite�Warranty  \n",
       "1                                                     Intel Core i3 Processor (11th Gen)8 GB DDR4 RAM64 bit Windows 11 Operating System512 GB SSD39.62 cm (15.6 inch) DisplayOffice Home and Student 20212 Year Onsite�Warranty  \n",
       "2                                                     Intel Core i3 Processor (10th Gen)8 GB DDR4 RAM64 bit Windows 11 Operating System512 GB SSD39.62 cm (15.6 inch) DisplayOffice Home and Student 20211 Year Onsite Warranty  \n",
       "3  AMD Ryzen 5 Hexa Core Processor8 GB DDR4 RAM64 bit Windows 10 Operating System512 GB SSD39.62 cm (15.6 inch) DisplayHP Documentation, HP e-service, HP BIOS Recovery, HP SSRM, HP Smart, HP Jumpstarts1 Year Onsite Warranty  \n",
       "4                                                                                        Intel Core i5 Processor (10th Gen)8 GB DDR4 RAMWindows 11 Operating System512 GB SSD39.62 cm (15.6 inch) Display1 Year Onsite Warranty  "
      ]
     },
     "execution_count": 3,
     "metadata": {},
     "output_type": "execute_result"
    }
   ],
   "source": [
    "df=pd.read_csv('D:\\PGP IN DATA SCIENCE with Careerera\\Data Sets\\innomatics\\laptop_details.csv')\n",
    "df.head()"
   ]
  },
  {
   "cell_type": "code",
   "execution_count": 4,
   "id": "729ac675",
   "metadata": {},
   "outputs": [
    {
     "data": {
      "text/plain": [
       "(720, 4)"
      ]
     },
     "execution_count": 4,
     "metadata": {},
     "output_type": "execute_result"
    }
   ],
   "source": [
    "df.shape"
   ]
  },
  {
   "cell_type": "code",
   "execution_count": 5,
   "id": "8c558040",
   "metadata": {},
   "outputs": [
    {
     "name": "stdout",
     "output_type": "stream",
     "text": [
      "<class 'pandas.core.frame.DataFrame'>\n",
      "RangeIndex: 720 entries, 0 to 719\n",
      "Data columns (total 4 columns):\n",
      " #   Column   Non-Null Count  Dtype  \n",
      "---  ------   --------------  -----  \n",
      " 0   Product  720 non-null    object \n",
      " 1   Rating   581 non-null    float64\n",
      " 2   MRP      720 non-null    object \n",
      " 3   Feature  720 non-null    object \n",
      "dtypes: float64(1), object(3)\n",
      "memory usage: 22.6+ KB\n"
     ]
    }
   ],
   "source": [
    "df.info()"
   ]
  },
  {
   "cell_type": "markdown",
   "id": "eb1e9399",
   "metadata": {},
   "source": [
    "### MRP column need to in numerical type"
   ]
  },
  {
   "cell_type": "code",
   "execution_count": 6,
   "id": "6b4d901b",
   "metadata": {},
   "outputs": [
    {
     "data": {
      "text/plain": [
       "0    36990\n",
       "1    39990\n",
       "2    32990\n",
       "3    49990\n",
       "4    49990\n",
       "Name: MRP, dtype: int32"
      ]
     },
     "execution_count": 6,
     "metadata": {},
     "output_type": "execute_result"
    }
   ],
   "source": [
    "df['MRP'] = df['MRP'].apply(lambda x : x.replace('₹', '').replace(',', '')).astype(int)\n",
    "df['MRP'][:5]"
   ]
  },
  {
   "cell_type": "markdown",
   "id": "b914c55b",
   "metadata": {},
   "source": [
    "### Extract Processor, RAM detail, Operating System, Storage, Brand from Features column"
   ]
  },
  {
   "cell_type": "code",
   "execution_count": 7,
   "id": "1e30dd87",
   "metadata": {},
   "outputs": [],
   "source": [
    "import re"
   ]
  },
  {
   "cell_type": "code",
   "execution_count": 8,
   "id": "2fd3de55",
   "metadata": {},
   "outputs": [],
   "source": [
    "regex = r'^\\w+'\n",
    "df['Brand']=df['Product'].apply(lambda x : re.findall(regex, x))\n",
    "df['Brand']= df['Brand'].apply(lambda x : ''.join(x))"
   ]
  },
  {
   "cell_type": "code",
   "execution_count": 9,
   "id": "64068df9",
   "metadata": {},
   "outputs": [],
   "source": [
    "regex= r'^(?:AMD|Intel|M1|Apple)[\\s\\w]+Processor'\n",
    "df['Processor Type']=df['Feature'].apply(lambda x : re.findall(regex, x))\n",
    "df['Processor Type']=df['Processor Type'].apply(lambda x : ''.join(x))\n",
    "df['Processor Type']=df['Processor Type'].apply(lambda x: x.replace(\" Processor\", \"\"))"
   ]
  },
  {
   "cell_type": "code",
   "execution_count": 10,
   "id": "8051fdbb",
   "metadata": {},
   "outputs": [],
   "source": [
    "regex= r'[\\d]+[\\s]bit[\\s\\w]+Operating System|[\\(Windows)\\d\\s]+Operating System|[\\(Chrome|Mac OS)]+Operating System'\n",
    "df['Operating System']=df['Feature'].apply(lambda x : re.findall(regex, x))\n",
    "df['Operating System']=df['Operating System'].apply(lambda x : ''.join(x))\n",
    "df['Operating System']=df['Operating System'].apply(lambda x: x.replace(\" Operating System\", \"\"))"
   ]
  },
  {
   "cell_type": "code",
   "execution_count": 11,
   "id": "e3ebe9b0",
   "metadata": {},
   "outputs": [],
   "source": [
    "regex = r'\\d+\\sGB[\\s\\w]+RAM'\n",
    "df['RAM'] = df['Feature'].apply(lambda x : re.findall(regex, x))\n",
    "df.RAM = df.RAM.apply(lambda x : ''.join(x))"
   ]
  },
  {
   "cell_type": "code",
   "execution_count": 12,
   "id": "721799d7",
   "metadata": {},
   "outputs": [],
   "source": [
    "regex = r'[\\d]+\\s(?:GB|TB)\\s(?:HDD|SSD)'\n",
    "df['Storage']=df['Feature'].apply(lambda x : re.findall(regex, x))\n",
    "df['Storage']=df['Storage'].apply(lambda x : ''.join(x))"
   ]
  },
  {
   "cell_type": "code",
   "execution_count": 13,
   "id": "23057067",
   "metadata": {},
   "outputs": [
    {
     "data": {
      "text/html": [
       "<div>\n",
       "<style scoped>\n",
       "    .dataframe tbody tr th:only-of-type {\n",
       "        vertical-align: middle;\n",
       "    }\n",
       "\n",
       "    .dataframe tbody tr th {\n",
       "        vertical-align: top;\n",
       "    }\n",
       "\n",
       "    .dataframe thead th {\n",
       "        text-align: right;\n",
       "    }\n",
       "</style>\n",
       "<table border=\"1\" class=\"dataframe\">\n",
       "  <thead>\n",
       "    <tr style=\"text-align: right;\">\n",
       "      <th></th>\n",
       "      <th>Product</th>\n",
       "      <th>Rating</th>\n",
       "      <th>MRP</th>\n",
       "      <th>Feature</th>\n",
       "      <th>Brand</th>\n",
       "      <th>Processor Type</th>\n",
       "      <th>Operating System</th>\n",
       "      <th>RAM</th>\n",
       "      <th>Storage</th>\n",
       "    </tr>\n",
       "  </thead>\n",
       "  <tbody>\n",
       "    <tr>\n",
       "      <th>0</th>\n",
       "      <td>Lenovo IdeaPad 3 Core i3 11th Gen - (8 GB/256 GB SSD/Windows 11 Home) 14ITL05 Thin and Light Laptop</td>\n",
       "      <td>4.2</td>\n",
       "      <td>36990</td>\n",
       "      <td>Intel Core i3 Processor (11th Gen)8 GB DDR4 RAM64 bit Windows 11 Operating System256 GB SSD35.56 cm (14 inch) DisplayOffice Home and Student 20212 Year Onsite�Warranty</td>\n",
       "      <td>Lenovo</td>\n",
       "      <td>Intel Core i3</td>\n",
       "      <td>64 bit Windows 11</td>\n",
       "      <td>8 GB DDR4 RAM</td>\n",
       "      <td>256 GB SSD</td>\n",
       "    </tr>\n",
       "    <tr>\n",
       "      <th>1</th>\n",
       "      <td>Lenovo IdeaPad 3 Core i3 11th Gen - (8 GB/512 GB SSD/Windows 11 Home) 82H801L7IN | 82H802FJIN | 82H802...</td>\n",
       "      <td>4.2</td>\n",
       "      <td>39990</td>\n",
       "      <td>Intel Core i3 Processor (11th Gen)8 GB DDR4 RAM64 bit Windows 11 Operating System512 GB SSD39.62 cm (15.6 inch) DisplayOffice Home and Student 20212 Year Onsite�Warranty</td>\n",
       "      <td>Lenovo</td>\n",
       "      <td>Intel Core i3</td>\n",
       "      <td>64 bit Windows 11</td>\n",
       "      <td>8 GB DDR4 RAM</td>\n",
       "      <td>512 GB SSD</td>\n",
       "    </tr>\n",
       "    <tr>\n",
       "      <th>2</th>\n",
       "      <td>ASUS VivoBook 15 (2022) Core i3 10th Gen - (8 GB/512 GB SSD/Windows 11 Home) X515JA-EJ362WS | X515JA-E...</td>\n",
       "      <td>4.3</td>\n",
       "      <td>32990</td>\n",
       "      <td>Intel Core i3 Processor (10th Gen)8 GB DDR4 RAM64 bit Windows 11 Operating System512 GB SSD39.62 cm (15.6 inch) DisplayOffice Home and Student 20211 Year Onsite Warranty</td>\n",
       "      <td>ASUS</td>\n",
       "      <td>Intel Core i3</td>\n",
       "      <td>64 bit Windows 11</td>\n",
       "      <td>8 GB DDR4 RAM</td>\n",
       "      <td>512 GB SSD</td>\n",
       "    </tr>\n",
       "    <tr>\n",
       "      <th>3</th>\n",
       "      <td>HP Pavilion Ryzen 5 Hexa Core AMD R5-5600H - (8 GB/512 GB SSD/Windows 10/4 GB Graphics/NVIDIA GeForce ...</td>\n",
       "      <td>4.4</td>\n",
       "      <td>49990</td>\n",
       "      <td>AMD Ryzen 5 Hexa Core Processor8 GB DDR4 RAM64 bit Windows 10 Operating System512 GB SSD39.62 cm (15.6 inch) DisplayHP Documentation, HP e-service, HP BIOS Recovery, HP SSRM, HP Smart, HP Jumpstarts1 Year Onsite Warranty</td>\n",
       "      <td>HP</td>\n",
       "      <td>AMD Ryzen 5 Hexa Core</td>\n",
       "      <td>64 bit Windows 10</td>\n",
       "      <td>8 GB DDR4 RAM</td>\n",
       "      <td>512 GB SSD</td>\n",
       "    </tr>\n",
       "    <tr>\n",
       "      <th>4</th>\n",
       "      <td>ASUS TUF Gaming F15 Core i5 10th Gen - (8 GB/512 GB SSD/Windows 11 Home/4 GB Graphics/NVIDIA GeForce G...</td>\n",
       "      <td>4.4</td>\n",
       "      <td>49990</td>\n",
       "      <td>Intel Core i5 Processor (10th Gen)8 GB DDR4 RAMWindows 11 Operating System512 GB SSD39.62 cm (15.6 inch) Display1 Year Onsite Warranty</td>\n",
       "      <td>ASUS</td>\n",
       "      <td>Intel Core i5</td>\n",
       "      <td>Windows 11</td>\n",
       "      <td>8 GB DDR4 RAM</td>\n",
       "      <td>512 GB SSD</td>\n",
       "    </tr>\n",
       "  </tbody>\n",
       "</table>\n",
       "</div>"
      ],
      "text/plain": [
       "                                                                                                     Product  \\\n",
       "0        Lenovo IdeaPad 3 Core i3 11th Gen - (8 GB/256 GB SSD/Windows 11 Home) 14ITL05 Thin and Light Laptop   \n",
       "1  Lenovo IdeaPad 3 Core i3 11th Gen - (8 GB/512 GB SSD/Windows 11 Home) 82H801L7IN | 82H802FJIN | 82H802...   \n",
       "2  ASUS VivoBook 15 (2022) Core i3 10th Gen - (8 GB/512 GB SSD/Windows 11 Home) X515JA-EJ362WS | X515JA-E...   \n",
       "3  HP Pavilion Ryzen 5 Hexa Core AMD R5-5600H - (8 GB/512 GB SSD/Windows 10/4 GB Graphics/NVIDIA GeForce ...   \n",
       "4  ASUS TUF Gaming F15 Core i5 10th Gen - (8 GB/512 GB SSD/Windows 11 Home/4 GB Graphics/NVIDIA GeForce G...   \n",
       "\n",
       "   Rating    MRP  \\\n",
       "0     4.2  36990   \n",
       "1     4.2  39990   \n",
       "2     4.3  32990   \n",
       "3     4.4  49990   \n",
       "4     4.4  49990   \n",
       "\n",
       "                                                                                                                                                                                                                        Feature  \\\n",
       "0                                                       Intel Core i3 Processor (11th Gen)8 GB DDR4 RAM64 bit Windows 11 Operating System256 GB SSD35.56 cm (14 inch) DisplayOffice Home and Student 20212 Year Onsite�Warranty   \n",
       "1                                                     Intel Core i3 Processor (11th Gen)8 GB DDR4 RAM64 bit Windows 11 Operating System512 GB SSD39.62 cm (15.6 inch) DisplayOffice Home and Student 20212 Year Onsite�Warranty   \n",
       "2                                                     Intel Core i3 Processor (10th Gen)8 GB DDR4 RAM64 bit Windows 11 Operating System512 GB SSD39.62 cm (15.6 inch) DisplayOffice Home and Student 20211 Year Onsite Warranty   \n",
       "3  AMD Ryzen 5 Hexa Core Processor8 GB DDR4 RAM64 bit Windows 10 Operating System512 GB SSD39.62 cm (15.6 inch) DisplayHP Documentation, HP e-service, HP BIOS Recovery, HP SSRM, HP Smart, HP Jumpstarts1 Year Onsite Warranty   \n",
       "4                                                                                        Intel Core i5 Processor (10th Gen)8 GB DDR4 RAMWindows 11 Operating System512 GB SSD39.62 cm (15.6 inch) Display1 Year Onsite Warranty   \n",
       "\n",
       "    Brand         Processor Type   Operating System            RAM     Storage  \n",
       "0  Lenovo          Intel Core i3  64 bit Windows 11  8 GB DDR4 RAM  256 GB SSD  \n",
       "1  Lenovo          Intel Core i3  64 bit Windows 11  8 GB DDR4 RAM  512 GB SSD  \n",
       "2    ASUS          Intel Core i3  64 bit Windows 11  8 GB DDR4 RAM  512 GB SSD  \n",
       "3      HP  AMD Ryzen 5 Hexa Core  64 bit Windows 10  8 GB DDR4 RAM  512 GB SSD  \n",
       "4    ASUS          Intel Core i5         Windows 11  8 GB DDR4 RAM  512 GB SSD  "
      ]
     },
     "execution_count": 13,
     "metadata": {},
     "output_type": "execute_result"
    }
   ],
   "source": [
    "df.head()"
   ]
  },
  {
   "cell_type": "code",
   "execution_count": null,
   "id": "f763869e",
   "metadata": {},
   "outputs": [],
   "source": []
  },
  {
   "cell_type": "markdown",
   "id": "17665563",
   "metadata": {},
   "source": [
    "### Data Preprocessing and Cleaning"
   ]
  },
  {
   "cell_type": "markdown",
   "id": "355f5f2c",
   "metadata": {},
   "source": [
    "### Brand column"
   ]
  },
  {
   "cell_type": "code",
   "execution_count": 14,
   "id": "1f0853cd",
   "metadata": {},
   "outputs": [
    {
     "data": {
      "text/plain": [
       "array(['Lenovo', 'ASUS', 'HP', 'DELL', 'RedmiBook', 'realme', 'acer',\n",
       "       'MSI', 'APPLE', 'Infinix', 'SAMSUNG', 'Ultimus', 'Vaio',\n",
       "       'GIGABYTE', 'Nokia', 'ALIENWARE'], dtype=object)"
      ]
     },
     "execution_count": 14,
     "metadata": {},
     "output_type": "execute_result"
    }
   ],
   "source": [
    "df['Brand'].unique()"
   ]
  },
  {
   "cell_type": "markdown",
   "id": "f78179f6",
   "metadata": {},
   "source": [
    "**There are 15 different brand laptops.**"
   ]
  },
  {
   "cell_type": "code",
   "execution_count": null,
   "id": "138b8521",
   "metadata": {},
   "outputs": [],
   "source": []
  },
  {
   "cell_type": "markdown",
   "id": "981d85a3",
   "metadata": {},
   "source": [
    "### Processor Type column"
   ]
  },
  {
   "cell_type": "code",
   "execution_count": 15,
   "id": "d8977b2d",
   "metadata": {},
   "outputs": [
    {
     "data": {
      "text/plain": [
       "array(['Intel Core i3', 'AMD Ryzen 5 Hexa Core', 'Intel Core i5', '',\n",
       "       'AMD Ryzen 7 Quad Core', 'AMD Ryzen 5 Quad Core',\n",
       "       'AMD Ryzen 9 Octa Core', 'AMD Ryzen 7 Octa Core', 'Apple M1',\n",
       "       'Intel Celeron Dual Core', 'AMD Ryzen 3 Dual Core',\n",
       "       'AMD Athlon Dual Core', 'AMD Ryzen 3 Quad Core', 'Apple M2',\n",
       "       'Intel Celeron Quad Core', 'Intel Core i7', 'Apple M1 Pro',\n",
       "       'Apple M1 Max', 'Intel Core i9', 'Intel Pentium Silver',\n",
       "       'AMD Ryzen 5 Dual Core', 'Intel Pentium Quad Core',\n",
       "       'AMD Dual Core', 'AMD Ryzen 3 Hexa Core'], dtype=object)"
      ]
     },
     "execution_count": 15,
     "metadata": {},
     "output_type": "execute_result"
    }
   ],
   "source": [
    "df['Processor Type'].unique()"
   ]
  },
  {
   "cell_type": "markdown",
   "id": "2ce5aafb",
   "metadata": {},
   "source": [
    "**There are some rows missing the Processor type. Fill this with suitable processor type.**"
   ]
  },
  {
   "cell_type": "code",
   "execution_count": 16,
   "id": "6c80b19d",
   "metadata": {
    "scrolled": false
   },
   "outputs": [
    {
     "data": {
      "text/html": [
       "<div>\n",
       "<style scoped>\n",
       "    .dataframe tbody tr th:only-of-type {\n",
       "        vertical-align: middle;\n",
       "    }\n",
       "\n",
       "    .dataframe tbody tr th {\n",
       "        vertical-align: top;\n",
       "    }\n",
       "\n",
       "    .dataframe thead th {\n",
       "        text-align: right;\n",
       "    }\n",
       "</style>\n",
       "<table border=\"1\" class=\"dataframe\">\n",
       "  <thead>\n",
       "    <tr style=\"text-align: right;\">\n",
       "      <th></th>\n",
       "      <th>Product</th>\n",
       "      <th>Rating</th>\n",
       "      <th>MRP</th>\n",
       "      <th>Feature</th>\n",
       "      <th>Brand</th>\n",
       "      <th>Processor Type</th>\n",
       "      <th>Operating System</th>\n",
       "      <th>RAM</th>\n",
       "      <th>Storage</th>\n",
       "    </tr>\n",
       "  </thead>\n",
       "  <tbody>\n",
       "    <tr>\n",
       "      <th>6</th>\n",
       "      <td>DELL Inspiron Core i3 11th Gen - (8 GB/1 TB HDD/256 GB SSD/Windows 11 Home) D560841WIN9S Thin and Ligh...</td>\n",
       "      <td>4.3</td>\n",
       "      <td>38990</td>\n",
       "      <td>Processor: Intel i3-1115G4 (Base- 1.70 GHz &amp; Turbo up to 4.10 GHz) 2 CoresRAM &amp; Storage: 8GB DDR4 &amp; 1TB + 256GB SSDGraphics &amp; Keyboard: Integrated &amp; Standard KeyboardDisplay: 15.6\" FHD WVA AG Narrow BorderPorts: 2x USB 3.2 Gen1 ,1x USB 2.0, HDMI 1.4, SD Card reader, Audio jack, 1 M.2 2230/2280 slot for solid-state drive/Intel OptaneIntel Core i3 Processor (11th Gen)8 GB DDR4 RAMWindows 11 Operating System1 TB HDD|256 GB SSD39.62 cm (15.6 inch) Display1 YEAR</td>\n",
       "      <td>DELL</td>\n",
       "      <td></td>\n",
       "      <td>Windows 11</td>\n",
       "      <td>8 GB DDR4 RAM</td>\n",
       "      <td>1 TB HDD256 GB SSD</td>\n",
       "    </tr>\n",
       "    <tr>\n",
       "      <th>8</th>\n",
       "      <td>realme Book (Slim) Core i3 11th Gen - (8 GB/256 GB SSD/Windows 10 Home) RMNB1001 Thin and Light Laptop</td>\n",
       "      <td>4.4</td>\n",
       "      <td>46990</td>\n",
       "      <td>Stylish &amp; Portable Thin and Light Laptop14 inch 2K QHD, IPS LCD Display ( 400nits peak brightness, 100% sRGB, 3:2 aspect ratio, Full Vision Display)Finger Print Sensor for Faster System AccessLight Laptop without Optical Disk DriveIntel Core i3 Processor (11th Gen)8 GB DDR4 RAM64 bit Windows 10 Operating System256 GB SSD35.56 cm (14 inch) DisplayNA1 Year Domestic Warranty</td>\n",
       "      <td>realme</td>\n",
       "      <td></td>\n",
       "      <td>64 bit Windows 10</td>\n",
       "      <td>8 GB DDR4 RAM</td>\n",
       "      <td>256 GB SSD</td>\n",
       "    </tr>\n",
       "    <tr>\n",
       "      <th>29</th>\n",
       "      <td>realme Book (Slim) Core i3 11th Gen - (8 GB/256 GB SSD/Windows 10 Home) RMNB1001 Thin and Light Laptop</td>\n",
       "      <td>4.4</td>\n",
       "      <td>46990</td>\n",
       "      <td>Stylish &amp; Portable Thin and Light Laptop14 inch 2K QHD, IPS LCD Display ( 400nits peak brightness, 100% sRGB, 3:2 aspect ratio, Full Vision Display)Finger Print Sensor for Faster System AccessLight Laptop without Optical Disk DriveIntel Core i3 Processor (11th Gen)8 GB DDR4 RAM64 bit Windows 10 Operating System256 GB SSD35.56 cm (14 inch) DisplayNA1 Year Domestic Warranty</td>\n",
       "      <td>realme</td>\n",
       "      <td></td>\n",
       "      <td>64 bit Windows 10</td>\n",
       "      <td>8 GB DDR4 RAM</td>\n",
       "      <td>256 GB SSD</td>\n",
       "    </tr>\n",
       "    <tr>\n",
       "      <th>33</th>\n",
       "      <td>acer Aspire 7 Ryzen 5 Hexa Core AMD R5-5500U - (8 GB/512 GB SSD/Windows 11 Home/4 GB Graphics/NVIDIA G...</td>\n",
       "      <td>4.4</td>\n",
       "      <td>47990</td>\n",
       "      <td>Free upgrade to Windows 11 when availableAMD Ryzen 5 Hexa Core Processor8 GB DDR4 RAM64 bit Windows 11 Operating System512 GB SSD39.62 cm (15.6 inch) DisplayAcer Collection , Acer Product Registration, Acer Care Center, Quick Access1 Year International Travelers Warranty (ITW)</td>\n",
       "      <td>acer</td>\n",
       "      <td></td>\n",
       "      <td>64 bit Windows 11</td>\n",
       "      <td>8 GB DDR4 RAM</td>\n",
       "      <td>512 GB SSD</td>\n",
       "    </tr>\n",
       "    <tr>\n",
       "      <th>53</th>\n",
       "      <td>realme Book(Slim) Intel Evo Core i5 11th Gen - (8 GB/512 GB SSD/Windows 10 Home) RMNB1002 Thin and Lig...</td>\n",
       "      <td>4.4</td>\n",
       "      <td>59990</td>\n",
       "      <td>Powered by 11th Gen Intel Evo Core i5 ProcessorMicrosoft Office 2019 Home &amp; Student IncludedStylish Thin and Light Laptop without Optical Disk DriveIntel Core i5 Processor (11th Gen)8 GB DDR4 RAM64 bit Windows 10 Operating System512 GB SSD35.56 cm (14 inch) DisplayMicrosoft Office 2019 Home &amp; Student1 Year Domestic Warranty</td>\n",
       "      <td>realme</td>\n",
       "      <td></td>\n",
       "      <td>64 bit Windows 10</td>\n",
       "      <td>8 GB DDR4 RAM</td>\n",
       "      <td>512 GB SSD</td>\n",
       "    </tr>\n",
       "    <tr>\n",
       "      <th>54</th>\n",
       "      <td>acer Aspire 7 Core i5 10th Gen - (8 GB/512 GB SSD/Windows 10 Home/4 GB Graphics/NVIDIA GeForce GTX 165...</td>\n",
       "      <td>4.4</td>\n",
       "      <td>47990</td>\n",
       "      <td>Free upgrade to Windows 11 when availableIntel Core i5 Processor (10th Gen)8 GB DDR4 RAM64 bit Windows 10 Operating System512 GB SSD39.62 cm (15.6 inch) DisplayQuick Access, Acer Care Center, Acer Product Registration, Acer Collection1 Year International Travelers Warranty</td>\n",
       "      <td>acer</td>\n",
       "      <td></td>\n",
       "      <td>64 bit Windows 10</td>\n",
       "      <td>8 GB DDR4 RAM</td>\n",
       "      <td>512 GB SSD</td>\n",
       "    </tr>\n",
       "    <tr>\n",
       "      <th>69</th>\n",
       "      <td>DELL Ryzen 5 Hexa Core AMD R5-5600H - (16 GB/512 GB SSD/Windows 11 Home/4 GB Graphics/NVIDIA GeForce R...</td>\n",
       "      <td>4.6</td>\n",
       "      <td>70990</td>\n",
       "      <td>Processor: AMD Ryzen R5-5600H (3.30 GHz up to 4.20 GHz) 16MB L3RAM &amp; Storage: 16GB DDR4 (2 DIMM Slots) &amp; 512GB SSDGraphics: NVIDIA GEFORCE RTX 3050 (4GB GDDR6) TGP Up To 80WDisplay: 15.6\" FHD WVA AG 250 nits 120Hz Narrow Border, Backlit Keyboard OrangeColor: Phantom Grey with specklesPorts: (1) HDMI 2.1, (2) SuperSpeed USB 2.0 Gen 1 Type-A including (1) with PowerShare, (1) SuperSpeed USB 3.2, (1) USB-C Data/Display Port Alt-Mode, Headphone/Mic, (1) RJ45WiFi &amp; BT: Killer Wi-Fi 6 AX1650 (2x2) and BluetoothAMD Ryzen 5 Hexa Core Processor16 GB DDR4 RAM64 bit Windows 11 Operating System512 GB SSD39.62 cm (15.6 inch) DisplayOffice Home and Student 20211 Year Onsite Hardware Service</td>\n",
       "      <td>DELL</td>\n",
       "      <td></td>\n",
       "      <td>64 bit Windows 11</td>\n",
       "      <td>16 GB DDR4 RAM</td>\n",
       "      <td>512 GB SSD</td>\n",
       "    </tr>\n",
       "    <tr>\n",
       "      <th>83</th>\n",
       "      <td>SAMSUNG Galaxy Book Go Snapdragon 7c Gen 2 - (4 GB/128 GB EMMC Storage/Windows 11 Home) NP340XLA-KA1IN...</td>\n",
       "      <td>4.4</td>\n",
       "      <td>32990</td>\n",
       "      <td>Qualcomm Snapdragon 7c Gen 2 Processor4 GB LPDDR4X RAMWindows 11 Operating System35.56 cm (14 Inch) DisplayOffice Home and Student 20211 Year Onsite Warranty</td>\n",
       "      <td>SAMSUNG</td>\n",
       "      <td></td>\n",
       "      <td>Windows 11</td>\n",
       "      <td>4 GB LPDDR4X RAM</td>\n",
       "      <td></td>\n",
       "    </tr>\n",
       "    <tr>\n",
       "      <th>94</th>\n",
       "      <td>DELL Inspiron Pentium Silver - (8 GB/256 GB SSD/Windows 11 Home) Inspiron 3521 Notebook</td>\n",
       "      <td>4.2</td>\n",
       "      <td>30428</td>\n",
       "      <td>Processor: Intel PQC-N5030 (1.10 GHz up to 3.10 GHz)RAM &amp; Storage: 8GB DDR4 &amp; 256GB SSDDisplay: 15.6\" HD AG Narrow BorderSoftware: Win 11 + Office H&amp;S 20212x USB 3.2 Gen1 ,1x USB 2.0, HDMI 1.4, SD Card reader, Audio jack, 1 M.2 2230/2280 slot for solid-state drive/Intel OptaneWiFi &amp; BT: 802.11ac 1x1 WiFi and BluetoothIntel Pentium Silver Processor8 GB DDR4 RAM64 bit Windows 11 Operating System256 GB SSD39.62 cm (15.6 Inch) Display1 Year Onsite Warranty</td>\n",
       "      <td>DELL</td>\n",
       "      <td></td>\n",
       "      <td>64 bit Windows 11</td>\n",
       "      <td>8 GB DDR4 RAM</td>\n",
       "      <td>256 GB SSD</td>\n",
       "    </tr>\n",
       "    <tr>\n",
       "      <th>116</th>\n",
       "      <td>realme Book(Slim) Intel Evo Core i5 11th Gen - (8 GB/512 GB SSD/Windows 10 Home) RMNB1002 Thin and Lig...</td>\n",
       "      <td>4.4</td>\n",
       "      <td>59990</td>\n",
       "      <td>Powered by 11th Gen Intel Evo Core i5 ProcessorMicrosoft Office 2019 Home &amp; Student IncludedStylish Thin and Light Laptop without Optical Disk DriveIntel Core i5 Processor (11th Gen)8 GB DDR4 RAM64 bit Windows 10 Operating System512 GB SSD35.56 cm (14 inch) DisplayMicrosoft Office 2019 Home &amp; Student1 Year Domestic Warranty</td>\n",
       "      <td>realme</td>\n",
       "      <td></td>\n",
       "      <td>64 bit Windows 10</td>\n",
       "      <td>8 GB DDR4 RAM</td>\n",
       "      <td>512 GB SSD</td>\n",
       "    </tr>\n",
       "    <tr>\n",
       "      <th>122</th>\n",
       "      <td>DELL Ryzen 7 Octa Core AMD R7-5800H - (16 GB/512 GB SSD/Windows 11 Home/4 GB Graphics/NVIDIA GeForce R...</td>\n",
       "      <td>5.0</td>\n",
       "      <td>89081</td>\n",
       "      <td>NVIDIA RTX 3050 Graphics upto 90W TGP15.6 inch Full HD AG Display (250 nits Brightness, 120Hz, Narrow Border)Alienware Command CenterAMD Ryzen 7 Octa Core Processor16 GB DDR4 RAM64 bit Windows 11 Operating System512 GB SSD39.62 cm (15.6 inch) DisplayOffice Home and Student 20211 Year Premium Support</td>\n",
       "      <td>DELL</td>\n",
       "      <td></td>\n",
       "      <td>64 bit Windows 11</td>\n",
       "      <td>16 GB DDR4 RAM</td>\n",
       "      <td>512 GB SSD</td>\n",
       "    </tr>\n",
       "    <tr>\n",
       "      <th>142</th>\n",
       "      <td>DELL Vostro Ryzen 3 Dual Core R3-3250U - (8 GB/1 TB HDD/Windows 11 Home) Vostro 3405 Thin and Light La...</td>\n",
       "      <td>3.8</td>\n",
       "      <td>33099</td>\n",
       "      <td>Processor: AMD Ryzen 3-3250U (2.60 GHz up to 3.50 GHz)RAM &amp; Storage: 8GB DDR4 (2 DIMM Slots) &amp; 1TB HDDSoftware: Win 11 + Office H&amp;S 2021Display: 14.0\" FHD WVA AG Narrow BorderPorts: USB 3.2 Gen 1 (x2), USB2.0 (x1), HDMI 1.4, SD Media Card Reader (SD, SDHC, SDXC), RJ45 - 10/100MbpsWiFi &amp; BT: 802.11ac 1x1 WiFi and BluetoothAMD Ryzen 3 Dual Core Processor8 GB DDR4 RAM64 bit Windows 11 Operating System1 TB HDD88.9 cm (35 cm) DisplayMicrosoft Office Home and Student 20211 Year Onsite Warranty1 Year Onsite Warranty</td>\n",
       "      <td>DELL</td>\n",
       "      <td></td>\n",
       "      <td>64 bit Windows 11</td>\n",
       "      <td>8 GB DDR4 RAM</td>\n",
       "      <td>1 TB HDD</td>\n",
       "    </tr>\n",
       "    <tr>\n",
       "      <th>172</th>\n",
       "      <td>DELL Inspiron Core i3 11th Gen - (8 GB/1 TB HDD/256 GB SSD/Windows 11 Home) Inspiron 3511,Inspiron 300...</td>\n",
       "      <td>4.3</td>\n",
       "      <td>45900</td>\n",
       "      <td>Processor: Intel i3-1115G4 (Base- 1.70 GHz &amp; Turbo up to 4.10 GHz) 2 CoresRAM &amp; Storage: 8GB DDR4 &amp; 1TB + 256GB SSDGraphics &amp; Keyboard: Integrated &amp; Standard KeyboardDisplay: 15.6\" FHD WVA AG Narrow BorderPorts: 2x USB 3.2 Gen1 ,1x USB 2.0, HDMI 1.4, SD Card reader, Audio jack, 1 M.2 2230/2280 slot for solid-state drive/Intel OptaneIntel Core i3 Processor (11th Gen)8 GB DDR4 RAM64 bit Windows 11 Operating System1 TB HDD|256 GB SSD39.62 cm (15.6 inch) Display1 Year Onsite Warranty</td>\n",
       "      <td>DELL</td>\n",
       "      <td></td>\n",
       "      <td>64 bit Windows 11</td>\n",
       "      <td>8 GB DDR4 RAM</td>\n",
       "      <td>1 TB HDD256 GB SSD</td>\n",
       "    </tr>\n",
       "    <tr>\n",
       "      <th>232</th>\n",
       "      <td>MSI Pulse GL66 Core i7 11th Gen - (16 GB/1 TB SSD/Windows 10 Home/6 GB Graphics/NVIDIA GeForce RTX 306...</td>\n",
       "      <td>4.5</td>\n",
       "      <td>114990</td>\n",
       "      <td>Pre-installed Genuine Windows 10 Home OSIntel Core i7 Processor (11th Gen)16 GB DDR4 RAM64 bit Windows 10 Operating System1 TB SSD39.62 cm (15.6 inches) DisplayCooler Boost 5, Hi-Res Audio, Nahimic 3, Speaker Tuning Engine, MSI Center2 Year On-Site Warranty</td>\n",
       "      <td>MSI</td>\n",
       "      <td></td>\n",
       "      <td>64 bit Windows 10</td>\n",
       "      <td>16 GB DDR4 RAM</td>\n",
       "      <td>1 TB SSD</td>\n",
       "    </tr>\n",
       "    <tr>\n",
       "      <th>249</th>\n",
       "      <td>DELL Inspiron Core i3 11th Gen - (8 GB/256 GB SSD/Windows 11 Home) INSPIRON 5410 2 in 1 Laptop</td>\n",
       "      <td>4.3</td>\n",
       "      <td>54900</td>\n",
       "      <td>Processor: Intel i3-1125G4 (2.00 GHz up to 3.70 GHz)RAM &amp; Storage: 8GB DDR4 (2 DIMM Slots) &amp; 256GB SSDSoftware: Win 11 + Office H&amp;S 2021Display: 14.0\" FHD WVA Truelife Touch Narrow Border 60HzPorts: \"1 HDMI out 1.4a, 2 USB 3.2 Gen 1 Type-A, 1 USB 3.2 Gen 2 Type-C with Power Delivery and Video, 1 DC-in port, 1 3.5mm Headphone/Microphone combination jack\"WiFi &amp; BT: Intel Wi-Fi 6 2x2 (Gig+) and Bluetooth 5.1Intel Core i3 Processor (11th Gen)8 GB DDR4 RAM64 bit Windows 11 Operating System256 GB SSD35.56 cm (14 inch) Touchscreen DisplayOffice Home and Student 20211 Year Onsite Warranty</td>\n",
       "      <td>DELL</td>\n",
       "      <td></td>\n",
       "      <td>64 bit Windows 11</td>\n",
       "      <td>8 GB DDR4 RAM</td>\n",
       "      <td>256 GB SSD</td>\n",
       "    </tr>\n",
       "    <tr>\n",
       "      <th>253</th>\n",
       "      <td>DELL Inspiron Ryzen 5 Dual Core 3450U - (8 GB/512 GB SSD/Windows 11 Home) INSPIRON 3515 Thin and Light...</td>\n",
       "      <td>4.3</td>\n",
       "      <td>48184</td>\n",
       "      <td>Processor: AMD Ryzen 5-3450U (2.10 GHz up to 3.50 GHz)RAM &amp; Storage: 8GB DDR4 (2 DIMM Slots) &amp; 512GB SSDSoftware: Win 11 + Office H&amp;S 2021Display: 15.6\" FHD WVA AG Narrow BorderPorts: \"2x USB 3.2 Gen1 ,1x USB 2.0, HDMI 1.4b, SD Card reader, Audio jackWiFi &amp; BT: 802.11ac 1x1 WiFi and BluetoothAMD Ryzen 5 Dual Core Processor8 GB DDR4 RAM64 bit Windows 11 Operating System512 GB SSD39.62 cm (15.6 Inch) DisplayMicrosoft Office Home &amp; Student 20211 Year Onsite Warranty</td>\n",
       "      <td>DELL</td>\n",
       "      <td></td>\n",
       "      <td>64 bit Windows 11</td>\n",
       "      <td>8 GB DDR4 RAM</td>\n",
       "      <td>512 GB SSD</td>\n",
       "    </tr>\n",
       "    <tr>\n",
       "      <th>259</th>\n",
       "      <td>DELL Core i5 11th Gen - (8 GB/512 GB SSD/Windows 11 Home/4 GB Graphics/NVIDIA GeForce RTX 3050) G15-55...</td>\n",
       "      <td>4.4</td>\n",
       "      <td>67990</td>\n",
       "      <td>NVIDIA RTX 3050 Graphics upto 90W TGP15.6 inch Full HD AG Display (250 nits Brightness, 120Hz, Narrow Border)Alienware Command CenterIntel Core i5 Processor (11th Gen)8 GB DDR4 RAM64 bit Windows 11 Operating System512 GB SSD39.62 cm (15.6 inch) DisplayOffice Home and Student 20211 Year Onsite Hardware Service</td>\n",
       "      <td>DELL</td>\n",
       "      <td></td>\n",
       "      <td>64 bit Windows 11</td>\n",
       "      <td>8 GB DDR4 RAM</td>\n",
       "      <td>512 GB SSD</td>\n",
       "    </tr>\n",
       "    <tr>\n",
       "      <th>349</th>\n",
       "      <td>DELL Vostro Core i5 11th Gen - (8 GB/512 GB SSD/Windows 10/2 GB Graphics) Vostro 3400 Thin and Light L...</td>\n",
       "      <td>3.9</td>\n",
       "      <td>63090</td>\n",
       "      <td>Processor: 11th Generation Intel Core i5-1135G7 Processor (8MB Cache, up to 4.2 GHz),Memory &amp; Storage:8GB DDR4, 2666MHz | 512GB M.2 PCIe NVMe Solid State DriveDisplay:14.0-inch FHD (1920 x 1080) Anti-glare LED Backlight Narrow Border WVA DisplayGraphics: Dedicated NVIDIA MX330 2GB GDDR5Operating System &amp; Software:Windows 10 Home Single Language | Microsoft Office Home and Student 2019I/O ports: 2x USB 3.2 Gen-1, 1xUSB 2.0, 1xHDMI port, 1xEthernet port,1x Headset jack, 1xSD Media Card ReaderIntel Core i5 Processor (11th Gen)8 GB DDR4 RAM64 bit Windows 10 Operating System512 GB SSD88.9 cm (35 cm) Display1 Year Onsite Warranty</td>\n",
       "      <td>DELL</td>\n",
       "      <td></td>\n",
       "      <td>5Operating System64 bit Windows 10</td>\n",
       "      <td>8 GB DDR4 RAM</td>\n",
       "      <td>512 GB SSD</td>\n",
       "    </tr>\n",
       "    <tr>\n",
       "      <th>355</th>\n",
       "      <td>DELL Vostro Core i3 10th Gen - (8 GB/512 GB SSD/Windows 10) Vostro 3401 Thin and Light Laptop</td>\n",
       "      <td>4.1</td>\n",
       "      <td>43090</td>\n",
       "      <td>Processor: 10th Generation Intel Core i3-1005G1 Processor (4MB Cache, up to 3.4 GHz)RAM &amp; Storage:8GB RAM | 512GB M.2 PCIe NVMe Solid State DriveDisplay:14.0-inch FHD (1920 x 1080) Anti-glare LED Backlight Narrow Border WVA DisplayGraphics:Intel UHD Graphics with shared graphics memoryOperating System &amp; Software:Windows 10 Home Single Language | Microsoft Office Home and Student 2019Ports: USB 3.2 Gen 1 (x2), USB2.0 (x1), HDMI 1.4,SD Media Card Reader (SD, SDHC, SDXC), RJ45 - 10/100/1000Mbps GbEIntel Core i3 Processor (10th Gen)8 GB DDR4 RAM64 bit Windows 10 Operating System512 GB SSD35.56 cm (14 Inch) DisplayMicrosoft Office Home and Student 20191 Year Onsite Warranty</td>\n",
       "      <td>DELL</td>\n",
       "      <td></td>\n",
       "      <td>64 bit Windows 10</td>\n",
       "      <td>8 GB DDR4 RAM</td>\n",
       "      <td>512 GB SSD</td>\n",
       "    </tr>\n",
       "    <tr>\n",
       "      <th>393</th>\n",
       "      <td>acer Aspire 5 Core i5 11th Gen - (8 GB/1 TB HDD/Windows 10 Home) A515-56 Thin and Light Laptop</td>\n",
       "      <td>4.0</td>\n",
       "      <td>47130</td>\n",
       "      <td>Free upgrade to Windows 11 when availableIntel Core i5 Processor (11th Gen)8 GB DDR4 RAM64 bit Windows 10 Operating System1 TB HDD39.62 cm (15.6 inch) DisplayAcer Care Center, Quick Access, Acer Product Registration1 Year International Travelers Warranty (ITW)</td>\n",
       "      <td>acer</td>\n",
       "      <td></td>\n",
       "      <td>64 bit Windows 10</td>\n",
       "      <td>8 GB DDR4 RAM</td>\n",
       "      <td>1 TB HDD</td>\n",
       "    </tr>\n",
       "    <tr>\n",
       "      <th>438</th>\n",
       "      <td>acer Predator Helios 300 Core i5 7th Gen - (8 GB/1 TB HDD/128 GB SSD/Windows 10 Home/4 GB Graphics/NVI...</td>\n",
       "      <td>4.5</td>\n",
       "      <td>129999</td>\n",
       "      <td>Pre-installed Genuine Windows 10 Operating System (Includes Built-in Security, Free Automated Updates, Latest Features)Dual Fan Cooling with Metal AeroBlade 3D128 GB SSD for Reduced Boot Up Time and in Game LoadingUpgradable SSD Upto 512 GB and RAM Upto 32 GBNVIDIA Geforce GTX 1050Ti for Desktop Level PerformanceIntel Core i5 Processor (7th Gen)8 GB DDR4 RAM64 bit Windows 10 Operating System1 TB HDD|128 GB SSD39.62 cm (15.6 inch) DisplayAcer Care Center, Acer Collection, Acer Configuration Manager, Quick Access1 Year International Travelers Warranty (ITW)</td>\n",
       "      <td>acer</td>\n",
       "      <td></td>\n",
       "      <td>Windows 1064 bit Windows 10</td>\n",
       "      <td>128 GB SSD for Reduced Boot Up Time and in Game LoadingUpgradable SSD Upto 512 GB and RAM8 GB DDR4 RAM</td>\n",
       "      <td>128 GB SSD1 TB HDD128 GB SSD</td>\n",
       "    </tr>\n",
       "    <tr>\n",
       "      <th>443</th>\n",
       "      <td>MSI Pulse GL66 Core i7 11th Gen - (16 GB/512 GB SSD/Windows 10 Home/4 GB Graphics/NVIDIA GeForce RTX 3...</td>\n",
       "      <td>4.6</td>\n",
       "      <td>107790</td>\n",
       "      <td>Pre-installed Genuine Windows 10 Home OSIntel Core i7 Processor (11th Gen)16 GB DDR4 RAM64 bit Windows 10 Operating System512 GB SSD39.62 cm (15.6 inches) DisplayCooler Boost 5, Hi-Res Audio, Nahimic 3, Speaker Tuning Engine, MSI Center2 Year Warranty Term</td>\n",
       "      <td>MSI</td>\n",
       "      <td></td>\n",
       "      <td>64 bit Windows 10</td>\n",
       "      <td>16 GB DDR4 RAM</td>\n",
       "      <td>512 GB SSD</td>\n",
       "    </tr>\n",
       "    <tr>\n",
       "      <th>502</th>\n",
       "      <td>acer Nitro 5 Ryzen 5 Hexa Core 4600H - (8 GB/1 TB HDD/256 GB SSD/Windows 10 Home/4 GB Graphics/NVIDIA ...</td>\n",
       "      <td>4.5</td>\n",
       "      <td>61490</td>\n",
       "      <td>Free upgrade to Windows 11 when availableAMD Ryzen 5 Hexa Core Processor8 GB DDR4 RAM64 bit Windows 10 Operating System1 TB HDD|256 GB SSD39.62 cm (15.6 inch) DisplayAcer Care Center, Acer Product Registration, Acer Configuration Manager, NitroSense1 Year International Travelers Warranty (ITW)</td>\n",
       "      <td>acer</td>\n",
       "      <td></td>\n",
       "      <td>64 bit Windows 10</td>\n",
       "      <td>8 GB DDR4 RAM</td>\n",
       "      <td>1 TB HDD256 GB SSD</td>\n",
       "    </tr>\n",
       "    <tr>\n",
       "      <th>508</th>\n",
       "      <td>MSI GF63 Thin Core i5 9th Gen - (8 GB/1 TB HDD/Windows 10 Home/4 GB Graphics/NVIDIA GeForce GTX 1650 T...</td>\n",
       "      <td>4.2</td>\n",
       "      <td>62190</td>\n",
       "      <td>15.6 inches Full HD IPS Thin Bezel Display (60Hz, 45% NTSC Color Gamut)Intel Core i5 Processor (9th Gen)8 GB DDR4 RAM64 bit Windows 10 Operating System1 TB HDD39.62 cm (15.6 inch) DisplayCooler Boost, Audio Boost, Dragon Center, Nahimic 32 Year Warranty Term for Gaming</td>\n",
       "      <td>MSI</td>\n",
       "      <td></td>\n",
       "      <td>64 bit Windows 10</td>\n",
       "      <td>8 GB DDR4 RAM</td>\n",
       "      <td>1 TB HDD</td>\n",
       "    </tr>\n",
       "    <tr>\n",
       "      <th>593</th>\n",
       "      <td>DELL Core i7 11th Gen - (16 GB/512 GB SSD/Windows 11 Home/4 GB Graphics/NVIDIA GeForce RTX 3050 Ti) G1...</td>\n",
       "      <td>4.2</td>\n",
       "      <td>101990</td>\n",
       "      <td>Processor: Intel i7-11800H- (2.30 GHz up to 4.60 GHz) 16MB L3RAM &amp; Storage: 16GB DDR4 (2 DIMM Slots) &amp; 512GB SSDGraphics: NVIDIA� GEFORCE� RTX 3050 Ti (4GB GDDR6)Display: 15.6\" FHD WVA AG 250 nits 120Hz Narrow Border, Backlit Keyboard OrangeColor: Dark Shadow GreyPorts: 1. HiSpeed USB 2.0 | 2. HiSpeed USB 2.0 with PowerShare | 3. USB 3.2 Gen 1 Type-C port with DisplayPort with alt mode | 4. SuperSpeed USB 3.2 | 5. HDMI | 6. Power in | 7. RJ45 | 8. Headphones/micIntel Core i7 Processor (11th Gen)16 GB DDR4 RAM64 bit Windows 11 Operating System512 GB SSD39.62 cm (15.6 inch) DisplayOffice Home and Student 20211 Year Premium Support</td>\n",
       "      <td>DELL</td>\n",
       "      <td></td>\n",
       "      <td>64 bit Windows 11</td>\n",
       "      <td>16 GB DDR4 RAM</td>\n",
       "      <td>512 GB SSD</td>\n",
       "    </tr>\n",
       "    <tr>\n",
       "      <th>622</th>\n",
       "      <td>MSI GP65 Leopard Core i7 10th Gen - (16 GB/1 TB HDD/256 GB SSD/Windows 10 Home/6 GB Graphics/NVIDIA Ge...</td>\n",
       "      <td>4.5</td>\n",
       "      <td>99990</td>\n",
       "      <td>15.6 inches Full HD IPS Thin Bezel Display (144Hz, 45% NTSC Color Gamut)Intel Core i7 Processor (10th Gen)16 GB DDR4 RAM64 bit Windows 10 Operating System1 TB HDD|256 GB SSD39.62 cm (15.6 inch) DisplaySHIFT, SteelSeries Engine 3, Matrix Display (Extend), Dragon Center, GamingMode, VR Ready, Cooler Boost 5, Nahimic 3, Nahimic VR, Giant Speaker2 Year Warranty Term for Gaming</td>\n",
       "      <td>MSI</td>\n",
       "      <td></td>\n",
       "      <td>64 bit Windows 10</td>\n",
       "      <td>16 GB DDR4 RAM</td>\n",
       "      <td>1 TB HDD256 GB SSD</td>\n",
       "    </tr>\n",
       "    <tr>\n",
       "      <th>628</th>\n",
       "      <td>ALIENWARE Core i9 10th Gen - (32 GB/1 TB SSD/Windows 10 Home/8 GB Graphics/NVIDIA GeForce RTX 2080 wit...</td>\n",
       "      <td>4.6</td>\n",
       "      <td>345390</td>\n",
       "      <td>NVIDIA GeForce RTX 2080 with Max-Q15.6 inch Full HD LED Backlit Anti-glare IPS Display, 300 Hz, 300 NitsAlienware Cryo-tech thermal technology to keep the system cool and running at highest performanceTobii-eye tracking to track head pose, presence, fine gaze and eye positionIn-built Alienware Command center software with enhanced control over system settingsIntel Core i9 Processor (10th Gen)32 GB DDR4 RAM64 bit Windows 10 Operating System1 TB SSD39.62 cm (15.6 inch) DisplayMicrosoft Office Home and Student 20191 Year Limited Hardware Warranty, In Home Service After Remote Diagnosis - Retail</td>\n",
       "      <td>ALIENWARE</td>\n",
       "      <td></td>\n",
       "      <td>64 bit Windows 10</td>\n",
       "      <td>32 GB DDR4 RAM</td>\n",
       "      <td>1 TB SSD</td>\n",
       "    </tr>\n",
       "    <tr>\n",
       "      <th>643</th>\n",
       "      <td>ASUS ZenBook Pro 15 Core i7 8th Gen - (16 GB/1 TB SSD/Windows 10 Home/4 GB Graphics) UX580GE-E2014T La...</td>\n",
       "      <td>4.8</td>\n",
       "      <td>110990</td>\n",
       "      <td>First Ever ScreenpadNVIDIA GeForce GTX 1050 TiIntel Core i7 Processor (8th Gen)16 GB DDR4 RAM64 bit Windows 10 Operating System1 TB SSD39.62 cm (15.6 inch) Touchscreen Display1 Year Onsite Warranty</td>\n",
       "      <td>ASUS</td>\n",
       "      <td></td>\n",
       "      <td>64 bit Windows 10</td>\n",
       "      <td>16 GB DDR4 RAM</td>\n",
       "      <td>1 TB SSD</td>\n",
       "    </tr>\n",
       "    <tr>\n",
       "      <th>644</th>\n",
       "      <td>acer Predator Helios 300 Core i5 8th Gen - (8 GB/1 TB HDD/128 GB SSD/Windows 10 Home/4 GB Graphics/NVI...</td>\n",
       "      <td>4.6</td>\n",
       "      <td>74590</td>\n",
       "      <td>NVIDIA Geforce GTX 1050 Ti for Desktop Level PerformanceOptimized Dolby Audio Premium Sound Enhancement128 GB SSD Capacity for Reduced Boot Up Time and in Game LoadingDual Fan Cooling with Metal AeroBlade for Interuption Free GamingFineTip Backlit Keyboard with Independent Standard Numeric KeypadIntel Core i5 Processor (8th Gen)8 GB DDR4 RAM64 bit Windows 10 Operating System1 TB HDD|128 GB SSD39.62 cm (15.6 inch) DisplayAcer Care Center, Acer Portal, Acer Quick Access, Acer Configuration Manager1 Year International Travelers Warranty (ITW)</td>\n",
       "      <td>acer</td>\n",
       "      <td></td>\n",
       "      <td>64 bit Windows 10</td>\n",
       "      <td>8 GB DDR4 RAM</td>\n",
       "      <td>128 GB SSD1 TB HDD128 GB SSD</td>\n",
       "    </tr>\n",
       "    <tr>\n",
       "      <th>645</th>\n",
       "      <td>DELL Ryzen 5 Hexa Core AMD R5-5600H - (8 GB/512 GB SSD/Windows 11 Home/4 GB Graphics/NVIDIA GeForce RT...</td>\n",
       "      <td>4.7</td>\n",
       "      <td>71990</td>\n",
       "      <td>NVIDIA RTX 3050 Graphics upto 90W TGP15.6 inch Full HD AG Display (250 nits Brightness, 120Hz, Narrow Border)Alienware Command CenterAMD Ryzen 5 Hexa Core Processor8 GB DDR4 RAM64 bit Windows 11 Operating System512 GB SSD39.62 cm (15.6 inch) DisplayOffice Home and Student 20211 Year Onsite Hardware Service</td>\n",
       "      <td>DELL</td>\n",
       "      <td></td>\n",
       "      <td>64 bit Windows 11</td>\n",
       "      <td>8 GB DDR4 RAM</td>\n",
       "      <td>512 GB SSD</td>\n",
       "    </tr>\n",
       "    <tr>\n",
       "      <th>688</th>\n",
       "      <td>ALIENWARE Core i7 10th Gen - (16 GB/1 TB SSD/Windows 10 Home/6 GB Graphics/NVIDIA GeForce RTX 2060/300...</td>\n",
       "      <td>4.1</td>\n",
       "      <td>214790</td>\n",
       "      <td>NVIDIA GeForce RTX 206015.6 inch Full HD LED Backlit Anti-glare IPS Display, 300 Hz, 300 NitsAlienware Cryo-tech thermal technology to keep the system cool and running at highest performanceTobii-eye tracking to track head pose, presence, fine gaze and eye positionIn-built Alienware Command center software with enhanced control over system settingsIntel Core i7 Processor (10th Gen)16 GB DDR4 RAM64 bit Windows 10 Operating System1 TB SSD39.62 cm (15.6 inch) DisplayMicrosoft Office Home and Student 20191 Year Complete Cover Warranty</td>\n",
       "      <td>ALIENWARE</td>\n",
       "      <td></td>\n",
       "      <td>64 bit Windows 10</td>\n",
       "      <td>16 GB DDR4 RAM</td>\n",
       "      <td>1 TB SSD</td>\n",
       "    </tr>\n",
       "    <tr>\n",
       "      <th>689</th>\n",
       "      <td>ALIENWARE Core i7 10th Gen - (16 GB/512 GB SSD/Windows 10 Home/6 GB Graphics/NVIDIA GeForce GTX 1660 T...</td>\n",
       "      <td>4.9</td>\n",
       "      <td>199990</td>\n",
       "      <td>NVIDIA GeForce GTX 1660 Ti15.6 inch Full HD LED Backlit Anti-glare IPS Display, 300 Hz, 300 NitsAlienware Cryo-tech thermal technology to keep the system cool and running at highest performanceTobii-eye tracking to track head pose, presence, fine gaze and eye positionIn-built Alienware Command center software with enhanced control over system settingsIntel Core i7 Processor (10th Gen)16 GB DDR4 RAM64 bit Windows 10 Operating System512 GB SSD39.62 cm (15.6 inch) DisplayMicrosoft Office Home and Student 20191 Year Limited Hardware Warranty, In Home Service After Remote Diagnosis - Retail</td>\n",
       "      <td>ALIENWARE</td>\n",
       "      <td></td>\n",
       "      <td>64 bit Windows 10</td>\n",
       "      <td>16 GB DDR4 RAM</td>\n",
       "      <td>512 GB SSD</td>\n",
       "    </tr>\n",
       "  </tbody>\n",
       "</table>\n",
       "</div>"
      ],
      "text/plain": [
       "                                                                                                       Product  \\\n",
       "6    DELL Inspiron Core i3 11th Gen - (8 GB/1 TB HDD/256 GB SSD/Windows 11 Home) D560841WIN9S Thin and Ligh...   \n",
       "8       realme Book (Slim) Core i3 11th Gen - (8 GB/256 GB SSD/Windows 10 Home) RMNB1001 Thin and Light Laptop   \n",
       "29      realme Book (Slim) Core i3 11th Gen - (8 GB/256 GB SSD/Windows 10 Home) RMNB1001 Thin and Light Laptop   \n",
       "33   acer Aspire 7 Ryzen 5 Hexa Core AMD R5-5500U - (8 GB/512 GB SSD/Windows 11 Home/4 GB Graphics/NVIDIA G...   \n",
       "53   realme Book(Slim) Intel Evo Core i5 11th Gen - (8 GB/512 GB SSD/Windows 10 Home) RMNB1002 Thin and Lig...   \n",
       "54   acer Aspire 7 Core i5 10th Gen - (8 GB/512 GB SSD/Windows 10 Home/4 GB Graphics/NVIDIA GeForce GTX 165...   \n",
       "69   DELL Ryzen 5 Hexa Core AMD R5-5600H - (16 GB/512 GB SSD/Windows 11 Home/4 GB Graphics/NVIDIA GeForce R...   \n",
       "83   SAMSUNG Galaxy Book Go Snapdragon 7c Gen 2 - (4 GB/128 GB EMMC Storage/Windows 11 Home) NP340XLA-KA1IN...   \n",
       "94                     DELL Inspiron Pentium Silver - (8 GB/256 GB SSD/Windows 11 Home) Inspiron 3521 Notebook   \n",
       "116  realme Book(Slim) Intel Evo Core i5 11th Gen - (8 GB/512 GB SSD/Windows 10 Home) RMNB1002 Thin and Lig...   \n",
       "122  DELL Ryzen 7 Octa Core AMD R7-5800H - (16 GB/512 GB SSD/Windows 11 Home/4 GB Graphics/NVIDIA GeForce R...   \n",
       "142  DELL Vostro Ryzen 3 Dual Core R3-3250U - (8 GB/1 TB HDD/Windows 11 Home) Vostro 3405 Thin and Light La...   \n",
       "172  DELL Inspiron Core i3 11th Gen - (8 GB/1 TB HDD/256 GB SSD/Windows 11 Home) Inspiron 3511,Inspiron 300...   \n",
       "232  MSI Pulse GL66 Core i7 11th Gen - (16 GB/1 TB SSD/Windows 10 Home/6 GB Graphics/NVIDIA GeForce RTX 306...   \n",
       "249             DELL Inspiron Core i3 11th Gen - (8 GB/256 GB SSD/Windows 11 Home) INSPIRON 5410 2 in 1 Laptop   \n",
       "253  DELL Inspiron Ryzen 5 Dual Core 3450U - (8 GB/512 GB SSD/Windows 11 Home) INSPIRON 3515 Thin and Light...   \n",
       "259  DELL Core i5 11th Gen - (8 GB/512 GB SSD/Windows 11 Home/4 GB Graphics/NVIDIA GeForce RTX 3050) G15-55...   \n",
       "349  DELL Vostro Core i5 11th Gen - (8 GB/512 GB SSD/Windows 10/2 GB Graphics) Vostro 3400 Thin and Light L...   \n",
       "355              DELL Vostro Core i3 10th Gen - (8 GB/512 GB SSD/Windows 10) Vostro 3401 Thin and Light Laptop   \n",
       "393             acer Aspire 5 Core i5 11th Gen - (8 GB/1 TB HDD/Windows 10 Home) A515-56 Thin and Light Laptop   \n",
       "438  acer Predator Helios 300 Core i5 7th Gen - (8 GB/1 TB HDD/128 GB SSD/Windows 10 Home/4 GB Graphics/NVI...   \n",
       "443  MSI Pulse GL66 Core i7 11th Gen - (16 GB/512 GB SSD/Windows 10 Home/4 GB Graphics/NVIDIA GeForce RTX 3...   \n",
       "502  acer Nitro 5 Ryzen 5 Hexa Core 4600H - (8 GB/1 TB HDD/256 GB SSD/Windows 10 Home/4 GB Graphics/NVIDIA ...   \n",
       "508  MSI GF63 Thin Core i5 9th Gen - (8 GB/1 TB HDD/Windows 10 Home/4 GB Graphics/NVIDIA GeForce GTX 1650 T...   \n",
       "593  DELL Core i7 11th Gen - (16 GB/512 GB SSD/Windows 11 Home/4 GB Graphics/NVIDIA GeForce RTX 3050 Ti) G1...   \n",
       "622  MSI GP65 Leopard Core i7 10th Gen - (16 GB/1 TB HDD/256 GB SSD/Windows 10 Home/6 GB Graphics/NVIDIA Ge...   \n",
       "628  ALIENWARE Core i9 10th Gen - (32 GB/1 TB SSD/Windows 10 Home/8 GB Graphics/NVIDIA GeForce RTX 2080 wit...   \n",
       "643  ASUS ZenBook Pro 15 Core i7 8th Gen - (16 GB/1 TB SSD/Windows 10 Home/4 GB Graphics) UX580GE-E2014T La...   \n",
       "644  acer Predator Helios 300 Core i5 8th Gen - (8 GB/1 TB HDD/128 GB SSD/Windows 10 Home/4 GB Graphics/NVI...   \n",
       "645  DELL Ryzen 5 Hexa Core AMD R5-5600H - (8 GB/512 GB SSD/Windows 11 Home/4 GB Graphics/NVIDIA GeForce RT...   \n",
       "688  ALIENWARE Core i7 10th Gen - (16 GB/1 TB SSD/Windows 10 Home/6 GB Graphics/NVIDIA GeForce RTX 2060/300...   \n",
       "689  ALIENWARE Core i7 10th Gen - (16 GB/512 GB SSD/Windows 10 Home/6 GB Graphics/NVIDIA GeForce GTX 1660 T...   \n",
       "\n",
       "     Rating     MRP  \\\n",
       "6       4.3   38990   \n",
       "8       4.4   46990   \n",
       "29      4.4   46990   \n",
       "33      4.4   47990   \n",
       "53      4.4   59990   \n",
       "54      4.4   47990   \n",
       "69      4.6   70990   \n",
       "83      4.4   32990   \n",
       "94      4.2   30428   \n",
       "116     4.4   59990   \n",
       "122     5.0   89081   \n",
       "142     3.8   33099   \n",
       "172     4.3   45900   \n",
       "232     4.5  114990   \n",
       "249     4.3   54900   \n",
       "253     4.3   48184   \n",
       "259     4.4   67990   \n",
       "349     3.9   63090   \n",
       "355     4.1   43090   \n",
       "393     4.0   47130   \n",
       "438     4.5  129999   \n",
       "443     4.6  107790   \n",
       "502     4.5   61490   \n",
       "508     4.2   62190   \n",
       "593     4.2  101990   \n",
       "622     4.5   99990   \n",
       "628     4.6  345390   \n",
       "643     4.8  110990   \n",
       "644     4.6   74590   \n",
       "645     4.7   71990   \n",
       "688     4.1  214790   \n",
       "689     4.9  199990   \n",
       "\n",
       "                                                                                                                                                                                                                                                                                                                                                                                                                                                                                                                                                                                                                                                                                                           Feature  \\\n",
       "6                                                                                                                                                                                                                                    Processor: Intel i3-1115G4 (Base- 1.70 GHz & Turbo up to 4.10 GHz) 2 CoresRAM & Storage: 8GB DDR4 & 1TB + 256GB SSDGraphics & Keyboard: Integrated & Standard KeyboardDisplay: 15.6\" FHD WVA AG Narrow BorderPorts: 2x USB 3.2 Gen1 ,1x USB 2.0, HDMI 1.4, SD Card reader, Audio jack, 1 M.2 2230/2280 slot for solid-state drive/Intel OptaneIntel Core i3 Processor (11th Gen)8 GB DDR4 RAMWindows 11 Operating System1 TB HDD|256 GB SSD39.62 cm (15.6 inch) Display1 YEAR   \n",
       "8                                                                                                                                                                                                                                                                                                                           Stylish & Portable Thin and Light Laptop14 inch 2K QHD, IPS LCD Display ( 400nits peak brightness, 100% sRGB, 3:2 aspect ratio, Full Vision Display)Finger Print Sensor for Faster System AccessLight Laptop without Optical Disk DriveIntel Core i3 Processor (11th Gen)8 GB DDR4 RAM64 bit Windows 10 Operating System256 GB SSD35.56 cm (14 inch) DisplayNA1 Year Domestic Warranty   \n",
       "29                                                                                                                                                                                                                                                                                                                          Stylish & Portable Thin and Light Laptop14 inch 2K QHD, IPS LCD Display ( 400nits peak brightness, 100% sRGB, 3:2 aspect ratio, Full Vision Display)Finger Print Sensor for Faster System AccessLight Laptop without Optical Disk DriveIntel Core i3 Processor (11th Gen)8 GB DDR4 RAM64 bit Windows 10 Operating System256 GB SSD35.56 cm (14 inch) DisplayNA1 Year Domestic Warranty   \n",
       "33                                                                                                                                                                                                                                                                                                                                                                                                                           Free upgrade to Windows 11 when availableAMD Ryzen 5 Hexa Core Processor8 GB DDR4 RAM64 bit Windows 11 Operating System512 GB SSD39.62 cm (15.6 inch) DisplayAcer Collection , Acer Product Registration, Acer Care Center, Quick Access1 Year International Travelers Warranty (ITW)   \n",
       "53                                                                                                                                                                                                                                                                                                                                                                           Powered by 11th Gen Intel Evo Core i5 ProcessorMicrosoft Office 2019 Home & Student IncludedStylish Thin and Light Laptop without Optical Disk DriveIntel Core i5 Processor (11th Gen)8 GB DDR4 RAM64 bit Windows 10 Operating System512 GB SSD35.56 cm (14 inch) DisplayMicrosoft Office 2019 Home & Student1 Year Domestic Warranty   \n",
       "54                                                                                                                                                                                                                                                                                                                                                                                                                               Free upgrade to Windows 11 when availableIntel Core i5 Processor (10th Gen)8 GB DDR4 RAM64 bit Windows 10 Operating System512 GB SSD39.62 cm (15.6 inch) DisplayQuick Access, Acer Care Center, Acer Product Registration, Acer Collection1 Year International Travelers Warranty   \n",
       "69   Processor: AMD Ryzen R5-5600H (3.30 GHz up to 4.20 GHz) 16MB L3RAM & Storage: 16GB DDR4 (2 DIMM Slots) & 512GB SSDGraphics: NVIDIA GEFORCE RTX 3050 (4GB GDDR6) TGP Up To 80WDisplay: 15.6\" FHD WVA AG 250 nits 120Hz Narrow Border, Backlit Keyboard OrangeColor: Phantom Grey with specklesPorts: (1) HDMI 2.1, (2) SuperSpeed USB 2.0 Gen 1 Type-A including (1) with PowerShare, (1) SuperSpeed USB 3.2, (1) USB-C Data/Display Port Alt-Mode, Headphone/Mic, (1) RJ45WiFi & BT: Killer Wi-Fi 6 AX1650 (2x2) and BluetoothAMD Ryzen 5 Hexa Core Processor16 GB DDR4 RAM64 bit Windows 11 Operating System512 GB SSD39.62 cm (15.6 inch) DisplayOffice Home and Student 20211 Year Onsite Hardware Service   \n",
       "83                                                                                                                                                                                                                                                                                                                                                                                                                                                                                                                                                   Qualcomm Snapdragon 7c Gen 2 Processor4 GB LPDDR4X RAMWindows 11 Operating System35.56 cm (14 Inch) DisplayOffice Home and Student 20211 Year Onsite Warranty   \n",
       "94                                                                                                                                                                                                                                        Processor: Intel PQC-N5030 (1.10 GHz up to 3.10 GHz)RAM & Storage: 8GB DDR4 & 256GB SSDDisplay: 15.6\" HD AG Narrow BorderSoftware: Win 11 + Office H&S 20212x USB 3.2 Gen1 ,1x USB 2.0, HDMI 1.4, SD Card reader, Audio jack, 1 M.2 2230/2280 slot for solid-state drive/Intel OptaneWiFi & BT: 802.11ac 1x1 WiFi and BluetoothIntel Pentium Silver Processor8 GB DDR4 RAM64 bit Windows 11 Operating System256 GB SSD39.62 cm (15.6 Inch) Display1 Year Onsite Warranty   \n",
       "116                                                                                                                                                                                                                                                                                                                                                                          Powered by 11th Gen Intel Evo Core i5 ProcessorMicrosoft Office 2019 Home & Student IncludedStylish Thin and Light Laptop without Optical Disk DriveIntel Core i5 Processor (11th Gen)8 GB DDR4 RAM64 bit Windows 10 Operating System512 GB SSD35.56 cm (14 inch) DisplayMicrosoft Office 2019 Home & Student1 Year Domestic Warranty   \n",
       "122                                                                                                                                                                                                                                                                                                                                                                                                   NVIDIA RTX 3050 Graphics upto 90W TGP15.6 inch Full HD AG Display (250 nits Brightness, 120Hz, Narrow Border)Alienware Command CenterAMD Ryzen 7 Octa Core Processor16 GB DDR4 RAM64 bit Windows 11 Operating System512 GB SSD39.62 cm (15.6 inch) DisplayOffice Home and Student 20211 Year Premium Support   \n",
       "142                                                                                                                                                                             Processor: AMD Ryzen 3-3250U (2.60 GHz up to 3.50 GHz)RAM & Storage: 8GB DDR4 (2 DIMM Slots) & 1TB HDDSoftware: Win 11 + Office H&S 2021Display: 14.0\" FHD WVA AG Narrow BorderPorts: USB 3.2 Gen 1 (x2), USB2.0 (x1), HDMI 1.4, SD Media Card Reader (SD, SDHC, SDXC), RJ45 - 10/100MbpsWiFi & BT: 802.11ac 1x1 WiFi and BluetoothAMD Ryzen 3 Dual Core Processor8 GB DDR4 RAM64 bit Windows 11 Operating System1 TB HDD88.9 cm (35 cm) DisplayMicrosoft Office Home and Student 20211 Year Onsite Warranty1 Year Onsite Warranty   \n",
       "172                                                                                                                                                                                                           Processor: Intel i3-1115G4 (Base- 1.70 GHz & Turbo up to 4.10 GHz) 2 CoresRAM & Storage: 8GB DDR4 & 1TB + 256GB SSDGraphics & Keyboard: Integrated & Standard KeyboardDisplay: 15.6\" FHD WVA AG Narrow BorderPorts: 2x USB 3.2 Gen1 ,1x USB 2.0, HDMI 1.4, SD Card reader, Audio jack, 1 M.2 2230/2280 slot for solid-state drive/Intel OptaneIntel Core i3 Processor (11th Gen)8 GB DDR4 RAM64 bit Windows 11 Operating System1 TB HDD|256 GB SSD39.62 cm (15.6 inch) Display1 Year Onsite Warranty   \n",
       "232                                                                                                                                                                                                                                                                                                                                                                                                                                              Pre-installed Genuine Windows 10 Home OSIntel Core i7 Processor (11th Gen)16 GB DDR4 RAM64 bit Windows 10 Operating System1 TB SSD39.62 cm (15.6 inches) DisplayCooler Boost 5, Hi-Res Audio, Nahimic 3, Speaker Tuning Engine, MSI Center2 Year On-Site Warranty   \n",
       "249                                                                                                    Processor: Intel i3-1125G4 (2.00 GHz up to 3.70 GHz)RAM & Storage: 8GB DDR4 (2 DIMM Slots) & 256GB SSDSoftware: Win 11 + Office H&S 2021Display: 14.0\" FHD WVA Truelife Touch Narrow Border 60HzPorts: \"1 HDMI out 1.4a, 2 USB 3.2 Gen 1 Type-A, 1 USB 3.2 Gen 2 Type-C with Power Delivery and Video, 1 DC-in port, 1 3.5mm Headphone/Microphone combination jack\"WiFi & BT: Intel Wi-Fi 6 2x2 (Gig+) and Bluetooth 5.1Intel Core i3 Processor (11th Gen)8 GB DDR4 RAM64 bit Windows 11 Operating System256 GB SSD35.56 cm (14 inch) Touchscreen DisplayOffice Home and Student 20211 Year Onsite Warranty   \n",
       "253                                                                                                                                                                                                                            Processor: AMD Ryzen 5-3450U (2.10 GHz up to 3.50 GHz)RAM & Storage: 8GB DDR4 (2 DIMM Slots) & 512GB SSDSoftware: Win 11 + Office H&S 2021Display: 15.6\" FHD WVA AG Narrow BorderPorts: \"2x USB 3.2 Gen1 ,1x USB 2.0, HDMI 1.4b, SD Card reader, Audio jackWiFi & BT: 802.11ac 1x1 WiFi and BluetoothAMD Ryzen 5 Dual Core Processor8 GB DDR4 RAM64 bit Windows 11 Operating System512 GB SSD39.62 cm (15.6 Inch) DisplayMicrosoft Office Home & Student 20211 Year Onsite Warranty   \n",
       "259                                                                                                                                                                                                                                                                                                                                                                                         NVIDIA RTX 3050 Graphics upto 90W TGP15.6 inch Full HD AG Display (250 nits Brightness, 120Hz, Narrow Border)Alienware Command CenterIntel Core i5 Processor (11th Gen)8 GB DDR4 RAM64 bit Windows 11 Operating System512 GB SSD39.62 cm (15.6 inch) DisplayOffice Home and Student 20211 Year Onsite Hardware Service   \n",
       "349                                                        Processor: 11th Generation Intel Core i5-1135G7 Processor (8MB Cache, up to 4.2 GHz),Memory & Storage:8GB DDR4, 2666MHz | 512GB M.2 PCIe NVMe Solid State DriveDisplay:14.0-inch FHD (1920 x 1080) Anti-glare LED Backlight Narrow Border WVA DisplayGraphics: Dedicated NVIDIA MX330 2GB GDDR5Operating System & Software:Windows 10 Home Single Language | Microsoft Office Home and Student 2019I/O ports: 2x USB 3.2 Gen-1, 1xUSB 2.0, 1xHDMI port, 1xEthernet port,1x Headset jack, 1xSD Media Card ReaderIntel Core i5 Processor (11th Gen)8 GB DDR4 RAM64 bit Windows 10 Operating System512 GB SSD88.9 cm (35 cm) Display1 Year Onsite Warranty   \n",
       "355          Processor: 10th Generation Intel Core i3-1005G1 Processor (4MB Cache, up to 3.4 GHz)RAM & Storage:8GB RAM | 512GB M.2 PCIe NVMe Solid State DriveDisplay:14.0-inch FHD (1920 x 1080) Anti-glare LED Backlight Narrow Border WVA DisplayGraphics:Intel UHD Graphics with shared graphics memoryOperating System & Software:Windows 10 Home Single Language | Microsoft Office Home and Student 2019Ports: USB 3.2 Gen 1 (x2), USB2.0 (x1), HDMI 1.4,SD Media Card Reader (SD, SDHC, SDXC), RJ45 - 10/100/1000Mbps GbEIntel Core i3 Processor (10th Gen)8 GB DDR4 RAM64 bit Windows 10 Operating System512 GB SSD35.56 cm (14 Inch) DisplayMicrosoft Office Home and Student 20191 Year Onsite Warranty   \n",
       "393                                                                                                                                                                                                                                                                                                                                                                                                                                           Free upgrade to Windows 11 when availableIntel Core i5 Processor (11th Gen)8 GB DDR4 RAM64 bit Windows 10 Operating System1 TB HDD39.62 cm (15.6 inch) DisplayAcer Care Center, Quick Access, Acer Product Registration1 Year International Travelers Warranty (ITW)   \n",
       "438                                                                                                                              Pre-installed Genuine Windows 10 Operating System (Includes Built-in Security, Free Automated Updates, Latest Features)Dual Fan Cooling with Metal AeroBlade 3D128 GB SSD for Reduced Boot Up Time and in Game LoadingUpgradable SSD Upto 512 GB and RAM Upto 32 GBNVIDIA Geforce GTX 1050Ti for Desktop Level PerformanceIntel Core i5 Processor (7th Gen)8 GB DDR4 RAM64 bit Windows 10 Operating System1 TB HDD|128 GB SSD39.62 cm (15.6 inch) DisplayAcer Care Center, Acer Collection, Acer Configuration Manager, Quick Access1 Year International Travelers Warranty (ITW)   \n",
       "443                                                                                                                                                                                                                                                                                                                                                                                                                                               Pre-installed Genuine Windows 10 Home OSIntel Core i7 Processor (11th Gen)16 GB DDR4 RAM64 bit Windows 10 Operating System512 GB SSD39.62 cm (15.6 inches) DisplayCooler Boost 5, Hi-Res Audio, Nahimic 3, Speaker Tuning Engine, MSI Center2 Year Warranty Term   \n",
       "502                                                                                                                                                                                                                                                                                                                                                                                                         Free upgrade to Windows 11 when availableAMD Ryzen 5 Hexa Core Processor8 GB DDR4 RAM64 bit Windows 10 Operating System1 TB HDD|256 GB SSD39.62 cm (15.6 inch) DisplayAcer Care Center, Acer Product Registration, Acer Configuration Manager, NitroSense1 Year International Travelers Warranty (ITW)   \n",
       "508                                                                                                                                                                                                                                                                                                                                                                                                                                  15.6 inches Full HD IPS Thin Bezel Display (60Hz, 45% NTSC Color Gamut)Intel Core i5 Processor (9th Gen)8 GB DDR4 RAM64 bit Windows 10 Operating System1 TB HDD39.62 cm (15.6 inch) DisplayCooler Boost, Audio Boost, Dragon Center, Nahimic 32 Year Warranty Term for Gaming   \n",
       "593                                                   Processor: Intel i7-11800H- (2.30 GHz up to 4.60 GHz) 16MB L3RAM & Storage: 16GB DDR4 (2 DIMM Slots) & 512GB SSDGraphics: NVIDIA� GEFORCE� RTX 3050 Ti (4GB GDDR6)Display: 15.6\" FHD WVA AG 250 nits 120Hz Narrow Border, Backlit Keyboard OrangeColor: Dark Shadow GreyPorts: 1. HiSpeed USB 2.0 | 2. HiSpeed USB 2.0 with PowerShare | 3. USB 3.2 Gen 1 Type-C port with DisplayPort with alt mode | 4. SuperSpeed USB 3.2 | 5. HDMI | 6. Power in | 7. RJ45 | 8. Headphones/micIntel Core i7 Processor (11th Gen)16 GB DDR4 RAM64 bit Windows 11 Operating System512 GB SSD39.62 cm (15.6 inch) DisplayOffice Home and Student 20211 Year Premium Support   \n",
       "622                                                                                                                                                                                                                                                                                                                        15.6 inches Full HD IPS Thin Bezel Display (144Hz, 45% NTSC Color Gamut)Intel Core i7 Processor (10th Gen)16 GB DDR4 RAM64 bit Windows 10 Operating System1 TB HDD|256 GB SSD39.62 cm (15.6 inch) DisplaySHIFT, SteelSeries Engine 3, Matrix Display (Extend), Dragon Center, GamingMode, VR Ready, Cooler Boost 5, Nahimic 3, Nahimic VR, Giant Speaker2 Year Warranty Term for Gaming   \n",
       "628                                                                                         NVIDIA GeForce RTX 2080 with Max-Q15.6 inch Full HD LED Backlit Anti-glare IPS Display, 300 Hz, 300 NitsAlienware Cryo-tech thermal technology to keep the system cool and running at highest performanceTobii-eye tracking to track head pose, presence, fine gaze and eye positionIn-built Alienware Command center software with enhanced control over system settingsIntel Core i9 Processor (10th Gen)32 GB DDR4 RAM64 bit Windows 10 Operating System1 TB SSD39.62 cm (15.6 inch) DisplayMicrosoft Office Home and Student 20191 Year Limited Hardware Warranty, In Home Service After Remote Diagnosis - Retail   \n",
       "643                                                                                                                                                                                                                                                                                                                                                                                                                                                                                                          First Ever ScreenpadNVIDIA GeForce GTX 1050 TiIntel Core i7 Processor (8th Gen)16 GB DDR4 RAM64 bit Windows 10 Operating System1 TB SSD39.62 cm (15.6 inch) Touchscreen Display1 Year Onsite Warranty   \n",
       "644                                                                                                                                              NVIDIA Geforce GTX 1050 Ti for Desktop Level PerformanceOptimized Dolby Audio Premium Sound Enhancement128 GB SSD Capacity for Reduced Boot Up Time and in Game LoadingDual Fan Cooling with Metal AeroBlade for Interuption Free GamingFineTip Backlit Keyboard with Independent Standard Numeric KeypadIntel Core i5 Processor (8th Gen)8 GB DDR4 RAM64 bit Windows 10 Operating System1 TB HDD|128 GB SSD39.62 cm (15.6 inch) DisplayAcer Care Center, Acer Portal, Acer Quick Access, Acer Configuration Manager1 Year International Travelers Warranty (ITW)   \n",
       "645                                                                                                                                                                                                                                                                                                                                                                                            NVIDIA RTX 3050 Graphics upto 90W TGP15.6 inch Full HD AG Display (250 nits Brightness, 120Hz, Narrow Border)Alienware Command CenterAMD Ryzen 5 Hexa Core Processor8 GB DDR4 RAM64 bit Windows 11 Operating System512 GB SSD39.62 cm (15.6 inch) DisplayOffice Home and Student 20211 Year Onsite Hardware Service   \n",
       "688                                                                                                                                                       NVIDIA GeForce RTX 206015.6 inch Full HD LED Backlit Anti-glare IPS Display, 300 Hz, 300 NitsAlienware Cryo-tech thermal technology to keep the system cool and running at highest performanceTobii-eye tracking to track head pose, presence, fine gaze and eye positionIn-built Alienware Command center software with enhanced control over system settingsIntel Core i7 Processor (10th Gen)16 GB DDR4 RAM64 bit Windows 10 Operating System1 TB SSD39.62 cm (15.6 inch) DisplayMicrosoft Office Home and Student 20191 Year Complete Cover Warranty   \n",
       "689                                                                                               NVIDIA GeForce GTX 1660 Ti15.6 inch Full HD LED Backlit Anti-glare IPS Display, 300 Hz, 300 NitsAlienware Cryo-tech thermal technology to keep the system cool and running at highest performanceTobii-eye tracking to track head pose, presence, fine gaze and eye positionIn-built Alienware Command center software with enhanced control over system settingsIntel Core i7 Processor (10th Gen)16 GB DDR4 RAM64 bit Windows 10 Operating System512 GB SSD39.62 cm (15.6 inch) DisplayMicrosoft Office Home and Student 20191 Year Limited Hardware Warranty, In Home Service After Remote Diagnosis - Retail   \n",
       "\n",
       "         Brand Processor Type                    Operating System  \\\n",
       "6         DELL                                         Windows 11   \n",
       "8       realme                                  64 bit Windows 10   \n",
       "29      realme                                  64 bit Windows 10   \n",
       "33        acer                                  64 bit Windows 11   \n",
       "53      realme                                  64 bit Windows 10   \n",
       "54        acer                                  64 bit Windows 10   \n",
       "69        DELL                                  64 bit Windows 11   \n",
       "83     SAMSUNG                                         Windows 11   \n",
       "94        DELL                                  64 bit Windows 11   \n",
       "116     realme                                  64 bit Windows 10   \n",
       "122       DELL                                  64 bit Windows 11   \n",
       "142       DELL                                  64 bit Windows 11   \n",
       "172       DELL                                  64 bit Windows 11   \n",
       "232        MSI                                  64 bit Windows 10   \n",
       "249       DELL                                  64 bit Windows 11   \n",
       "253       DELL                                  64 bit Windows 11   \n",
       "259       DELL                                  64 bit Windows 11   \n",
       "349       DELL                 5Operating System64 bit Windows 10   \n",
       "355       DELL                                  64 bit Windows 10   \n",
       "393       acer                                  64 bit Windows 10   \n",
       "438       acer                        Windows 1064 bit Windows 10   \n",
       "443        MSI                                  64 bit Windows 10   \n",
       "502       acer                                  64 bit Windows 10   \n",
       "508        MSI                                  64 bit Windows 10   \n",
       "593       DELL                                  64 bit Windows 11   \n",
       "622        MSI                                  64 bit Windows 10   \n",
       "628  ALIENWARE                                  64 bit Windows 10   \n",
       "643       ASUS                                  64 bit Windows 10   \n",
       "644       acer                                  64 bit Windows 10   \n",
       "645       DELL                                  64 bit Windows 11   \n",
       "688  ALIENWARE                                  64 bit Windows 10   \n",
       "689  ALIENWARE                                  64 bit Windows 10   \n",
       "\n",
       "                                                                                                        RAM  \\\n",
       "6                                                                                             8 GB DDR4 RAM   \n",
       "8                                                                                             8 GB DDR4 RAM   \n",
       "29                                                                                            8 GB DDR4 RAM   \n",
       "33                                                                                            8 GB DDR4 RAM   \n",
       "53                                                                                            8 GB DDR4 RAM   \n",
       "54                                                                                            8 GB DDR4 RAM   \n",
       "69                                                                                           16 GB DDR4 RAM   \n",
       "83                                                                                         4 GB LPDDR4X RAM   \n",
       "94                                                                                            8 GB DDR4 RAM   \n",
       "116                                                                                           8 GB DDR4 RAM   \n",
       "122                                                                                          16 GB DDR4 RAM   \n",
       "142                                                                                           8 GB DDR4 RAM   \n",
       "172                                                                                           8 GB DDR4 RAM   \n",
       "232                                                                                          16 GB DDR4 RAM   \n",
       "249                                                                                           8 GB DDR4 RAM   \n",
       "253                                                                                           8 GB DDR4 RAM   \n",
       "259                                                                                           8 GB DDR4 RAM   \n",
       "349                                                                                           8 GB DDR4 RAM   \n",
       "355                                                                                           8 GB DDR4 RAM   \n",
       "393                                                                                           8 GB DDR4 RAM   \n",
       "438  128 GB SSD for Reduced Boot Up Time and in Game LoadingUpgradable SSD Upto 512 GB and RAM8 GB DDR4 RAM   \n",
       "443                                                                                          16 GB DDR4 RAM   \n",
       "502                                                                                           8 GB DDR4 RAM   \n",
       "508                                                                                           8 GB DDR4 RAM   \n",
       "593                                                                                          16 GB DDR4 RAM   \n",
       "622                                                                                          16 GB DDR4 RAM   \n",
       "628                                                                                          32 GB DDR4 RAM   \n",
       "643                                                                                          16 GB DDR4 RAM   \n",
       "644                                                                                           8 GB DDR4 RAM   \n",
       "645                                                                                           8 GB DDR4 RAM   \n",
       "688                                                                                          16 GB DDR4 RAM   \n",
       "689                                                                                          16 GB DDR4 RAM   \n",
       "\n",
       "                          Storage  \n",
       "6              1 TB HDD256 GB SSD  \n",
       "8                      256 GB SSD  \n",
       "29                     256 GB SSD  \n",
       "33                     512 GB SSD  \n",
       "53                     512 GB SSD  \n",
       "54                     512 GB SSD  \n",
       "69                     512 GB SSD  \n",
       "83                                 \n",
       "94                     256 GB SSD  \n",
       "116                    512 GB SSD  \n",
       "122                    512 GB SSD  \n",
       "142                      1 TB HDD  \n",
       "172            1 TB HDD256 GB SSD  \n",
       "232                      1 TB SSD  \n",
       "249                    256 GB SSD  \n",
       "253                    512 GB SSD  \n",
       "259                    512 GB SSD  \n",
       "349                    512 GB SSD  \n",
       "355                    512 GB SSD  \n",
       "393                      1 TB HDD  \n",
       "438  128 GB SSD1 TB HDD128 GB SSD  \n",
       "443                    512 GB SSD  \n",
       "502            1 TB HDD256 GB SSD  \n",
       "508                      1 TB HDD  \n",
       "593                    512 GB SSD  \n",
       "622            1 TB HDD256 GB SSD  \n",
       "628                      1 TB SSD  \n",
       "643                      1 TB SSD  \n",
       "644  128 GB SSD1 TB HDD128 GB SSD  \n",
       "645                    512 GB SSD  \n",
       "688                      1 TB SSD  \n",
       "689                    512 GB SSD  "
      ]
     },
     "execution_count": 16,
     "metadata": {},
     "output_type": "execute_result"
    }
   ],
   "source": [
    "df[df['Processor Type']=='']"
   ]
  },
  {
   "cell_type": "markdown",
   "id": "d42aa383",
   "metadata": {},
   "source": [
    "#### Replacing all the black row in processor with the value which correspond to Processor in Feature"
   ]
  },
  {
   "cell_type": "code",
   "execution_count": 17,
   "id": "a2c1cfb0",
   "metadata": {},
   "outputs": [],
   "source": [
    "df.iloc[6,5]='Intel i3-1115G4'\n",
    "df.iloc[8,5]='Intel Core i3'\n",
    "df.iloc[29,5]='Intel Core i3'\n",
    "df.iloc[33,5]='AMD Ryzen 5 Hexa Core'\n",
    "df.iloc[53,5]='Intel Evo Core i5'\n",
    "df.iloc[54,5]='Intel Core i5'\n",
    "df.iloc[69,5]='AMD Ryzen R5-5600H'\n",
    "df.iloc[83,5]='Qualcomm Snapdragon 7c Gen 2'\n",
    "df.iloc[94,5]='Intel PQC-N5030'\n",
    "df.iloc[116,5]='Gen Intel Evo Core i5'\n",
    "df.iloc[122,5]='AMD Ryzen 7 Octa Core'\n",
    "df.iloc[142,5]='AMD Ryzen 3 Dual Core'\n",
    "df.iloc[172,5]='Intel i3-1115G4'\n",
    "df.iloc[232,5]='Intel Core i7'\n",
    "df.iloc[249,5]='Intel i3-1125G4'\n",
    "df.iloc[253,5]='AMD Ryzen 5-3450U'\n",
    "df.iloc[259,5]='Intel Core i5'\n",
    "df.iloc[349,5]='Intel Core i5-1135G7'\n",
    "df.iloc[355,5]='Intel Core i3-1005G1'\n",
    "df.iloc[393,5]='Intel Core i5'\n",
    "df.iloc[438,5]='Intel Core i5'\n",
    "df.iloc[443,5]='Intel Core i7'\n",
    "df.iloc[502,5]='AMD Ryzen 5 Hexa Core'\n",
    "df.iloc[508,5]='Intel Core i5 Pro'\n",
    "df.iloc[593,5]='Intel i7-11800H'\n",
    "df.iloc[622,5]='Intel Core i7'\n",
    "df.iloc[628,5]='Intel Core i9'\n",
    "df.iloc[643,5]='Intel Core i7'\n",
    "df.iloc[644,5]='Intel Core i5'\n",
    "df.iloc[645,5]='AMD Ryzen 5 Hexa Core'\n",
    "df.iloc[688,5]='Intel Core i7'\n",
    "df.iloc[689,5]='Intel Core i7'"
   ]
  },
  {
   "cell_type": "code",
   "execution_count": 18,
   "id": "7ffd82d4",
   "metadata": {},
   "outputs": [
    {
     "data": {
      "text/plain": [
       "array(['Intel Core i3', 'AMD Ryzen 5 Hexa Core', 'Intel Core i5',\n",
       "       'Intel i3-1115G4', 'AMD Ryzen 7 Quad Core',\n",
       "       'AMD Ryzen 5 Quad Core', 'AMD Ryzen 9 Octa Core',\n",
       "       'AMD Ryzen 7 Octa Core', 'Apple M1', 'Intel Celeron Dual Core',\n",
       "       'AMD Ryzen 3 Dual Core', 'AMD Athlon Dual Core',\n",
       "       'Intel Evo Core i5', 'AMD Ryzen 3 Quad Core', 'Apple M2',\n",
       "       'AMD Ryzen R5-5600H', 'Intel Celeron Quad Core', 'Intel Core i7',\n",
       "       'Apple M1 Pro', 'Qualcomm Snapdragon 7c Gen 2', 'Intel PQC-N5030',\n",
       "       'Gen Intel Evo Core i5', 'Apple M1 Max', 'Intel Core i9',\n",
       "       'Intel Pentium Silver', 'Intel i3-1125G4', 'AMD Ryzen 5-3450U',\n",
       "       'AMD Ryzen 5 Dual Core', 'Intel Core i5-1135G7',\n",
       "       'Intel Core i3-1005G1', 'Intel Pentium Quad Core',\n",
       "       'Intel Core i5 Pro', 'AMD Dual Core', 'Intel i7-11800H',\n",
       "       'AMD Ryzen 3 Hexa Core'], dtype=object)"
      ]
     },
     "execution_count": 18,
     "metadata": {},
     "output_type": "execute_result"
    }
   ],
   "source": [
    "df['Processor Type'].unique()"
   ]
  },
  {
   "cell_type": "code",
   "execution_count": 19,
   "id": "fd653829",
   "metadata": {},
   "outputs": [
    {
     "data": {
      "text/plain": [
       "0"
      ]
     },
     "execution_count": 19,
     "metadata": {},
     "output_type": "execute_result"
    }
   ],
   "source": [
    "len(df[df['Processor Type']==''])"
   ]
  },
  {
   "cell_type": "markdown",
   "id": "65186266",
   "metadata": {},
   "source": [
    "**Now no row has missing Processor Type.**"
   ]
  },
  {
   "cell_type": "code",
   "execution_count": null,
   "id": "89a0b684",
   "metadata": {},
   "outputs": [],
   "source": []
  },
  {
   "cell_type": "markdown",
   "id": "8987419d",
   "metadata": {},
   "source": [
    "### Operating System Column"
   ]
  },
  {
   "cell_type": "code",
   "execution_count": 20,
   "id": "c1817762",
   "metadata": {},
   "outputs": [
    {
     "data": {
      "text/plain": [
       "array(['64 bit Windows 11', '64 bit Windows 10', 'Windows 11', 'MMac OS',\n",
       "       'OS', 'Windows 10', 'MChrome', '32 bit Windows 11',\n",
       "       '5Operating System64 bit Windows 10', '64 bit DOS',\n",
       "       ' Windows 1064 bit Windows 10', '64 bit Chrome'], dtype=object)"
      ]
     },
     "execution_count": 20,
     "metadata": {},
     "output_type": "execute_result"
    }
   ],
   "source": [
    "df['Operating System'].unique()"
   ]
  },
  {
   "cell_type": "code",
   "execution_count": 21,
   "id": "1ac29337",
   "metadata": {},
   "outputs": [
    {
     "data": {
      "text/plain": [
       "0"
      ]
     },
     "execution_count": 21,
     "metadata": {},
     "output_type": "execute_result"
    }
   ],
   "source": [
    "len(df[df['Operating System']==''])"
   ]
  },
  {
   "cell_type": "markdown",
   "id": "a13c1936",
   "metadata": {},
   "source": [
    "**Replace some of Operating system with suitable name.**"
   ]
  },
  {
   "cell_type": "code",
   "execution_count": 22,
   "id": "394569fc",
   "metadata": {},
   "outputs": [
    {
     "data": {
      "text/plain": [
       "array(['Windows 11', 'Windows 10', 'Mac', 'Chrome', 'DOS'], dtype=object)"
      ]
     },
     "execution_count": 22,
     "metadata": {},
     "output_type": "execute_result"
    }
   ],
   "source": [
    "df['Operating System'].replace({'MMac OS':'Mac', 'OS':'Mac', 'MChrome':'Chrome',\n",
    "                                '5Operating System64 bit Windows 10':'Windows 10',\n",
    "                               ' Windows 1064 bit Windows 10':'Windows 10',\n",
    "                               '64 bit Chrome':'Chrome'}, inplace=True)\n",
    "\n",
    "df['Operating System']=df['Operating System'].apply(lambda x: x.replace('64 bit ', '').replace('32 bit ','').replace('64 bit ',''))\n",
    "df['Operating System'].unique()"
   ]
  },
  {
   "cell_type": "code",
   "execution_count": null,
   "id": "2a1e9d69",
   "metadata": {},
   "outputs": [],
   "source": []
  },
  {
   "cell_type": "markdown",
   "id": "52979a19",
   "metadata": {},
   "source": [
    "### RAM column"
   ]
  },
  {
   "cell_type": "code",
   "execution_count": 23,
   "id": "aa2056cb",
   "metadata": {},
   "outputs": [
    {
     "data": {
      "text/plain": [
       "array(['8 GB DDR4 RAM', '16 GB DDR4 RAM', '16 GB DDR5 RAM',\n",
       "       '4 GB LPDDR4 RAM', '4 GB DDR4 RAM', '8 GB Unified Memory RAM',\n",
       "       '8 GB LPDDR4X RAM', '16 GB Unified Memory RAM', '4 GB LPDDR4X RAM',\n",
       "       '16 GB LPDDR4X RAM', '16 GB LPDDR5 RAM',\n",
       "       '32 GB Unified Memory RAM', '16 GB LPDDR4 RAM', '32 GB DDR5 RAM',\n",
       "       '128 GB SSD for Reduced Boot Up Time and in Game LoadingUpgradable SSD Upto 512 GB and RAM8 GB DDR4 RAM',\n",
       "       '8 GB DDR5 RAM', '32 GB DDR4 RAM', '32 GB LPDDR4X RAM',\n",
       "       '16 GB LPDDR3 RAM'], dtype=object)"
      ]
     },
     "execution_count": 23,
     "metadata": {},
     "output_type": "execute_result"
    }
   ],
   "source": [
    "df['RAM'].unique()"
   ]
  },
  {
   "cell_type": "code",
   "execution_count": 24,
   "id": "679ba0f9",
   "metadata": {},
   "outputs": [
    {
     "data": {
      "text/plain": [
       "array(['8 GB DDR4 RAM', '16 GB DDR4 RAM', '16 GB DDR5 RAM',\n",
       "       '4 GB LPDDR4 RAM', '4 GB DDR4 RAM', '8 GB Unified RAM',\n",
       "       '8 GB LPDDR4X RAM', '16 GB Unified RAM', '4 GB LPDDR4X RAM',\n",
       "       '16 GB LPDDR4X RAM', '16 GB LPDDR5 RAM', '32 GB Unified RAM',\n",
       "       '16 GB LPDDR4 RAM', '32 GB DDR5 RAM', '8 GB DDR5 RAM',\n",
       "       '32 GB DDR4 RAM', '32 GB LPDDR4X RAM', '16 GB LPDDR3 RAM'],\n",
       "      dtype=object)"
      ]
     },
     "execution_count": 24,
     "metadata": {},
     "output_type": "execute_result"
    }
   ],
   "source": [
    "df['RAM']=df['RAM'].apply(lambda x: x.replace(\"128 GB SSD for Reduced Boot Up Time and in Game LoadingUpgradable SSD Upto 512 GB and RAM8 GB DDR4 RAM\",\"8 GB DDR4 RAM\"))\n",
    "df['RAM']=df['RAM'].apply(lambda x: x.replace(\"Unified Memory\",\"Unified\"))\n",
    "df['RAM'].unique()"
   ]
  },
  {
   "cell_type": "code",
   "execution_count": 25,
   "id": "9ec7f01a",
   "metadata": {},
   "outputs": [
    {
     "data": {
      "text/html": [
       "<div>\n",
       "<style scoped>\n",
       "    .dataframe tbody tr th:only-of-type {\n",
       "        vertical-align: middle;\n",
       "    }\n",
       "\n",
       "    .dataframe tbody tr th {\n",
       "        vertical-align: top;\n",
       "    }\n",
       "\n",
       "    .dataframe thead th {\n",
       "        text-align: right;\n",
       "    }\n",
       "</style>\n",
       "<table border=\"1\" class=\"dataframe\">\n",
       "  <thead>\n",
       "    <tr style=\"text-align: right;\">\n",
       "      <th></th>\n",
       "      <th>Product</th>\n",
       "      <th>Rating</th>\n",
       "      <th>MRP</th>\n",
       "      <th>Feature</th>\n",
       "      <th>Brand</th>\n",
       "      <th>Processor Type</th>\n",
       "      <th>Operating System</th>\n",
       "      <th>Storage</th>\n",
       "      <th>RAM Size</th>\n",
       "      <th>RAM Type</th>\n",
       "    </tr>\n",
       "  </thead>\n",
       "  <tbody>\n",
       "    <tr>\n",
       "      <th>0</th>\n",
       "      <td>Lenovo IdeaPad 3 Core i3 11th Gen - (8 GB/256 GB SSD/Windows 11 Home) 14ITL05 Thin and Light Laptop</td>\n",
       "      <td>4.2</td>\n",
       "      <td>36990</td>\n",
       "      <td>Intel Core i3 Processor (11th Gen)8 GB DDR4 RAM64 bit Windows 11 Operating System256 GB SSD35.56 cm (14 inch) DisplayOffice Home and Student 20212 Year Onsite�Warranty</td>\n",
       "      <td>Lenovo</td>\n",
       "      <td>Intel Core i3</td>\n",
       "      <td>Windows 11</td>\n",
       "      <td>256 GB SSD</td>\n",
       "      <td>8GB</td>\n",
       "      <td>DDR4</td>\n",
       "    </tr>\n",
       "    <tr>\n",
       "      <th>1</th>\n",
       "      <td>Lenovo IdeaPad 3 Core i3 11th Gen - (8 GB/512 GB SSD/Windows 11 Home) 82H801L7IN | 82H802FJIN | 82H802...</td>\n",
       "      <td>4.2</td>\n",
       "      <td>39990</td>\n",
       "      <td>Intel Core i3 Processor (11th Gen)8 GB DDR4 RAM64 bit Windows 11 Operating System512 GB SSD39.62 cm (15.6 inch) DisplayOffice Home and Student 20212 Year Onsite�Warranty</td>\n",
       "      <td>Lenovo</td>\n",
       "      <td>Intel Core i3</td>\n",
       "      <td>Windows 11</td>\n",
       "      <td>512 GB SSD</td>\n",
       "      <td>8GB</td>\n",
       "      <td>DDR4</td>\n",
       "    </tr>\n",
       "    <tr>\n",
       "      <th>2</th>\n",
       "      <td>ASUS VivoBook 15 (2022) Core i3 10th Gen - (8 GB/512 GB SSD/Windows 11 Home) X515JA-EJ362WS | X515JA-E...</td>\n",
       "      <td>4.3</td>\n",
       "      <td>32990</td>\n",
       "      <td>Intel Core i3 Processor (10th Gen)8 GB DDR4 RAM64 bit Windows 11 Operating System512 GB SSD39.62 cm (15.6 inch) DisplayOffice Home and Student 20211 Year Onsite Warranty</td>\n",
       "      <td>ASUS</td>\n",
       "      <td>Intel Core i3</td>\n",
       "      <td>Windows 11</td>\n",
       "      <td>512 GB SSD</td>\n",
       "      <td>8GB</td>\n",
       "      <td>DDR4</td>\n",
       "    </tr>\n",
       "    <tr>\n",
       "      <th>3</th>\n",
       "      <td>HP Pavilion Ryzen 5 Hexa Core AMD R5-5600H - (8 GB/512 GB SSD/Windows 10/4 GB Graphics/NVIDIA GeForce ...</td>\n",
       "      <td>4.4</td>\n",
       "      <td>49990</td>\n",
       "      <td>AMD Ryzen 5 Hexa Core Processor8 GB DDR4 RAM64 bit Windows 10 Operating System512 GB SSD39.62 cm (15.6 inch) DisplayHP Documentation, HP e-service, HP BIOS Recovery, HP SSRM, HP Smart, HP Jumpstarts1 Year Onsite Warranty</td>\n",
       "      <td>HP</td>\n",
       "      <td>AMD Ryzen 5 Hexa Core</td>\n",
       "      <td>Windows 10</td>\n",
       "      <td>512 GB SSD</td>\n",
       "      <td>8GB</td>\n",
       "      <td>DDR4</td>\n",
       "    </tr>\n",
       "    <tr>\n",
       "      <th>4</th>\n",
       "      <td>ASUS TUF Gaming F15 Core i5 10th Gen - (8 GB/512 GB SSD/Windows 11 Home/4 GB Graphics/NVIDIA GeForce G...</td>\n",
       "      <td>4.4</td>\n",
       "      <td>49990</td>\n",
       "      <td>Intel Core i5 Processor (10th Gen)8 GB DDR4 RAMWindows 11 Operating System512 GB SSD39.62 cm (15.6 inch) Display1 Year Onsite Warranty</td>\n",
       "      <td>ASUS</td>\n",
       "      <td>Intel Core i5</td>\n",
       "      <td>Windows 11</td>\n",
       "      <td>512 GB SSD</td>\n",
       "      <td>8GB</td>\n",
       "      <td>DDR4</td>\n",
       "    </tr>\n",
       "  </tbody>\n",
       "</table>\n",
       "</div>"
      ],
      "text/plain": [
       "                                                                                                     Product  \\\n",
       "0        Lenovo IdeaPad 3 Core i3 11th Gen - (8 GB/256 GB SSD/Windows 11 Home) 14ITL05 Thin and Light Laptop   \n",
       "1  Lenovo IdeaPad 3 Core i3 11th Gen - (8 GB/512 GB SSD/Windows 11 Home) 82H801L7IN | 82H802FJIN | 82H802...   \n",
       "2  ASUS VivoBook 15 (2022) Core i3 10th Gen - (8 GB/512 GB SSD/Windows 11 Home) X515JA-EJ362WS | X515JA-E...   \n",
       "3  HP Pavilion Ryzen 5 Hexa Core AMD R5-5600H - (8 GB/512 GB SSD/Windows 10/4 GB Graphics/NVIDIA GeForce ...   \n",
       "4  ASUS TUF Gaming F15 Core i5 10th Gen - (8 GB/512 GB SSD/Windows 11 Home/4 GB Graphics/NVIDIA GeForce G...   \n",
       "\n",
       "   Rating    MRP  \\\n",
       "0     4.2  36990   \n",
       "1     4.2  39990   \n",
       "2     4.3  32990   \n",
       "3     4.4  49990   \n",
       "4     4.4  49990   \n",
       "\n",
       "                                                                                                                                                                                                                        Feature  \\\n",
       "0                                                       Intel Core i3 Processor (11th Gen)8 GB DDR4 RAM64 bit Windows 11 Operating System256 GB SSD35.56 cm (14 inch) DisplayOffice Home and Student 20212 Year Onsite�Warranty   \n",
       "1                                                     Intel Core i3 Processor (11th Gen)8 GB DDR4 RAM64 bit Windows 11 Operating System512 GB SSD39.62 cm (15.6 inch) DisplayOffice Home and Student 20212 Year Onsite�Warranty   \n",
       "2                                                     Intel Core i3 Processor (10th Gen)8 GB DDR4 RAM64 bit Windows 11 Operating System512 GB SSD39.62 cm (15.6 inch) DisplayOffice Home and Student 20211 Year Onsite Warranty   \n",
       "3  AMD Ryzen 5 Hexa Core Processor8 GB DDR4 RAM64 bit Windows 10 Operating System512 GB SSD39.62 cm (15.6 inch) DisplayHP Documentation, HP e-service, HP BIOS Recovery, HP SSRM, HP Smart, HP Jumpstarts1 Year Onsite Warranty   \n",
       "4                                                                                        Intel Core i5 Processor (10th Gen)8 GB DDR4 RAMWindows 11 Operating System512 GB SSD39.62 cm (15.6 inch) Display1 Year Onsite Warranty   \n",
       "\n",
       "    Brand         Processor Type Operating System     Storage RAM Size  \\\n",
       "0  Lenovo          Intel Core i3       Windows 11  256 GB SSD      8GB   \n",
       "1  Lenovo          Intel Core i3       Windows 11  512 GB SSD      8GB   \n",
       "2    ASUS          Intel Core i3       Windows 11  512 GB SSD      8GB   \n",
       "3      HP  AMD Ryzen 5 Hexa Core       Windows 10  512 GB SSD      8GB   \n",
       "4    ASUS          Intel Core i5       Windows 11  512 GB SSD      8GB   \n",
       "\n",
       "  RAM Type  \n",
       "0     DDR4  \n",
       "1     DDR4  \n",
       "2     DDR4  \n",
       "3     DDR4  \n",
       "4     DDR4  "
      ]
     },
     "execution_count": 25,
     "metadata": {},
     "output_type": "execute_result"
    }
   ],
   "source": [
    "df[['RAM Size','GB', 'RAM Type', 'RAM1']]=df['RAM'].str.split(' ', expand=True)\n",
    "\n",
    "df.drop(['GB','RAM1','RAM'], axis=1, inplace=True)\n",
    "df['RAM Size']=df['RAM Size']+\"GB\"\n",
    "df.head()"
   ]
  },
  {
   "cell_type": "code",
   "execution_count": 26,
   "id": "6cdf547c",
   "metadata": {},
   "outputs": [
    {
     "data": {
      "text/plain": [
       "array(['8GB', '16GB', '4GB', '32GB'], dtype=object)"
      ]
     },
     "execution_count": 26,
     "metadata": {},
     "output_type": "execute_result"
    }
   ],
   "source": [
    "df['RAM Size'].unique()"
   ]
  },
  {
   "cell_type": "code",
   "execution_count": 27,
   "id": "60dc98ec",
   "metadata": {},
   "outputs": [
    {
     "data": {
      "text/plain": [
       "array(['DDR4', 'DDR5', 'LPDDR4', 'Unified', 'LPDDR4X', 'LPDDR5', 'LPDDR3'],\n",
       "      dtype=object)"
      ]
     },
     "execution_count": 27,
     "metadata": {},
     "output_type": "execute_result"
    }
   ],
   "source": [
    "df['RAM Type'].unique()"
   ]
  },
  {
   "cell_type": "code",
   "execution_count": null,
   "id": "0eb6208e",
   "metadata": {},
   "outputs": [],
   "source": []
  },
  {
   "cell_type": "markdown",
   "id": "5df2eb81",
   "metadata": {},
   "source": [
    "### Storage Column"
   ]
  },
  {
   "cell_type": "code",
   "execution_count": 28,
   "id": "6ada1bb0",
   "metadata": {},
   "outputs": [
    {
     "data": {
      "text/plain": [
       "array(['256 GB SSD', '512 GB SSD', '1 TB HDD256 GB SSD', '1 TB SSD',\n",
       "       '256 GB HDD256 GB SSD', '', '1 TB HDD', '128 GB SSD',\n",
       "       '1 TB HDD512 GB SSD', '128 GB SSD1 TB HDD128 GB SSD', '2 TB SSD'],\n",
       "      dtype=object)"
      ]
     },
     "execution_count": 28,
     "metadata": {},
     "output_type": "execute_result"
    }
   ],
   "source": [
    "df['Storage'].unique()"
   ]
  },
  {
   "cell_type": "code",
   "execution_count": 29,
   "id": "df774dbb",
   "metadata": {},
   "outputs": [
    {
     "data": {
      "text/html": [
       "<div>\n",
       "<style scoped>\n",
       "    .dataframe tbody tr th:only-of-type {\n",
       "        vertical-align: middle;\n",
       "    }\n",
       "\n",
       "    .dataframe tbody tr th {\n",
       "        vertical-align: top;\n",
       "    }\n",
       "\n",
       "    .dataframe thead th {\n",
       "        text-align: right;\n",
       "    }\n",
       "</style>\n",
       "<table border=\"1\" class=\"dataframe\">\n",
       "  <thead>\n",
       "    <tr style=\"text-align: right;\">\n",
       "      <th></th>\n",
       "      <th>Product</th>\n",
       "      <th>Rating</th>\n",
       "      <th>MRP</th>\n",
       "      <th>Feature</th>\n",
       "      <th>Brand</th>\n",
       "      <th>Processor Type</th>\n",
       "      <th>Operating System</th>\n",
       "      <th>Storage</th>\n",
       "      <th>RAM Size</th>\n",
       "      <th>RAM Type</th>\n",
       "    </tr>\n",
       "  </thead>\n",
       "  <tbody>\n",
       "    <tr>\n",
       "      <th>83</th>\n",
       "      <td>SAMSUNG Galaxy Book Go Snapdragon 7c Gen 2 - (4 GB/128 GB EMMC Storage/Windows 11 Home) NP340XLA-KA1IN...</td>\n",
       "      <td>4.4</td>\n",
       "      <td>32990</td>\n",
       "      <td>Qualcomm Snapdragon 7c Gen 2 Processor4 GB LPDDR4X RAMWindows 11 Operating System35.56 cm (14 Inch) DisplayOffice Home and Student 20211 Year Onsite Warranty</td>\n",
       "      <td>SAMSUNG</td>\n",
       "      <td>Qualcomm Snapdragon 7c Gen 2</td>\n",
       "      <td>Windows 11</td>\n",
       "      <td></td>\n",
       "      <td>4GB</td>\n",
       "      <td>LPDDR4X</td>\n",
       "    </tr>\n",
       "    <tr>\n",
       "      <th>89</th>\n",
       "      <td>Lenovo IdeaPad 3 CB Celeron Dual Core - (4 GB/64 GB EMMC Storage/Chrome OS) 14IGL05 Thin and Light Lap...</td>\n",
       "      <td>NaN</td>\n",
       "      <td>19490</td>\n",
       "      <td>Intel Celeron Dual Core Processor4 GB DDR4 RAMChrome Operating System35.56 cm (14 Inch) Display1 Year Carry-in Warranty</td>\n",
       "      <td>Lenovo</td>\n",
       "      <td>Intel Celeron Dual Core</td>\n",
       "      <td>Chrome</td>\n",
       "      <td></td>\n",
       "      <td>4GB</td>\n",
       "      <td>DDR4</td>\n",
       "    </tr>\n",
       "    <tr>\n",
       "      <th>96</th>\n",
       "      <td>Lenovo IdeaPad 3 CB Celeron Dual Core - (4 GB/64 GB EMMC Storage/Chrome OS) 14IGL05 Thin and Light Lap...</td>\n",
       "      <td>NaN</td>\n",
       "      <td>19490</td>\n",
       "      <td>Intel Celeron Dual Core Processor4 GB DDR4 RAMChrome Operating System35.56 cm (14 Inch) Display1 Year Carry-in Warranty</td>\n",
       "      <td>Lenovo</td>\n",
       "      <td>Intel Celeron Dual Core</td>\n",
       "      <td>Chrome</td>\n",
       "      <td></td>\n",
       "      <td>4GB</td>\n",
       "      <td>DDR4</td>\n",
       "    </tr>\n",
       "    <tr>\n",
       "      <th>345</th>\n",
       "      <td>ASUS Chromebook Flip Touch Celeron Dual Core - (4 GB/32 GB EMMC Storage/Chrome OS) C214MA-BU0704 Chrom...</td>\n",
       "      <td>4.0</td>\n",
       "      <td>14990</td>\n",
       "      <td>Intel Celeron Dual Core Processor4 GB LPDDR4 RAMChrome Operating System29.46 cm (11.6 inch) Touchscreen Display1 Year Onsite Warranty</td>\n",
       "      <td>ASUS</td>\n",
       "      <td>Intel Celeron Dual Core</td>\n",
       "      <td>Chrome</td>\n",
       "      <td></td>\n",
       "      <td>4GB</td>\n",
       "      <td>LPDDR4</td>\n",
       "    </tr>\n",
       "    <tr>\n",
       "      <th>509</th>\n",
       "      <td>ASUS Chromebook Flip Touch Celeron Dual Core - (4 GB/64 GB EMMC Storage/Chrome OS) C523NA-A20303 Chrom...</td>\n",
       "      <td>4.0</td>\n",
       "      <td>24390</td>\n",
       "      <td>Intel Celeron Dual Core Processor4 GB LPDDR4 RAMChrome Operating System39.62 cm (15.6 inch) Touchscreen Display1 Year Onsite Warranty</td>\n",
       "      <td>ASUS</td>\n",
       "      <td>Intel Celeron Dual Core</td>\n",
       "      <td>Chrome</td>\n",
       "      <td></td>\n",
       "      <td>4GB</td>\n",
       "      <td>LPDDR4</td>\n",
       "    </tr>\n",
       "    <tr>\n",
       "      <th>544</th>\n",
       "      <td>ASUS EeeBook 12 Celeron Dual Core - (4 GB/64 GB EMMC Storage/Windows 11 Home) E210MA-GJ011W Thin and L...</td>\n",
       "      <td>4.5</td>\n",
       "      <td>21990</td>\n",
       "      <td>Intel Celeron Dual Core Processor4 GB DDR4 RAM64 bit Windows 11 Operating System29.46 cm (11.6 Inch) Display1 Year Onsite warranty</td>\n",
       "      <td>ASUS</td>\n",
       "      <td>Intel Celeron Dual Core</td>\n",
       "      <td>Windows 11</td>\n",
       "      <td></td>\n",
       "      <td>4GB</td>\n",
       "      <td>DDR4</td>\n",
       "    </tr>\n",
       "    <tr>\n",
       "      <th>559</th>\n",
       "      <td>ASUS EeeBook 12 Celeron Dual Core - (4 GB/64 GB EMMC Storage/Windows 11 Home) E210MA-GJ012W Thin and L...</td>\n",
       "      <td>4.0</td>\n",
       "      <td>19990</td>\n",
       "      <td>Intel Celeron Dual Core Processor4 GB DDR4 RAM64 bit Windows 11 Operating System29.46 cm (11.6 Inch) Display1 Year Onsite warranty</td>\n",
       "      <td>ASUS</td>\n",
       "      <td>Intel Celeron Dual Core</td>\n",
       "      <td>Windows 11</td>\n",
       "      <td></td>\n",
       "      <td>4GB</td>\n",
       "      <td>DDR4</td>\n",
       "    </tr>\n",
       "    <tr>\n",
       "      <th>632</th>\n",
       "      <td>Lenovo IdeaPad Flex 3 Chromebook Celeron Dual Core - (4 GB/128 GB EMMC Storage/Chrome OS) CB 11IJL6 Ch...</td>\n",
       "      <td>3.6</td>\n",
       "      <td>28490</td>\n",
       "      <td>Intel Celeron Dual Core Processor4 GB LPDDR4X RAM64 bit Chrome Operating System29.46 cm (11.6 inch) Touchscreen Display1 Year Onsite�Warranty</td>\n",
       "      <td>Lenovo</td>\n",
       "      <td>Intel Celeron Dual Core</td>\n",
       "      <td>Chrome</td>\n",
       "      <td></td>\n",
       "      <td>4GB</td>\n",
       "      <td>LPDDR4X</td>\n",
       "    </tr>\n",
       "    <tr>\n",
       "      <th>695</th>\n",
       "      <td>ASUS Chromebook Celeron Dual Core - (4 GB/64 GB EMMC Storage/Chrome OS) C423NA-EC0521 Chromebook</td>\n",
       "      <td>4.1</td>\n",
       "      <td>25990</td>\n",
       "      <td>Intel Celeron Dual Core Processor4 GB LPDDR4 RAMChrome Operating System35.56 cm (14 inch) Touchscreen Display1 Year Onsite Warranty</td>\n",
       "      <td>ASUS</td>\n",
       "      <td>Intel Celeron Dual Core</td>\n",
       "      <td>Chrome</td>\n",
       "      <td></td>\n",
       "      <td>4GB</td>\n",
       "      <td>LPDDR4</td>\n",
       "    </tr>\n",
       "    <tr>\n",
       "      <th>715</th>\n",
       "      <td>ASUS Chromebook Flip Touch Celeron Dual Core - (4 GB/64 GB EMMC Storage/Chrome OS) C214MA-BU0452 Chrom...</td>\n",
       "      <td>4.0</td>\n",
       "      <td>23490</td>\n",
       "      <td>Intel Celeron Dual Core Processor4 GB LPDDR4 RAMChrome Operating System29.46 cm (11.6 inch) Touchscreen Display1 Year Onsite Warranty</td>\n",
       "      <td>ASUS</td>\n",
       "      <td>Intel Celeron Dual Core</td>\n",
       "      <td>Chrome</td>\n",
       "      <td></td>\n",
       "      <td>4GB</td>\n",
       "      <td>LPDDR4</td>\n",
       "    </tr>\n",
       "  </tbody>\n",
       "</table>\n",
       "</div>"
      ],
      "text/plain": [
       "                                                                                                       Product  \\\n",
       "83   SAMSUNG Galaxy Book Go Snapdragon 7c Gen 2 - (4 GB/128 GB EMMC Storage/Windows 11 Home) NP340XLA-KA1IN...   \n",
       "89   Lenovo IdeaPad 3 CB Celeron Dual Core - (4 GB/64 GB EMMC Storage/Chrome OS) 14IGL05 Thin and Light Lap...   \n",
       "96   Lenovo IdeaPad 3 CB Celeron Dual Core - (4 GB/64 GB EMMC Storage/Chrome OS) 14IGL05 Thin and Light Lap...   \n",
       "345  ASUS Chromebook Flip Touch Celeron Dual Core - (4 GB/32 GB EMMC Storage/Chrome OS) C214MA-BU0704 Chrom...   \n",
       "509  ASUS Chromebook Flip Touch Celeron Dual Core - (4 GB/64 GB EMMC Storage/Chrome OS) C523NA-A20303 Chrom...   \n",
       "544  ASUS EeeBook 12 Celeron Dual Core - (4 GB/64 GB EMMC Storage/Windows 11 Home) E210MA-GJ011W Thin and L...   \n",
       "559  ASUS EeeBook 12 Celeron Dual Core - (4 GB/64 GB EMMC Storage/Windows 11 Home) E210MA-GJ012W Thin and L...   \n",
       "632  Lenovo IdeaPad Flex 3 Chromebook Celeron Dual Core - (4 GB/128 GB EMMC Storage/Chrome OS) CB 11IJL6 Ch...   \n",
       "695           ASUS Chromebook Celeron Dual Core - (4 GB/64 GB EMMC Storage/Chrome OS) C423NA-EC0521 Chromebook   \n",
       "715  ASUS Chromebook Flip Touch Celeron Dual Core - (4 GB/64 GB EMMC Storage/Chrome OS) C214MA-BU0452 Chrom...   \n",
       "\n",
       "     Rating    MRP  \\\n",
       "83      4.4  32990   \n",
       "89      NaN  19490   \n",
       "96      NaN  19490   \n",
       "345     4.0  14990   \n",
       "509     4.0  24390   \n",
       "544     4.5  21990   \n",
       "559     4.0  19990   \n",
       "632     3.6  28490   \n",
       "695     4.1  25990   \n",
       "715     4.0  23490   \n",
       "\n",
       "                                                                                                                                                           Feature  \\\n",
       "83   Qualcomm Snapdragon 7c Gen 2 Processor4 GB LPDDR4X RAMWindows 11 Operating System35.56 cm (14 Inch) DisplayOffice Home and Student 20211 Year Onsite Warranty   \n",
       "89                                         Intel Celeron Dual Core Processor4 GB DDR4 RAMChrome Operating System35.56 cm (14 Inch) Display1 Year Carry-in Warranty   \n",
       "96                                         Intel Celeron Dual Core Processor4 GB DDR4 RAMChrome Operating System35.56 cm (14 Inch) Display1 Year Carry-in Warranty   \n",
       "345                          Intel Celeron Dual Core Processor4 GB LPDDR4 RAMChrome Operating System29.46 cm (11.6 inch) Touchscreen Display1 Year Onsite Warranty   \n",
       "509                          Intel Celeron Dual Core Processor4 GB LPDDR4 RAMChrome Operating System39.62 cm (15.6 inch) Touchscreen Display1 Year Onsite Warranty   \n",
       "544                             Intel Celeron Dual Core Processor4 GB DDR4 RAM64 bit Windows 11 Operating System29.46 cm (11.6 Inch) Display1 Year Onsite warranty   \n",
       "559                             Intel Celeron Dual Core Processor4 GB DDR4 RAM64 bit Windows 11 Operating System29.46 cm (11.6 Inch) Display1 Year Onsite warranty   \n",
       "632                  Intel Celeron Dual Core Processor4 GB LPDDR4X RAM64 bit Chrome Operating System29.46 cm (11.6 inch) Touchscreen Display1 Year Onsite�Warranty   \n",
       "695                            Intel Celeron Dual Core Processor4 GB LPDDR4 RAMChrome Operating System35.56 cm (14 inch) Touchscreen Display1 Year Onsite Warranty   \n",
       "715                          Intel Celeron Dual Core Processor4 GB LPDDR4 RAMChrome Operating System29.46 cm (11.6 inch) Touchscreen Display1 Year Onsite Warranty   \n",
       "\n",
       "       Brand                Processor Type Operating System Storage RAM Size  \\\n",
       "83   SAMSUNG  Qualcomm Snapdragon 7c Gen 2       Windows 11              4GB   \n",
       "89    Lenovo       Intel Celeron Dual Core           Chrome              4GB   \n",
       "96    Lenovo       Intel Celeron Dual Core           Chrome              4GB   \n",
       "345     ASUS       Intel Celeron Dual Core           Chrome              4GB   \n",
       "509     ASUS       Intel Celeron Dual Core           Chrome              4GB   \n",
       "544     ASUS       Intel Celeron Dual Core       Windows 11              4GB   \n",
       "559     ASUS       Intel Celeron Dual Core       Windows 11              4GB   \n",
       "632   Lenovo       Intel Celeron Dual Core           Chrome              4GB   \n",
       "695     ASUS       Intel Celeron Dual Core           Chrome              4GB   \n",
       "715     ASUS       Intel Celeron Dual Core           Chrome              4GB   \n",
       "\n",
       "    RAM Type  \n",
       "83   LPDDR4X  \n",
       "89      DDR4  \n",
       "96      DDR4  \n",
       "345   LPDDR4  \n",
       "509   LPDDR4  \n",
       "544     DDR4  \n",
       "559     DDR4  \n",
       "632  LPDDR4X  \n",
       "695   LPDDR4  \n",
       "715   LPDDR4  "
      ]
     },
     "execution_count": 29,
     "metadata": {},
     "output_type": "execute_result"
    }
   ],
   "source": [
    "df[df['Storage']=='']"
   ]
  },
  {
   "cell_type": "code",
   "execution_count": 30,
   "id": "af51b457",
   "metadata": {},
   "outputs": [
    {
     "data": {
      "text/plain": [
       "10"
      ]
     },
     "execution_count": 30,
     "metadata": {},
     "output_type": "execute_result"
    }
   ],
   "source": [
    "len(df[df['Storage']==''])"
   ]
  },
  {
   "cell_type": "markdown",
   "id": "a8bd1d5f",
   "metadata": {},
   "source": [
    "**These are 10 missing rows in the Storage Column, fill these rows with suitable value.**"
   ]
  },
  {
   "cell_type": "code",
   "execution_count": 31,
   "id": "97e8105f",
   "metadata": {},
   "outputs": [],
   "source": [
    "df.iloc[83,7]='128GB EMMC'\n",
    "df.iloc[89,7]='64GB EMMC'\n",
    "df.iloc[96,7]='64GB EMMC'\n",
    "df.iloc[345,7]='32GB EMMC'\n",
    "df.iloc[509,7]='64GB EMMC'\n",
    "df.iloc[544,7]='64GB EMMC'\n",
    "df.iloc[559,7]='64GB EMMC'\n",
    "df.iloc[632,7]='128GB EMMC'\n",
    "df.iloc[695,7]='64GB EMMC'\n",
    "df.iloc[715,7]='64GB EMMC'"
   ]
  },
  {
   "cell_type": "code",
   "execution_count": 32,
   "id": "e5acfb85",
   "metadata": {},
   "outputs": [
    {
     "data": {
      "text/plain": [
       "0"
      ]
     },
     "execution_count": 32,
     "metadata": {},
     "output_type": "execute_result"
    }
   ],
   "source": [
    "len(df[df['Storage']==''])"
   ]
  },
  {
   "cell_type": "code",
   "execution_count": 33,
   "id": "91dbd1c7",
   "metadata": {},
   "outputs": [],
   "source": [
    "df['Storage'].replace({'256 GB SSD':'256GB SSD'}, inplace=True)\n",
    "df['Storage'].replace({'512 GB SSD':'512GB SSD'}, inplace=True)\n",
    "df['Storage'].replace({'1 TB SSD':'1TB SSD'}, inplace=True)\n",
    "df['Storage'].replace({'1 TB HDD':'1TB HDD'}, inplace=True)\n",
    "df['Storage'].replace({'128 GB SSD':'128GB SSD'}, inplace=True)\n",
    "df['Storage'].replace({'2 TB SSD':'2TB SSD'}, inplace=True)\n",
    "df['Storage'].replace({'1 TB HDD256 GB SSD':'1TB HDD'}, inplace=True)\n",
    "df['Storage'].replace({'256 GB HDD256 GB SSD':'256GB HDD'}, inplace=True)\n",
    "df['Storage'].replace({'1 TB HDD512 GB SSD':'1TB HDD'}, inplace=True)\n",
    "df['Storage'].replace({'128 GB SSD1 TB HDD128 GB SSD':'1TB HDD'}, inplace=True)"
   ]
  },
  {
   "cell_type": "code",
   "execution_count": 34,
   "id": "f40b81a3",
   "metadata": {},
   "outputs": [
    {
     "data": {
      "text/html": [
       "<div>\n",
       "<style scoped>\n",
       "    .dataframe tbody tr th:only-of-type {\n",
       "        vertical-align: middle;\n",
       "    }\n",
       "\n",
       "    .dataframe tbody tr th {\n",
       "        vertical-align: top;\n",
       "    }\n",
       "\n",
       "    .dataframe thead th {\n",
       "        text-align: right;\n",
       "    }\n",
       "</style>\n",
       "<table border=\"1\" class=\"dataframe\">\n",
       "  <thead>\n",
       "    <tr style=\"text-align: right;\">\n",
       "      <th></th>\n",
       "      <th>Product</th>\n",
       "      <th>Rating</th>\n",
       "      <th>MRP</th>\n",
       "      <th>Feature</th>\n",
       "      <th>Brand</th>\n",
       "      <th>Processor Type</th>\n",
       "      <th>Operating System</th>\n",
       "      <th>RAM Size</th>\n",
       "      <th>RAM Type</th>\n",
       "      <th>Disc Size</th>\n",
       "      <th>Disc Type</th>\n",
       "    </tr>\n",
       "  </thead>\n",
       "  <tbody>\n",
       "    <tr>\n",
       "      <th>0</th>\n",
       "      <td>Lenovo IdeaPad 3 Core i3 11th Gen - (8 GB/256 GB SSD/Windows 11 Home) 14ITL05 Thin and Light Laptop</td>\n",
       "      <td>4.2</td>\n",
       "      <td>36990</td>\n",
       "      <td>Intel Core i3 Processor (11th Gen)8 GB DDR4 RAM64 bit Windows 11 Operating System256 GB SSD35.56 cm (14 inch) DisplayOffice Home and Student 20212 Year Onsite�Warranty</td>\n",
       "      <td>Lenovo</td>\n",
       "      <td>Intel Core i3</td>\n",
       "      <td>Windows 11</td>\n",
       "      <td>8GB</td>\n",
       "      <td>DDR4</td>\n",
       "      <td>256GB</td>\n",
       "      <td>SSD</td>\n",
       "    </tr>\n",
       "    <tr>\n",
       "      <th>1</th>\n",
       "      <td>Lenovo IdeaPad 3 Core i3 11th Gen - (8 GB/512 GB SSD/Windows 11 Home) 82H801L7IN | 82H802FJIN | 82H802...</td>\n",
       "      <td>4.2</td>\n",
       "      <td>39990</td>\n",
       "      <td>Intel Core i3 Processor (11th Gen)8 GB DDR4 RAM64 bit Windows 11 Operating System512 GB SSD39.62 cm (15.6 inch) DisplayOffice Home and Student 20212 Year Onsite�Warranty</td>\n",
       "      <td>Lenovo</td>\n",
       "      <td>Intel Core i3</td>\n",
       "      <td>Windows 11</td>\n",
       "      <td>8GB</td>\n",
       "      <td>DDR4</td>\n",
       "      <td>512GB</td>\n",
       "      <td>SSD</td>\n",
       "    </tr>\n",
       "    <tr>\n",
       "      <th>2</th>\n",
       "      <td>ASUS VivoBook 15 (2022) Core i3 10th Gen - (8 GB/512 GB SSD/Windows 11 Home) X515JA-EJ362WS | X515JA-E...</td>\n",
       "      <td>4.3</td>\n",
       "      <td>32990</td>\n",
       "      <td>Intel Core i3 Processor (10th Gen)8 GB DDR4 RAM64 bit Windows 11 Operating System512 GB SSD39.62 cm (15.6 inch) DisplayOffice Home and Student 20211 Year Onsite Warranty</td>\n",
       "      <td>ASUS</td>\n",
       "      <td>Intel Core i3</td>\n",
       "      <td>Windows 11</td>\n",
       "      <td>8GB</td>\n",
       "      <td>DDR4</td>\n",
       "      <td>512GB</td>\n",
       "      <td>SSD</td>\n",
       "    </tr>\n",
       "    <tr>\n",
       "      <th>3</th>\n",
       "      <td>HP Pavilion Ryzen 5 Hexa Core AMD R5-5600H - (8 GB/512 GB SSD/Windows 10/4 GB Graphics/NVIDIA GeForce ...</td>\n",
       "      <td>4.4</td>\n",
       "      <td>49990</td>\n",
       "      <td>AMD Ryzen 5 Hexa Core Processor8 GB DDR4 RAM64 bit Windows 10 Operating System512 GB SSD39.62 cm (15.6 inch) DisplayHP Documentation, HP e-service, HP BIOS Recovery, HP SSRM, HP Smart, HP Jumpstarts1 Year Onsite Warranty</td>\n",
       "      <td>HP</td>\n",
       "      <td>AMD Ryzen 5 Hexa Core</td>\n",
       "      <td>Windows 10</td>\n",
       "      <td>8GB</td>\n",
       "      <td>DDR4</td>\n",
       "      <td>512GB</td>\n",
       "      <td>SSD</td>\n",
       "    </tr>\n",
       "    <tr>\n",
       "      <th>4</th>\n",
       "      <td>ASUS TUF Gaming F15 Core i5 10th Gen - (8 GB/512 GB SSD/Windows 11 Home/4 GB Graphics/NVIDIA GeForce G...</td>\n",
       "      <td>4.4</td>\n",
       "      <td>49990</td>\n",
       "      <td>Intel Core i5 Processor (10th Gen)8 GB DDR4 RAMWindows 11 Operating System512 GB SSD39.62 cm (15.6 inch) Display1 Year Onsite Warranty</td>\n",
       "      <td>ASUS</td>\n",
       "      <td>Intel Core i5</td>\n",
       "      <td>Windows 11</td>\n",
       "      <td>8GB</td>\n",
       "      <td>DDR4</td>\n",
       "      <td>512GB</td>\n",
       "      <td>SSD</td>\n",
       "    </tr>\n",
       "  </tbody>\n",
       "</table>\n",
       "</div>"
      ],
      "text/plain": [
       "                                                                                                     Product  \\\n",
       "0        Lenovo IdeaPad 3 Core i3 11th Gen - (8 GB/256 GB SSD/Windows 11 Home) 14ITL05 Thin and Light Laptop   \n",
       "1  Lenovo IdeaPad 3 Core i3 11th Gen - (8 GB/512 GB SSD/Windows 11 Home) 82H801L7IN | 82H802FJIN | 82H802...   \n",
       "2  ASUS VivoBook 15 (2022) Core i3 10th Gen - (8 GB/512 GB SSD/Windows 11 Home) X515JA-EJ362WS | X515JA-E...   \n",
       "3  HP Pavilion Ryzen 5 Hexa Core AMD R5-5600H - (8 GB/512 GB SSD/Windows 10/4 GB Graphics/NVIDIA GeForce ...   \n",
       "4  ASUS TUF Gaming F15 Core i5 10th Gen - (8 GB/512 GB SSD/Windows 11 Home/4 GB Graphics/NVIDIA GeForce G...   \n",
       "\n",
       "   Rating    MRP  \\\n",
       "0     4.2  36990   \n",
       "1     4.2  39990   \n",
       "2     4.3  32990   \n",
       "3     4.4  49990   \n",
       "4     4.4  49990   \n",
       "\n",
       "                                                                                                                                                                                                                        Feature  \\\n",
       "0                                                       Intel Core i3 Processor (11th Gen)8 GB DDR4 RAM64 bit Windows 11 Operating System256 GB SSD35.56 cm (14 inch) DisplayOffice Home and Student 20212 Year Onsite�Warranty   \n",
       "1                                                     Intel Core i3 Processor (11th Gen)8 GB DDR4 RAM64 bit Windows 11 Operating System512 GB SSD39.62 cm (15.6 inch) DisplayOffice Home and Student 20212 Year Onsite�Warranty   \n",
       "2                                                     Intel Core i3 Processor (10th Gen)8 GB DDR4 RAM64 bit Windows 11 Operating System512 GB SSD39.62 cm (15.6 inch) DisplayOffice Home and Student 20211 Year Onsite Warranty   \n",
       "3  AMD Ryzen 5 Hexa Core Processor8 GB DDR4 RAM64 bit Windows 10 Operating System512 GB SSD39.62 cm (15.6 inch) DisplayHP Documentation, HP e-service, HP BIOS Recovery, HP SSRM, HP Smart, HP Jumpstarts1 Year Onsite Warranty   \n",
       "4                                                                                        Intel Core i5 Processor (10th Gen)8 GB DDR4 RAMWindows 11 Operating System512 GB SSD39.62 cm (15.6 inch) Display1 Year Onsite Warranty   \n",
       "\n",
       "    Brand         Processor Type Operating System RAM Size RAM Type Disc Size  \\\n",
       "0  Lenovo          Intel Core i3       Windows 11      8GB     DDR4     256GB   \n",
       "1  Lenovo          Intel Core i3       Windows 11      8GB     DDR4     512GB   \n",
       "2    ASUS          Intel Core i3       Windows 11      8GB     DDR4     512GB   \n",
       "3      HP  AMD Ryzen 5 Hexa Core       Windows 10      8GB     DDR4     512GB   \n",
       "4    ASUS          Intel Core i5       Windows 11      8GB     DDR4     512GB   \n",
       "\n",
       "  Disc Type  \n",
       "0       SSD  \n",
       "1       SSD  \n",
       "2       SSD  \n",
       "3       SSD  \n",
       "4       SSD  "
      ]
     },
     "execution_count": 34,
     "metadata": {},
     "output_type": "execute_result"
    }
   ],
   "source": [
    "df[['Disc Size','Disc Type']]=df['Storage'].str.split(' ', expand=True)\n",
    "\n",
    "df.drop(['Storage'], axis=1, inplace=True)\n",
    "df.head()"
   ]
  },
  {
   "cell_type": "code",
   "execution_count": 35,
   "id": "a1b839b2",
   "metadata": {},
   "outputs": [
    {
     "data": {
      "text/plain": [
       "array(['256GB', '512GB', '1TB', '128GB', '64GB', '32GB', '2TB'],\n",
       "      dtype=object)"
      ]
     },
     "execution_count": 35,
     "metadata": {},
     "output_type": "execute_result"
    }
   ],
   "source": [
    "df['Disc Size'].unique()"
   ]
  },
  {
   "cell_type": "code",
   "execution_count": 36,
   "id": "c324b100",
   "metadata": {},
   "outputs": [
    {
     "data": {
      "text/plain": [
       "array(['SSD', 'HDD', 'EMMC'], dtype=object)"
      ]
     },
     "execution_count": 36,
     "metadata": {},
     "output_type": "execute_result"
    }
   ],
   "source": [
    "df['Disc Type'].unique()"
   ]
  },
  {
   "cell_type": "code",
   "execution_count": null,
   "id": "02c37d13",
   "metadata": {},
   "outputs": [],
   "source": []
  },
  {
   "cell_type": "markdown",
   "id": "31c6c030",
   "metadata": {},
   "source": [
    "### Final Cleaned Data"
   ]
  },
  {
   "cell_type": "code",
   "execution_count": 37,
   "id": "91e3140e",
   "metadata": {},
   "outputs": [
    {
     "data": {
      "text/html": [
       "<div>\n",
       "<style scoped>\n",
       "    .dataframe tbody tr th:only-of-type {\n",
       "        vertical-align: middle;\n",
       "    }\n",
       "\n",
       "    .dataframe tbody tr th {\n",
       "        vertical-align: top;\n",
       "    }\n",
       "\n",
       "    .dataframe thead th {\n",
       "        text-align: right;\n",
       "    }\n",
       "</style>\n",
       "<table border=\"1\" class=\"dataframe\">\n",
       "  <thead>\n",
       "    <tr style=\"text-align: right;\">\n",
       "      <th></th>\n",
       "      <th>Product</th>\n",
       "      <th>Rating</th>\n",
       "      <th>MRP</th>\n",
       "      <th>Feature</th>\n",
       "      <th>Brand</th>\n",
       "      <th>Processor Type</th>\n",
       "      <th>Operating System</th>\n",
       "      <th>RAM Size</th>\n",
       "      <th>RAM Type</th>\n",
       "      <th>Disc Size</th>\n",
       "      <th>Disc Type</th>\n",
       "    </tr>\n",
       "  </thead>\n",
       "  <tbody>\n",
       "    <tr>\n",
       "      <th>0</th>\n",
       "      <td>Lenovo IdeaPad 3 Core i3 11th Gen - (8 GB/256 GB SSD/Windows 11 Home) 14ITL05 Thin and Light Laptop</td>\n",
       "      <td>4.2</td>\n",
       "      <td>36990</td>\n",
       "      <td>Intel Core i3 Processor (11th Gen)8 GB DDR4 RAM64 bit Windows 11 Operating System256 GB SSD35.56 cm (14 inch) DisplayOffice Home and Student 20212 Year Onsite�Warranty</td>\n",
       "      <td>Lenovo</td>\n",
       "      <td>Intel Core i3</td>\n",
       "      <td>Windows 11</td>\n",
       "      <td>8GB</td>\n",
       "      <td>DDR4</td>\n",
       "      <td>256GB</td>\n",
       "      <td>SSD</td>\n",
       "    </tr>\n",
       "    <tr>\n",
       "      <th>1</th>\n",
       "      <td>Lenovo IdeaPad 3 Core i3 11th Gen - (8 GB/512 GB SSD/Windows 11 Home) 82H801L7IN | 82H802FJIN | 82H802...</td>\n",
       "      <td>4.2</td>\n",
       "      <td>39990</td>\n",
       "      <td>Intel Core i3 Processor (11th Gen)8 GB DDR4 RAM64 bit Windows 11 Operating System512 GB SSD39.62 cm (15.6 inch) DisplayOffice Home and Student 20212 Year Onsite�Warranty</td>\n",
       "      <td>Lenovo</td>\n",
       "      <td>Intel Core i3</td>\n",
       "      <td>Windows 11</td>\n",
       "      <td>8GB</td>\n",
       "      <td>DDR4</td>\n",
       "      <td>512GB</td>\n",
       "      <td>SSD</td>\n",
       "    </tr>\n",
       "    <tr>\n",
       "      <th>2</th>\n",
       "      <td>ASUS VivoBook 15 (2022) Core i3 10th Gen - (8 GB/512 GB SSD/Windows 11 Home) X515JA-EJ362WS | X515JA-E...</td>\n",
       "      <td>4.3</td>\n",
       "      <td>32990</td>\n",
       "      <td>Intel Core i3 Processor (10th Gen)8 GB DDR4 RAM64 bit Windows 11 Operating System512 GB SSD39.62 cm (15.6 inch) DisplayOffice Home and Student 20211 Year Onsite Warranty</td>\n",
       "      <td>ASUS</td>\n",
       "      <td>Intel Core i3</td>\n",
       "      <td>Windows 11</td>\n",
       "      <td>8GB</td>\n",
       "      <td>DDR4</td>\n",
       "      <td>512GB</td>\n",
       "      <td>SSD</td>\n",
       "    </tr>\n",
       "    <tr>\n",
       "      <th>3</th>\n",
       "      <td>HP Pavilion Ryzen 5 Hexa Core AMD R5-5600H - (8 GB/512 GB SSD/Windows 10/4 GB Graphics/NVIDIA GeForce ...</td>\n",
       "      <td>4.4</td>\n",
       "      <td>49990</td>\n",
       "      <td>AMD Ryzen 5 Hexa Core Processor8 GB DDR4 RAM64 bit Windows 10 Operating System512 GB SSD39.62 cm (15.6 inch) DisplayHP Documentation, HP e-service, HP BIOS Recovery, HP SSRM, HP Smart, HP Jumpstarts1 Year Onsite Warranty</td>\n",
       "      <td>HP</td>\n",
       "      <td>AMD Ryzen 5 Hexa Core</td>\n",
       "      <td>Windows 10</td>\n",
       "      <td>8GB</td>\n",
       "      <td>DDR4</td>\n",
       "      <td>512GB</td>\n",
       "      <td>SSD</td>\n",
       "    </tr>\n",
       "    <tr>\n",
       "      <th>4</th>\n",
       "      <td>ASUS TUF Gaming F15 Core i5 10th Gen - (8 GB/512 GB SSD/Windows 11 Home/4 GB Graphics/NVIDIA GeForce G...</td>\n",
       "      <td>4.4</td>\n",
       "      <td>49990</td>\n",
       "      <td>Intel Core i5 Processor (10th Gen)8 GB DDR4 RAMWindows 11 Operating System512 GB SSD39.62 cm (15.6 inch) Display1 Year Onsite Warranty</td>\n",
       "      <td>ASUS</td>\n",
       "      <td>Intel Core i5</td>\n",
       "      <td>Windows 11</td>\n",
       "      <td>8GB</td>\n",
       "      <td>DDR4</td>\n",
       "      <td>512GB</td>\n",
       "      <td>SSD</td>\n",
       "    </tr>\n",
       "  </tbody>\n",
       "</table>\n",
       "</div>"
      ],
      "text/plain": [
       "                                                                                                     Product  \\\n",
       "0        Lenovo IdeaPad 3 Core i3 11th Gen - (8 GB/256 GB SSD/Windows 11 Home) 14ITL05 Thin and Light Laptop   \n",
       "1  Lenovo IdeaPad 3 Core i3 11th Gen - (8 GB/512 GB SSD/Windows 11 Home) 82H801L7IN | 82H802FJIN | 82H802...   \n",
       "2  ASUS VivoBook 15 (2022) Core i3 10th Gen - (8 GB/512 GB SSD/Windows 11 Home) X515JA-EJ362WS | X515JA-E...   \n",
       "3  HP Pavilion Ryzen 5 Hexa Core AMD R5-5600H - (8 GB/512 GB SSD/Windows 10/4 GB Graphics/NVIDIA GeForce ...   \n",
       "4  ASUS TUF Gaming F15 Core i5 10th Gen - (8 GB/512 GB SSD/Windows 11 Home/4 GB Graphics/NVIDIA GeForce G...   \n",
       "\n",
       "   Rating    MRP  \\\n",
       "0     4.2  36990   \n",
       "1     4.2  39990   \n",
       "2     4.3  32990   \n",
       "3     4.4  49990   \n",
       "4     4.4  49990   \n",
       "\n",
       "                                                                                                                                                                                                                        Feature  \\\n",
       "0                                                       Intel Core i3 Processor (11th Gen)8 GB DDR4 RAM64 bit Windows 11 Operating System256 GB SSD35.56 cm (14 inch) DisplayOffice Home and Student 20212 Year Onsite�Warranty   \n",
       "1                                                     Intel Core i3 Processor (11th Gen)8 GB DDR4 RAM64 bit Windows 11 Operating System512 GB SSD39.62 cm (15.6 inch) DisplayOffice Home and Student 20212 Year Onsite�Warranty   \n",
       "2                                                     Intel Core i3 Processor (10th Gen)8 GB DDR4 RAM64 bit Windows 11 Operating System512 GB SSD39.62 cm (15.6 inch) DisplayOffice Home and Student 20211 Year Onsite Warranty   \n",
       "3  AMD Ryzen 5 Hexa Core Processor8 GB DDR4 RAM64 bit Windows 10 Operating System512 GB SSD39.62 cm (15.6 inch) DisplayHP Documentation, HP e-service, HP BIOS Recovery, HP SSRM, HP Smart, HP Jumpstarts1 Year Onsite Warranty   \n",
       "4                                                                                        Intel Core i5 Processor (10th Gen)8 GB DDR4 RAMWindows 11 Operating System512 GB SSD39.62 cm (15.6 inch) Display1 Year Onsite Warranty   \n",
       "\n",
       "    Brand         Processor Type Operating System RAM Size RAM Type Disc Size  \\\n",
       "0  Lenovo          Intel Core i3       Windows 11      8GB     DDR4     256GB   \n",
       "1  Lenovo          Intel Core i3       Windows 11      8GB     DDR4     512GB   \n",
       "2    ASUS          Intel Core i3       Windows 11      8GB     DDR4     512GB   \n",
       "3      HP  AMD Ryzen 5 Hexa Core       Windows 10      8GB     DDR4     512GB   \n",
       "4    ASUS          Intel Core i5       Windows 11      8GB     DDR4     512GB   \n",
       "\n",
       "  Disc Type  \n",
       "0       SSD  \n",
       "1       SSD  \n",
       "2       SSD  \n",
       "3       SSD  \n",
       "4       SSD  "
      ]
     },
     "execution_count": 37,
     "metadata": {},
     "output_type": "execute_result"
    }
   ],
   "source": [
    "df.head()"
   ]
  },
  {
   "cell_type": "code",
   "execution_count": null,
   "id": "3b2bbc8f",
   "metadata": {},
   "outputs": [],
   "source": []
  },
  {
   "cell_type": "markdown",
   "id": "c1991acf",
   "metadata": {},
   "source": [
    "### Exploratory Data Analysis"
   ]
  },
  {
   "cell_type": "code",
   "execution_count": 38,
   "id": "e84f1d94",
   "metadata": {},
   "outputs": [
    {
     "data": {
      "text/plain": [
       "Product               0\n",
       "Rating              139\n",
       "MRP                   0\n",
       "Feature               0\n",
       "Brand                 0\n",
       "Processor Type        0\n",
       "Operating System      0\n",
       "RAM Size              0\n",
       "RAM Type              0\n",
       "Disc Size             0\n",
       "Disc Type             0\n",
       "dtype: int64"
      ]
     },
     "execution_count": 38,
     "metadata": {},
     "output_type": "execute_result"
    }
   ],
   "source": [
    "df.isna().sum()"
   ]
  },
  {
   "cell_type": "markdown",
   "id": "546caa28",
   "metadata": {},
   "source": [
    "#### Replace missing rating rows with Median of rating"
   ]
  },
  {
   "cell_type": "code",
   "execution_count": 39,
   "id": "1e7feec0",
   "metadata": {},
   "outputs": [
    {
     "data": {
      "text/plain": [
       "0"
      ]
     },
     "execution_count": 39,
     "metadata": {},
     "output_type": "execute_result"
    }
   ],
   "source": [
    "df['Rating'].fillna(df['Rating'].median(), inplace=True)\n",
    "df.Rating.isna().sum()"
   ]
  },
  {
   "cell_type": "markdown",
   "id": "ff073456",
   "metadata": {},
   "source": [
    "### Unique values and value count in Each column"
   ]
  },
  {
   "cell_type": "code",
   "execution_count": 40,
   "id": "5837ffda",
   "metadata": {
    "scrolled": false
   },
   "outputs": [
    {
     "name": "stdout",
     "output_type": "stream",
     "text": [
      "Brand has 16 unique values\n",
      "\n",
      "Unique values are\n",
      " ['Lenovo' 'ASUS' 'HP' 'DELL' 'RedmiBook' 'realme' 'acer' 'MSI' 'APPLE'\n",
      " 'Infinix' 'SAMSUNG' 'Ultimus' 'Vaio' 'GIGABYTE' 'Nokia' 'ALIENWARE']\n",
      "\n",
      "Value counts\n",
      " ASUS         251\n",
      "Lenovo       196\n",
      "HP            61\n",
      "DELL          61\n",
      "acer          35\n",
      "RedmiBook     31\n",
      "MSI           30\n",
      "Infinix       20\n",
      "APPLE         19\n",
      "realme         6\n",
      "ALIENWARE      3\n",
      "SAMSUNG        2\n",
      "Ultimus        2\n",
      "Vaio           1\n",
      "GIGABYTE       1\n",
      "Nokia          1\n",
      "Name: Brand, dtype: int64\n",
      "*-*-*-*-*-*-*-*-*-*-*-*-*-*-*-*-*-*-*-*-*-*-*-*-*-*-*-*-*-*-*-*-*-*-*-*-*-*-*-*-*-*-*-*-*-*-*-*-*-*-*-*-*-*-*-*-*-*-*-*-\n",
      "\n",
      "Processor Type has 35 unique values\n",
      "\n",
      "Unique values are\n",
      " ['Intel Core i3' 'AMD Ryzen 5 Hexa Core' 'Intel Core i5' 'Intel i3-1115G4'\n",
      " 'AMD Ryzen 7 Quad Core' 'AMD Ryzen 5 Quad Core' 'AMD Ryzen 9 Octa Core'\n",
      " 'AMD Ryzen 7 Octa Core' 'Apple M1' 'Intel Celeron Dual Core'\n",
      " 'AMD Ryzen 3 Dual Core' 'AMD Athlon Dual Core' 'Intel Evo Core i5'\n",
      " 'AMD Ryzen 3 Quad Core' 'Apple M2' 'AMD Ryzen R5-5600H'\n",
      " 'Intel Celeron Quad Core' 'Intel Core i7' 'Apple M1 Pro'\n",
      " 'Qualcomm Snapdragon 7c Gen 2' 'Intel PQC-N5030' 'Gen Intel Evo Core i5'\n",
      " 'Apple M1 Max' 'Intel Core i9' 'Intel Pentium Silver' 'Intel i3-1125G4'\n",
      " 'AMD Ryzen 5-3450U' 'AMD Ryzen 5 Dual Core' 'Intel Core i5-1135G7'\n",
      " 'Intel Core i3-1005G1' 'Intel Pentium Quad Core' 'Intel Core i5 Pro'\n",
      " 'AMD Dual Core' 'Intel i7-11800H' 'AMD Ryzen 3 Hexa Core']\n",
      "\n",
      "Value counts\n",
      " Intel Core i5                   155\n",
      "Intel Core i3                   131\n",
      "AMD Ryzen 9 Octa Core            87\n",
      "AMD Ryzen 7 Octa Core            80\n",
      "Intel Core i7                    55\n",
      "AMD Ryzen 5 Hexa Core            51\n",
      "AMD Ryzen 3 Dual Core            43\n",
      "AMD Ryzen 5 Quad Core            37\n",
      "Intel Celeron Dual Core          20\n",
      "Intel Core i9                    11\n",
      "Apple M1                          7\n",
      "Apple M1 Pro                      6\n",
      "Apple M2                          5\n",
      "AMD Ryzen 3 Quad Core             4\n",
      "Intel Celeron Quad Core           3\n",
      "Intel Pentium Quad Core           3\n",
      "Intel i3-1115G4                   2\n",
      "AMD Athlon Dual Core              2\n",
      "Intel Pentium Silver              2\n",
      "Intel Core i3-1005G1              1\n",
      "Intel Core i5-1135G7              1\n",
      "AMD Dual Core                     1\n",
      "Intel Core i5 Pro                 1\n",
      "AMD Ryzen 5-3450U                 1\n",
      "Intel i7-11800H                   1\n",
      "AMD Ryzen 5 Dual Core             1\n",
      "Intel PQC-N5030                   1\n",
      "Intel i3-1125G4                   1\n",
      "Apple M1 Max                      1\n",
      "Gen Intel Evo Core i5             1\n",
      "AMD Ryzen 7 Quad Core             1\n",
      "Qualcomm Snapdragon 7c Gen 2      1\n",
      "AMD Ryzen R5-5600H                1\n",
      "Intel Evo Core i5                 1\n",
      "AMD Ryzen 3 Hexa Core             1\n",
      "Name: Processor Type, dtype: int64\n",
      "*-*-*-*-*-*-*-*-*-*-*-*-*-*-*-*-*-*-*-*-*-*-*-*-*-*-*-*-*-*-*-*-*-*-*-*-*-*-*-*-*-*-*-*-*-*-*-*-*-*-*-*-*-*-*-*-*-*-*-*-\n",
      "\n",
      "Operating System has 5 unique values\n",
      "\n",
      "Unique values are\n",
      " ['Windows 11' 'Windows 10' 'Mac' 'Chrome' 'DOS']\n",
      "\n",
      "Value counts\n",
      " Windows 11    561\n",
      "Windows 10    129\n",
      "Mac            21\n",
      "Chrome          7\n",
      "DOS             2\n",
      "Name: Operating System, dtype: int64\n",
      "*-*-*-*-*-*-*-*-*-*-*-*-*-*-*-*-*-*-*-*-*-*-*-*-*-*-*-*-*-*-*-*-*-*-*-*-*-*-*-*-*-*-*-*-*-*-*-*-*-*-*-*-*-*-*-*-*-*-*-*-\n",
      "\n",
      "RAM Size has 4 unique values\n",
      "\n",
      "Unique values are\n",
      " ['8GB' '16GB' '4GB' '32GB']\n",
      "\n",
      "Value counts\n",
      " 8GB     403\n",
      "16GB    263\n",
      "4GB      37\n",
      "32GB     17\n",
      "Name: RAM Size, dtype: int64\n",
      "*-*-*-*-*-*-*-*-*-*-*-*-*-*-*-*-*-*-*-*-*-*-*-*-*-*-*-*-*-*-*-*-*-*-*-*-*-*-*-*-*-*-*-*-*-*-*-*-*-*-*-*-*-*-*-*-*-*-*-*-\n",
      "\n",
      "RAM Type has 7 unique values\n",
      "\n",
      "Unique values are\n",
      " ['DDR4' 'DDR5' 'LPDDR4' 'Unified' 'LPDDR4X' 'LPDDR5' 'LPDDR3']\n",
      "\n",
      "Value counts\n",
      " DDR4       561\n",
      "DDR5        92\n",
      "LPDDR4X     37\n",
      "Unified     12\n",
      "LPDDR5       9\n",
      "LPDDR4       8\n",
      "LPDDR3       1\n",
      "Name: RAM Type, dtype: int64\n",
      "*-*-*-*-*-*-*-*-*-*-*-*-*-*-*-*-*-*-*-*-*-*-*-*-*-*-*-*-*-*-*-*-*-*-*-*-*-*-*-*-*-*-*-*-*-*-*-*-*-*-*-*-*-*-*-*-*-*-*-*-\n",
      "\n",
      "Disc Size has 7 unique values\n",
      "\n",
      "Unique values are\n",
      " ['256GB' '512GB' '1TB' '128GB' '64GB' '32GB' '2TB']\n",
      "\n",
      "Value counts\n",
      " 512GB    375\n",
      "1TB      223\n",
      "256GB     99\n",
      "128GB      8\n",
      "64GB       7\n",
      "2TB        7\n",
      "32GB       1\n",
      "Name: Disc Size, dtype: int64\n",
      "*-*-*-*-*-*-*-*-*-*-*-*-*-*-*-*-*-*-*-*-*-*-*-*-*-*-*-*-*-*-*-*-*-*-*-*-*-*-*-*-*-*-*-*-*-*-*-*-*-*-*-*-*-*-*-*-*-*-*-*-\n",
      "\n",
      "Disc Type has 3 unique values\n",
      "\n",
      "Unique values are\n",
      " ['SSD' 'HDD' 'EMMC']\n",
      "\n",
      "Value counts\n",
      " SSD     662\n",
      "HDD      48\n",
      "EMMC     10\n",
      "Name: Disc Type, dtype: int64\n",
      "*-*-*-*-*-*-*-*-*-*-*-*-*-*-*-*-*-*-*-*-*-*-*-*-*-*-*-*-*-*-*-*-*-*-*-*-*-*-*-*-*-*-*-*-*-*-*-*-*-*-*-*-*-*-*-*-*-*-*-*-\n",
      "\n"
     ]
    }
   ],
   "source": [
    "cols=['Brand','Processor Type','Operating System','RAM Size','RAM Type','Disc Size','Disc Type']\n",
    "\n",
    "for col in cols:\n",
    "    print(\"{} has {} unique values\".format(col, df[col].nunique()))\n",
    "    print()\n",
    "    print(\"Unique values are\\n {}\".format(df[col].unique()))\n",
    "    print()\n",
    "    print(\"Value counts\\n {}\".format(df[col].value_counts()))\n",
    "    print('*-'*60)\n",
    "    print()"
   ]
  },
  {
   "cell_type": "code",
   "execution_count": null,
   "id": "99772f51",
   "metadata": {},
   "outputs": [],
   "source": []
  },
  {
   "cell_type": "markdown",
   "id": "86b67333",
   "metadata": {},
   "source": [
    "### Analysis of MRP column"
   ]
  },
  {
   "cell_type": "code",
   "execution_count": 41,
   "id": "53dd498f",
   "metadata": {},
   "outputs": [
    {
     "name": "stdout",
     "output_type": "stream",
     "text": [
      "Maximum 434830\n",
      "Minimum 14990\n",
      "Mean 81605.8375\n",
      "Median 59990.0\n",
      "Standard Deviation 61552.95510244973\n"
     ]
    }
   ],
   "source": [
    "print(\"Maximum\", df['MRP'].max())\n",
    "print(\"Minimum\", df['MRP'].min())\n",
    "print(\"Mean\", df['MRP'].mean())\n",
    "print(\"Median\", df['MRP'].median())\n",
    "print(\"Standard Deviation\", df['MRP'].std())"
   ]
  },
  {
   "cell_type": "markdown",
   "id": "9cde8bad",
   "metadata": {},
   "source": [
    "**Difference between Mean and median is high, hence there might be Outliers in the MRP column.**"
   ]
  },
  {
   "cell_type": "markdown",
   "id": "639d8093",
   "metadata": {},
   "source": [
    "### Outlier Detection"
   ]
  },
  {
   "cell_type": "code",
   "execution_count": 42,
   "id": "75359c59",
   "metadata": {},
   "outputs": [
    {
     "data": {
      "text/plain": [
       "<AxesSubplot:ylabel='Frequency'>"
      ]
     },
     "execution_count": 42,
     "metadata": {},
     "output_type": "execute_result"
    },
    {
     "data": {
      "image/png": "[encoded data removed]",
      "text/plain": [
       "<Figure size 1296x360 with 1 Axes>"
      ]
     },
     "metadata": {
      "needs_background": "light"
     },
     "output_type": "display_data"
    }
   ],
   "source": [
    "df['MRP'].plot(kind='hist', figsize=(18,5))"
   ]
  },
  {
   "cell_type": "markdown",
   "id": "0acb1e43",
   "metadata": {},
   "source": [
    "**Most Laptop price is in range upto 1 Lakh.**"
   ]
  },
  {
   "cell_type": "code",
   "execution_count": 43,
   "id": "50b0e9c6",
   "metadata": {},
   "outputs": [
    {
     "data": {
      "text/plain": [
       "<AxesSubplot:>"
      ]
     },
     "execution_count": 43,
     "metadata": {},
     "output_type": "execute_result"
    },
    {
     "data": {
      "image/png": "[encoded data removed]",
      "text/plain": [
       "<Figure size 1296x360 with 1 Axes>"
      ]
     },
     "metadata": {
      "needs_background": "light"
     },
     "output_type": "display_data"
    }
   ],
   "source": [
    "df['MRP'].plot(kind='box', figsize=(18,5))"
   ]
  },
  {
   "cell_type": "markdown",
   "id": "bef5d643",
   "metadata": {},
   "source": [
    "**There are some laptop prices which are far away from group of data, Each data point is important so we will take transformation of this column.**"
   ]
  },
  {
   "cell_type": "code",
   "execution_count": null,
   "id": "a80b2a64",
   "metadata": {},
   "outputs": [],
   "source": []
  },
  {
   "cell_type": "markdown",
   "id": "b0aa92df",
   "metadata": {},
   "source": [
    "### Relation between Brand and MRP"
   ]
  },
  {
   "cell_type": "code",
   "execution_count": 44,
   "id": "3c58eecc",
   "metadata": {},
   "outputs": [
    {
     "data": {
      "image/png": "[encoded data removed]",
      "text/plain": [
       "<Figure size 1080x360 with 1 Axes>"
      ]
     },
     "metadata": {
      "needs_background": "light"
     },
     "output_type": "display_data"
    }
   ],
   "source": [
    "import seaborn as sns\n",
    "import matplotlib.pyplot as plt\n",
    "plt.figure(figsize=(15, 5))\n",
    "sns.boxplot(x='Brand', y ='MRP', data=df);"
   ]
  },
  {
   "cell_type": "markdown",
   "id": "033e06e3",
   "metadata": {},
   "source": [
    "**Price for laptop brand ALIENWARE is ranges approximetely from 2 Lakh to 3.5 Lakh, these are costiest laptops.**"
   ]
  },
  {
   "cell_type": "code",
   "execution_count": null,
   "id": "5add3880",
   "metadata": {},
   "outputs": [],
   "source": []
  },
  {
   "cell_type": "markdown",
   "id": "20ef053b",
   "metadata": {},
   "source": [
    "### Relation between Processor Type and MRP"
   ]
  },
  {
   "cell_type": "code",
   "execution_count": 45,
   "id": "db70dc88",
   "metadata": {},
   "outputs": [
    {
     "data": {
      "image/png": "[encoded data removed]",
      "text/plain": [
       "<Figure size 1080x360 with 1 Axes>"
      ]
     },
     "metadata": {
      "needs_background": "light"
     },
     "output_type": "display_data"
    }
   ],
   "source": [
    "plt.figure(figsize=(15, 5))\n",
    "sns.boxplot(x='Processor Type', y ='MRP', data=df)\n",
    "plt.xticks(rotation=90);"
   ]
  },
  {
   "cell_type": "markdown",
   "id": "ec41a2f2",
   "metadata": {},
   "source": [
    "**Intel core i9 peocessor laptop has broad MRP range.**"
   ]
  },
  {
   "cell_type": "code",
   "execution_count": null,
   "id": "96896289",
   "metadata": {},
   "outputs": [],
   "source": []
  },
  {
   "cell_type": "markdown",
   "id": "527973dd",
   "metadata": {},
   "source": [
    "### Relation between Operating system and MRP"
   ]
  },
  {
   "cell_type": "code",
   "execution_count": 46,
   "id": "d7f43d14",
   "metadata": {},
   "outputs": [
    {
     "data": {
      "image/png": "[encoded data removed]",
      "text/plain": [
       "<Figure size 1080x360 with 1 Axes>"
      ]
     },
     "metadata": {
      "needs_background": "light"
     },
     "output_type": "display_data"
    }
   ],
   "source": [
    "plt.figure(figsize=(15, 5))\n",
    "sns.boxplot(x='Operating System', y ='MRP', data=df);"
   ]
  },
  {
   "cell_type": "markdown",
   "id": "79277e08",
   "metadata": {},
   "source": [
    "**64 bit Windows 11 OS has broad range of laptop price.**"
   ]
  },
  {
   "cell_type": "code",
   "execution_count": null,
   "id": "0d1a862e",
   "metadata": {},
   "outputs": [],
   "source": []
  },
  {
   "cell_type": "markdown",
   "id": "c8e39d98",
   "metadata": {},
   "source": [
    "### Relation between RAM type and MRP"
   ]
  },
  {
   "cell_type": "code",
   "execution_count": 47,
   "id": "7eeccd15",
   "metadata": {},
   "outputs": [
    {
     "data": {
      "image/png": "[encoded data removed]",
      "text/plain": [
       "<Figure size 1080x360 with 1 Axes>"
      ]
     },
     "metadata": {
      "needs_background": "light"
     },
     "output_type": "display_data"
    }
   ],
   "source": [
    "plt.figure(figsize=(15, 5))\n",
    "sns.boxplot(x='RAM Type', y ='MRP', data=df);"
   ]
  },
  {
   "cell_type": "code",
   "execution_count": null,
   "id": "8135895a",
   "metadata": {},
   "outputs": [],
   "source": []
  },
  {
   "cell_type": "markdown",
   "id": "40a40c0a",
   "metadata": {},
   "source": [
    "### Relation between RAM size and MRP"
   ]
  },
  {
   "cell_type": "code",
   "execution_count": 48,
   "id": "739f77b2",
   "metadata": {},
   "outputs": [
    {
     "data": {
      "text/plain": [
       "<AxesSubplot:xlabel='RAM Size', ylabel='MRP'>"
      ]
     },
     "execution_count": 48,
     "metadata": {},
     "output_type": "execute_result"
    },
    {
     "data": {
      "image/png": "[encoded data removed]",
      "text/plain": [
       "<Figure size 1080x360 with 1 Axes>"
      ]
     },
     "metadata": {
      "needs_background": "light"
     },
     "output_type": "display_data"
    }
   ],
   "source": [
    "plt.figure(figsize=(15, 5))\n",
    "sns.boxplot(x='RAM Size', y ='MRP', data=df)"
   ]
  },
  {
   "cell_type": "markdown",
   "id": "60b58c1d",
   "metadata": {},
   "source": [
    "**Laptop Price are higher for high RAM.**"
   ]
  },
  {
   "cell_type": "code",
   "execution_count": null,
   "id": "ea4a2eae",
   "metadata": {},
   "outputs": [],
   "source": []
  },
  {
   "cell_type": "markdown",
   "id": "828d1c71",
   "metadata": {},
   "source": [
    "### Relation between Disc type and MRP"
   ]
  },
  {
   "cell_type": "code",
   "execution_count": 49,
   "id": "8d7b4d32",
   "metadata": {},
   "outputs": [
    {
     "data": {
      "image/png": "[encoded data removed]",
      "text/plain": [
       "<Figure size 1080x360 with 1 Axes>"
      ]
     },
     "metadata": {
      "needs_background": "light"
     },
     "output_type": "display_data"
    }
   ],
   "source": [
    "plt.figure(figsize=(15, 5))\n",
    "sns.boxplot(x='Disc Type', y ='MRP', data=df);"
   ]
  },
  {
   "cell_type": "code",
   "execution_count": null,
   "id": "5993b645",
   "metadata": {},
   "outputs": [],
   "source": []
  },
  {
   "cell_type": "markdown",
   "id": "38236f27",
   "metadata": {},
   "source": [
    "### Relation between Disc size"
   ]
  },
  {
   "cell_type": "code",
   "execution_count": 50,
   "id": "0097cb42",
   "metadata": {},
   "outputs": [
    {
     "data": {
      "image/png": "[encoded data removed]",
      "text/plain": [
       "<Figure size 1080x360 with 1 Axes>"
      ]
     },
     "metadata": {
      "needs_background": "light"
     },
     "output_type": "display_data"
    }
   ],
   "source": [
    "plt.figure(figsize=(15, 5))\n",
    "sns.boxplot(x='Disc Size', y ='MRP', data=df);"
   ]
  },
  {
   "cell_type": "code",
   "execution_count": null,
   "id": "07468a3c",
   "metadata": {},
   "outputs": [],
   "source": []
  },
  {
   "cell_type": "markdown",
   "id": "a05a4110",
   "metadata": {},
   "source": [
    "### Average,Maximum and Minimum Price for different Brand"
   ]
  },
  {
   "cell_type": "code",
   "execution_count": 51,
   "id": "fbf65d12",
   "metadata": {},
   "outputs": [
    {
     "data": {
      "text/html": [
       "<div>\n",
       "<style scoped>\n",
       "    .dataframe tbody tr th:only-of-type {\n",
       "        vertical-align: middle;\n",
       "    }\n",
       "\n",
       "    .dataframe tbody tr th {\n",
       "        vertical-align: top;\n",
       "    }\n",
       "\n",
       "    .dataframe thead tr th {\n",
       "        text-align: left;\n",
       "    }\n",
       "\n",
       "    .dataframe thead tr:last-of-type th {\n",
       "        text-align: right;\n",
       "    }\n",
       "</style>\n",
       "<table border=\"1\" class=\"dataframe\">\n",
       "  <thead>\n",
       "    <tr>\n",
       "      <th></th>\n",
       "      <th colspan=\"3\" halign=\"left\">MRP</th>\n",
       "    </tr>\n",
       "    <tr>\n",
       "      <th></th>\n",
       "      <th>min</th>\n",
       "      <th>max</th>\n",
       "      <th>mean</th>\n",
       "    </tr>\n",
       "    <tr>\n",
       "      <th>Brand</th>\n",
       "      <th></th>\n",
       "      <th></th>\n",
       "      <th></th>\n",
       "    </tr>\n",
       "  </thead>\n",
       "  <tbody>\n",
       "    <tr>\n",
       "      <th>ALIENWARE</th>\n",
       "      <td>199990</td>\n",
       "      <td>345390</td>\n",
       "      <td>253390.000000</td>\n",
       "    </tr>\n",
       "    <tr>\n",
       "      <th>APPLE</th>\n",
       "      <td>88990</td>\n",
       "      <td>309490</td>\n",
       "      <td>162332.105263</td>\n",
       "    </tr>\n",
       "    <tr>\n",
       "      <th>ASUS</th>\n",
       "      <td>14990</td>\n",
       "      <td>361990</td>\n",
       "      <td>115667.589641</td>\n",
       "    </tr>\n",
       "    <tr>\n",
       "      <th>DELL</th>\n",
       "      <td>30428</td>\n",
       "      <td>434830</td>\n",
       "      <td>73660.688525</td>\n",
       "    </tr>\n",
       "    <tr>\n",
       "      <th>GIGABYTE</th>\n",
       "      <td>73990</td>\n",
       "      <td>73990</td>\n",
       "      <td>73990.000000</td>\n",
       "    </tr>\n",
       "    <tr>\n",
       "      <th>HP</th>\n",
       "      <td>25990</td>\n",
       "      <td>199990</td>\n",
       "      <td>65195.557377</td>\n",
       "    </tr>\n",
       "    <tr>\n",
       "      <th>Infinix</th>\n",
       "      <td>20990</td>\n",
       "      <td>52990</td>\n",
       "      <td>36890.000000</td>\n",
       "    </tr>\n",
       "    <tr>\n",
       "      <th>Lenovo</th>\n",
       "      <td>19490</td>\n",
       "      <td>157990</td>\n",
       "      <td>45454.709184</td>\n",
       "    </tr>\n",
       "    <tr>\n",
       "      <th>MSI</th>\n",
       "      <td>43990</td>\n",
       "      <td>389990</td>\n",
       "      <td>121963.966667</td>\n",
       "    </tr>\n",
       "    <tr>\n",
       "      <th>Nokia</th>\n",
       "      <td>50490</td>\n",
       "      <td>50490</td>\n",
       "      <td>50490.000000</td>\n",
       "    </tr>\n",
       "    <tr>\n",
       "      <th>RedmiBook</th>\n",
       "      <td>31990</td>\n",
       "      <td>39990</td>\n",
       "      <td>39731.935484</td>\n",
       "    </tr>\n",
       "    <tr>\n",
       "      <th>SAMSUNG</th>\n",
       "      <td>32990</td>\n",
       "      <td>59990</td>\n",
       "      <td>46490.000000</td>\n",
       "    </tr>\n",
       "    <tr>\n",
       "      <th>Ultimus</th>\n",
       "      <td>15990</td>\n",
       "      <td>19990</td>\n",
       "      <td>17990.000000</td>\n",
       "    </tr>\n",
       "    <tr>\n",
       "      <th>Vaio</th>\n",
       "      <td>40990</td>\n",
       "      <td>40990</td>\n",
       "      <td>40990.000000</td>\n",
       "    </tr>\n",
       "    <tr>\n",
       "      <th>acer</th>\n",
       "      <td>24990</td>\n",
       "      <td>155490</td>\n",
       "      <td>64314.742857</td>\n",
       "    </tr>\n",
       "    <tr>\n",
       "      <th>realme</th>\n",
       "      <td>46990</td>\n",
       "      <td>64999</td>\n",
       "      <td>54324.833333</td>\n",
       "    </tr>\n",
       "  </tbody>\n",
       "</table>\n",
       "</div>"
      ],
      "text/plain": [
       "              MRP                       \n",
       "              min     max           mean\n",
       "Brand                                   \n",
       "ALIENWARE  199990  345390  253390.000000\n",
       "APPLE       88990  309490  162332.105263\n",
       "ASUS        14990  361990  115667.589641\n",
       "DELL        30428  434830   73660.688525\n",
       "GIGABYTE    73990   73990   73990.000000\n",
       "HP          25990  199990   65195.557377\n",
       "Infinix     20990   52990   36890.000000\n",
       "Lenovo      19490  157990   45454.709184\n",
       "MSI         43990  389990  121963.966667\n",
       "Nokia       50490   50490   50490.000000\n",
       "RedmiBook   31990   39990   39731.935484\n",
       "SAMSUNG     32990   59990   46490.000000\n",
       "Ultimus     15990   19990   17990.000000\n",
       "Vaio        40990   40990   40990.000000\n",
       "acer        24990  155490   64314.742857\n",
       "realme      46990   64999   54324.833333"
      ]
     },
     "execution_count": 51,
     "metadata": {},
     "output_type": "execute_result"
    }
   ],
   "source": [
    "df.groupby(['Brand']).agg({'MRP' : ['min', 'max', 'mean']})"
   ]
  },
  {
   "cell_type": "markdown",
   "id": "3ff425d0",
   "metadata": {},
   "source": [
    "### Average,Maximum and Minimum Price for different Operating system"
   ]
  },
  {
   "cell_type": "code",
   "execution_count": 52,
   "id": "b22c3a66",
   "metadata": {},
   "outputs": [
    {
     "data": {
      "text/html": [
       "<div>\n",
       "<style scoped>\n",
       "    .dataframe tbody tr th:only-of-type {\n",
       "        vertical-align: middle;\n",
       "    }\n",
       "\n",
       "    .dataframe tbody tr th {\n",
       "        vertical-align: top;\n",
       "    }\n",
       "\n",
       "    .dataframe thead tr th {\n",
       "        text-align: left;\n",
       "    }\n",
       "\n",
       "    .dataframe thead tr:last-of-type th {\n",
       "        text-align: right;\n",
       "    }\n",
       "</style>\n",
       "<table border=\"1\" class=\"dataframe\">\n",
       "  <thead>\n",
       "    <tr>\n",
       "      <th></th>\n",
       "      <th colspan=\"3\" halign=\"left\">MRP</th>\n",
       "    </tr>\n",
       "    <tr>\n",
       "      <th></th>\n",
       "      <th>min</th>\n",
       "      <th>max</th>\n",
       "      <th>mean</th>\n",
       "    </tr>\n",
       "    <tr>\n",
       "      <th>Operating System</th>\n",
       "      <th></th>\n",
       "      <th></th>\n",
       "      <th></th>\n",
       "    </tr>\n",
       "  </thead>\n",
       "  <tbody>\n",
       "    <tr>\n",
       "      <th>Chrome</th>\n",
       "      <td>14990</td>\n",
       "      <td>28490</td>\n",
       "      <td>22332.857143</td>\n",
       "    </tr>\n",
       "    <tr>\n",
       "      <th>DOS</th>\n",
       "      <td>35990</td>\n",
       "      <td>69990</td>\n",
       "      <td>52990.000000</td>\n",
       "    </tr>\n",
       "    <tr>\n",
       "      <th>Mac</th>\n",
       "      <td>15990</td>\n",
       "      <td>309490</td>\n",
       "      <td>148561.428571</td>\n",
       "    </tr>\n",
       "    <tr>\n",
       "      <th>Windows 10</th>\n",
       "      <td>25950</td>\n",
       "      <td>345390</td>\n",
       "      <td>76357.356589</td>\n",
       "    </tr>\n",
       "    <tr>\n",
       "      <th>Windows 11</th>\n",
       "      <td>19990</td>\n",
       "      <td>434830</td>\n",
       "      <td>81147.957219</td>\n",
       "    </tr>\n",
       "  </tbody>\n",
       "</table>\n",
       "</div>"
      ],
      "text/plain": [
       "                    MRP                       \n",
       "                    min     max           mean\n",
       "Operating System                              \n",
       "Chrome            14990   28490   22332.857143\n",
       "DOS               35990   69990   52990.000000\n",
       "Mac               15990  309490  148561.428571\n",
       "Windows 10        25950  345390   76357.356589\n",
       "Windows 11        19990  434830   81147.957219"
      ]
     },
     "execution_count": 52,
     "metadata": {},
     "output_type": "execute_result"
    }
   ],
   "source": [
    "df.groupby(['Operating System']).agg({'MRP' : ['min', 'max', 'mean']})"
   ]
  },
  {
   "cell_type": "markdown",
   "id": "26aca0c6",
   "metadata": {},
   "source": [
    "### Average, Maximum and Minimum Price for different Processor Type"
   ]
  },
  {
   "cell_type": "code",
   "execution_count": 53,
   "id": "bac4159e",
   "metadata": {},
   "outputs": [
    {
     "data": {
      "text/html": [
       "<div>\n",
       "<style scoped>\n",
       "    .dataframe tbody tr th:only-of-type {\n",
       "        vertical-align: middle;\n",
       "    }\n",
       "\n",
       "    .dataframe tbody tr th {\n",
       "        vertical-align: top;\n",
       "    }\n",
       "\n",
       "    .dataframe thead tr th {\n",
       "        text-align: left;\n",
       "    }\n",
       "\n",
       "    .dataframe thead tr:last-of-type th {\n",
       "        text-align: right;\n",
       "    }\n",
       "</style>\n",
       "<table border=\"1\" class=\"dataframe\">\n",
       "  <thead>\n",
       "    <tr>\n",
       "      <th></th>\n",
       "      <th colspan=\"3\" halign=\"left\">MRP</th>\n",
       "    </tr>\n",
       "    <tr>\n",
       "      <th></th>\n",
       "      <th>min</th>\n",
       "      <th>max</th>\n",
       "      <th>mean</th>\n",
       "    </tr>\n",
       "    <tr>\n",
       "      <th>Processor Type</th>\n",
       "      <th></th>\n",
       "      <th></th>\n",
       "      <th></th>\n",
       "    </tr>\n",
       "  </thead>\n",
       "  <tbody>\n",
       "    <tr>\n",
       "      <th>AMD Athlon Dual Core</th>\n",
       "      <td>25990</td>\n",
       "      <td>29390</td>\n",
       "      <td>27690.000000</td>\n",
       "    </tr>\n",
       "    <tr>\n",
       "      <th>AMD Dual Core</th>\n",
       "      <td>27490</td>\n",
       "      <td>27490</td>\n",
       "      <td>27490.000000</td>\n",
       "    </tr>\n",
       "    <tr>\n",
       "      <th>AMD Ryzen 3 Dual Core</th>\n",
       "      <td>24990</td>\n",
       "      <td>42190</td>\n",
       "      <td>35400.395349</td>\n",
       "    </tr>\n",
       "    <tr>\n",
       "      <th>AMD Ryzen 3 Hexa Core</th>\n",
       "      <td>64590</td>\n",
       "      <td>64590</td>\n",
       "      <td>64590.000000</td>\n",
       "    </tr>\n",
       "    <tr>\n",
       "      <th>AMD Ryzen 3 Quad Core</th>\n",
       "      <td>37499</td>\n",
       "      <td>43667</td>\n",
       "      <td>40691.000000</td>\n",
       "    </tr>\n",
       "    <tr>\n",
       "      <th>AMD Ryzen 5 Dual Core</th>\n",
       "      <td>56990</td>\n",
       "      <td>56990</td>\n",
       "      <td>56990.000000</td>\n",
       "    </tr>\n",
       "    <tr>\n",
       "      <th>AMD Ryzen 5 Hexa Core</th>\n",
       "      <td>43990</td>\n",
       "      <td>99990</td>\n",
       "      <td>58462.490196</td>\n",
       "    </tr>\n",
       "    <tr>\n",
       "      <th>AMD Ryzen 5 Quad Core</th>\n",
       "      <td>35990</td>\n",
       "      <td>52575</td>\n",
       "      <td>39739.594595</td>\n",
       "    </tr>\n",
       "    <tr>\n",
       "      <th>AMD Ryzen 5-3450U</th>\n",
       "      <td>48184</td>\n",
       "      <td>48184</td>\n",
       "      <td>48184.000000</td>\n",
       "    </tr>\n",
       "    <tr>\n",
       "      <th>AMD Ryzen 7 Octa Core</th>\n",
       "      <td>55600</td>\n",
       "      <td>249990</td>\n",
       "      <td>97724.887500</td>\n",
       "    </tr>\n",
       "    <tr>\n",
       "      <th>AMD Ryzen 7 Quad Core</th>\n",
       "      <td>44990</td>\n",
       "      <td>44990</td>\n",
       "      <td>44990.000000</td>\n",
       "    </tr>\n",
       "    <tr>\n",
       "      <th>AMD Ryzen 9 Octa Core</th>\n",
       "      <td>94990</td>\n",
       "      <td>361990</td>\n",
       "      <td>179639.540230</td>\n",
       "    </tr>\n",
       "    <tr>\n",
       "      <th>AMD Ryzen R5-5600H</th>\n",
       "      <td>70990</td>\n",
       "      <td>70990</td>\n",
       "      <td>70990.000000</td>\n",
       "    </tr>\n",
       "    <tr>\n",
       "      <th>Apple M1</th>\n",
       "      <td>88990</td>\n",
       "      <td>149990</td>\n",
       "      <td>108275.714286</td>\n",
       "    </tr>\n",
       "    <tr>\n",
       "      <th>Apple M1 Max</th>\n",
       "      <td>309490</td>\n",
       "      <td>309490</td>\n",
       "      <td>309490.000000</td>\n",
       "    </tr>\n",
       "    <tr>\n",
       "      <th>Apple M1 Pro</th>\n",
       "      <td>181990</td>\n",
       "      <td>241990</td>\n",
       "      <td>222490.000000</td>\n",
       "    </tr>\n",
       "    <tr>\n",
       "      <th>Apple M2</th>\n",
       "      <td>121990</td>\n",
       "      <td>139990</td>\n",
       "      <td>136390.000000</td>\n",
       "    </tr>\n",
       "    <tr>\n",
       "      <th>Gen Intel Evo Core i5</th>\n",
       "      <td>59990</td>\n",
       "      <td>59990</td>\n",
       "      <td>59990.000000</td>\n",
       "    </tr>\n",
       "    <tr>\n",
       "      <th>Intel Celeron Dual Core</th>\n",
       "      <td>14990</td>\n",
       "      <td>30100</td>\n",
       "      <td>23625.500000</td>\n",
       "    </tr>\n",
       "    <tr>\n",
       "      <th>Intel Celeron Quad Core</th>\n",
       "      <td>20990</td>\n",
       "      <td>22990</td>\n",
       "      <td>21656.666667</td>\n",
       "    </tr>\n",
       "    <tr>\n",
       "      <th>Intel Core i3</th>\n",
       "      <td>28590</td>\n",
       "      <td>54999</td>\n",
       "      <td>38818.671756</td>\n",
       "    </tr>\n",
       "    <tr>\n",
       "      <th>Intel Core i3-1005G1</th>\n",
       "      <td>43090</td>\n",
       "      <td>43090</td>\n",
       "      <td>43090.000000</td>\n",
       "    </tr>\n",
       "    <tr>\n",
       "      <th>Intel Core i5</th>\n",
       "      <td>36990</td>\n",
       "      <td>129999</td>\n",
       "      <td>59819.303226</td>\n",
       "    </tr>\n",
       "    <tr>\n",
       "      <th>Intel Core i5 Pro</th>\n",
       "      <td>62190</td>\n",
       "      <td>62190</td>\n",
       "      <td>62190.000000</td>\n",
       "    </tr>\n",
       "    <tr>\n",
       "      <th>Intel Core i5-1135G7</th>\n",
       "      <td>63090</td>\n",
       "      <td>63090</td>\n",
       "      <td>63090.000000</td>\n",
       "    </tr>\n",
       "    <tr>\n",
       "      <th>Intel Core i7</th>\n",
       "      <td>46990</td>\n",
       "      <td>314990</td>\n",
       "      <td>131628.654545</td>\n",
       "    </tr>\n",
       "    <tr>\n",
       "      <th>Intel Core i9</th>\n",
       "      <td>122990</td>\n",
       "      <td>434830</td>\n",
       "      <td>257311.181818</td>\n",
       "    </tr>\n",
       "    <tr>\n",
       "      <th>Intel Evo Core i5</th>\n",
       "      <td>59990</td>\n",
       "      <td>59990</td>\n",
       "      <td>59990.000000</td>\n",
       "    </tr>\n",
       "    <tr>\n",
       "      <th>Intel PQC-N5030</th>\n",
       "      <td>30428</td>\n",
       "      <td>30428</td>\n",
       "      <td>30428.000000</td>\n",
       "    </tr>\n",
       "    <tr>\n",
       "      <th>Intel Pentium Quad Core</th>\n",
       "      <td>29990</td>\n",
       "      <td>36990</td>\n",
       "      <td>34656.666667</td>\n",
       "    </tr>\n",
       "    <tr>\n",
       "      <th>Intel Pentium Silver</th>\n",
       "      <td>27990</td>\n",
       "      <td>29490</td>\n",
       "      <td>28740.000000</td>\n",
       "    </tr>\n",
       "    <tr>\n",
       "      <th>Intel i3-1115G4</th>\n",
       "      <td>38990</td>\n",
       "      <td>45900</td>\n",
       "      <td>42445.000000</td>\n",
       "    </tr>\n",
       "    <tr>\n",
       "      <th>Intel i3-1125G4</th>\n",
       "      <td>54900</td>\n",
       "      <td>54900</td>\n",
       "      <td>54900.000000</td>\n",
       "    </tr>\n",
       "    <tr>\n",
       "      <th>Intel i7-11800H</th>\n",
       "      <td>101990</td>\n",
       "      <td>101990</td>\n",
       "      <td>101990.000000</td>\n",
       "    </tr>\n",
       "    <tr>\n",
       "      <th>Qualcomm Snapdragon 7c Gen 2</th>\n",
       "      <td>32990</td>\n",
       "      <td>32990</td>\n",
       "      <td>32990.000000</td>\n",
       "    </tr>\n",
       "  </tbody>\n",
       "</table>\n",
       "</div>"
      ],
      "text/plain": [
       "                                 MRP                       \n",
       "                                 min     max           mean\n",
       "Processor Type                                             \n",
       "AMD Athlon Dual Core           25990   29390   27690.000000\n",
       "AMD Dual Core                  27490   27490   27490.000000\n",
       "AMD Ryzen 3 Dual Core          24990   42190   35400.395349\n",
       "AMD Ryzen 3 Hexa Core          64590   64590   64590.000000\n",
       "AMD Ryzen 3 Quad Core          37499   43667   40691.000000\n",
       "AMD Ryzen 5 Dual Core          56990   56990   56990.000000\n",
       "AMD Ryzen 5 Hexa Core          43990   99990   58462.490196\n",
       "AMD Ryzen 5 Quad Core          35990   52575   39739.594595\n",
       "AMD Ryzen 5-3450U              48184   48184   48184.000000\n",
       "AMD Ryzen 7 Octa Core          55600  249990   97724.887500\n",
       "AMD Ryzen 7 Quad Core          44990   44990   44990.000000\n",
       "AMD Ryzen 9 Octa Core          94990  361990  179639.540230\n",
       "AMD Ryzen R5-5600H             70990   70990   70990.000000\n",
       "Apple M1                       88990  149990  108275.714286\n",
       "Apple M1 Max                  309490  309490  309490.000000\n",
       "Apple M1 Pro                  181990  241990  222490.000000\n",
       "Apple M2                      121990  139990  136390.000000\n",
       "Gen Intel Evo Core i5          59990   59990   59990.000000\n",
       "Intel Celeron Dual Core        14990   30100   23625.500000\n",
       "Intel Celeron Quad Core        20990   22990   21656.666667\n",
       "Intel Core i3                  28590   54999   38818.671756\n",
       "Intel Core i3-1005G1           43090   43090   43090.000000\n",
       "Intel Core i5                  36990  129999   59819.303226\n",
       "Intel Core i5 Pro              62190   62190   62190.000000\n",
       "Intel Core i5-1135G7           63090   63090   63090.000000\n",
       "Intel Core i7                  46990  314990  131628.654545\n",
       "Intel Core i9                 122990  434830  257311.181818\n",
       "Intel Evo Core i5              59990   59990   59990.000000\n",
       "Intel PQC-N5030                30428   30428   30428.000000\n",
       "Intel Pentium Quad Core        29990   36990   34656.666667\n",
       "Intel Pentium Silver           27990   29490   28740.000000\n",
       "Intel i3-1115G4                38990   45900   42445.000000\n",
       "Intel i3-1125G4                54900   54900   54900.000000\n",
       "Intel i7-11800H               101990  101990  101990.000000\n",
       "Qualcomm Snapdragon 7c Gen 2   32990   32990   32990.000000"
      ]
     },
     "execution_count": 53,
     "metadata": {},
     "output_type": "execute_result"
    }
   ],
   "source": [
    "df.groupby('Processor Type').agg({'MRP' : ['min', 'max', 'mean']})"
   ]
  },
  {
   "cell_type": "markdown",
   "id": "c2d8b469",
   "metadata": {},
   "source": [
    "### Average, maximum and minimum Price for different RAM Type"
   ]
  },
  {
   "cell_type": "code",
   "execution_count": 54,
   "id": "e1a2564b",
   "metadata": {},
   "outputs": [
    {
     "data": {
      "text/html": [
       "<div>\n",
       "<style scoped>\n",
       "    .dataframe tbody tr th:only-of-type {\n",
       "        vertical-align: middle;\n",
       "    }\n",
       "\n",
       "    .dataframe tbody tr th {\n",
       "        vertical-align: top;\n",
       "    }\n",
       "\n",
       "    .dataframe thead tr th {\n",
       "        text-align: left;\n",
       "    }\n",
       "\n",
       "    .dataframe thead tr:last-of-type th {\n",
       "        text-align: right;\n",
       "    }\n",
       "</style>\n",
       "<table border=\"1\" class=\"dataframe\">\n",
       "  <thead>\n",
       "    <tr>\n",
       "      <th></th>\n",
       "      <th colspan=\"3\" halign=\"left\">MRP</th>\n",
       "    </tr>\n",
       "    <tr>\n",
       "      <th></th>\n",
       "      <th>min</th>\n",
       "      <th>max</th>\n",
       "      <th>mean</th>\n",
       "    </tr>\n",
       "    <tr>\n",
       "      <th>RAM Type</th>\n",
       "      <th></th>\n",
       "      <th></th>\n",
       "      <th></th>\n",
       "    </tr>\n",
       "  </thead>\n",
       "  <tbody>\n",
       "    <tr>\n",
       "      <th>DDR4</th>\n",
       "      <td>19490</td>\n",
       "      <td>434830</td>\n",
       "      <td>63040.636364</td>\n",
       "    </tr>\n",
       "    <tr>\n",
       "      <th>DDR5</th>\n",
       "      <td>76590</td>\n",
       "      <td>389990</td>\n",
       "      <td>188289.858696</td>\n",
       "    </tr>\n",
       "    <tr>\n",
       "      <th>LPDDR3</th>\n",
       "      <td>233990</td>\n",
       "      <td>233990</td>\n",
       "      <td>233990.000000</td>\n",
       "    </tr>\n",
       "    <tr>\n",
       "      <th>LPDDR4</th>\n",
       "      <td>14990</td>\n",
       "      <td>71990</td>\n",
       "      <td>27040.000000</td>\n",
       "    </tr>\n",
       "    <tr>\n",
       "      <th>LPDDR4X</th>\n",
       "      <td>20990</td>\n",
       "      <td>224990</td>\n",
       "      <td>58328.081081</td>\n",
       "    </tr>\n",
       "    <tr>\n",
       "      <th>LPDDR5</th>\n",
       "      <td>89990</td>\n",
       "      <td>174990</td>\n",
       "      <td>125878.888889</td>\n",
       "    </tr>\n",
       "    <tr>\n",
       "      <th>Unified</th>\n",
       "      <td>121990</td>\n",
       "      <td>309490</td>\n",
       "      <td>193865.000000</td>\n",
       "    </tr>\n",
       "  </tbody>\n",
       "</table>\n",
       "</div>"
      ],
      "text/plain": [
       "             MRP                       \n",
       "             min     max           mean\n",
       "RAM Type                               \n",
       "DDR4       19490  434830   63040.636364\n",
       "DDR5       76590  389990  188289.858696\n",
       "LPDDR3    233990  233990  233990.000000\n",
       "LPDDR4     14990   71990   27040.000000\n",
       "LPDDR4X    20990  224990   58328.081081\n",
       "LPDDR5     89990  174990  125878.888889\n",
       "Unified   121990  309490  193865.000000"
      ]
     },
     "execution_count": 54,
     "metadata": {},
     "output_type": "execute_result"
    }
   ],
   "source": [
    "df.groupby('RAM Type').agg({'MRP' : ['min', 'max', 'mean']})"
   ]
  },
  {
   "cell_type": "markdown",
   "id": "5ab9dd8d",
   "metadata": {},
   "source": [
    "### Average, maximum and minimum Price for different Disc Type"
   ]
  },
  {
   "cell_type": "code",
   "execution_count": 55,
   "id": "8abf6ab3",
   "metadata": {},
   "outputs": [
    {
     "data": {
      "text/html": [
       "<div>\n",
       "<style scoped>\n",
       "    .dataframe tbody tr th:only-of-type {\n",
       "        vertical-align: middle;\n",
       "    }\n",
       "\n",
       "    .dataframe tbody tr th {\n",
       "        vertical-align: top;\n",
       "    }\n",
       "\n",
       "    .dataframe thead tr th {\n",
       "        text-align: left;\n",
       "    }\n",
       "\n",
       "    .dataframe thead tr:last-of-type th {\n",
       "        text-align: right;\n",
       "    }\n",
       "</style>\n",
       "<table border=\"1\" class=\"dataframe\">\n",
       "  <thead>\n",
       "    <tr>\n",
       "      <th></th>\n",
       "      <th colspan=\"3\" halign=\"left\">MRP</th>\n",
       "    </tr>\n",
       "    <tr>\n",
       "      <th></th>\n",
       "      <th>min</th>\n",
       "      <th>max</th>\n",
       "      <th>mean</th>\n",
       "    </tr>\n",
       "    <tr>\n",
       "      <th>Disc Type</th>\n",
       "      <th></th>\n",
       "      <th></th>\n",
       "      <th></th>\n",
       "    </tr>\n",
       "  </thead>\n",
       "  <tbody>\n",
       "    <tr>\n",
       "      <th>EMMC</th>\n",
       "      <td>14990</td>\n",
       "      <td>32990</td>\n",
       "      <td>23130.000000</td>\n",
       "    </tr>\n",
       "    <tr>\n",
       "      <th>HDD</th>\n",
       "      <td>19490</td>\n",
       "      <td>129999</td>\n",
       "      <td>58303.666667</td>\n",
       "    </tr>\n",
       "    <tr>\n",
       "      <th>SSD</th>\n",
       "      <td>15990</td>\n",
       "      <td>434830</td>\n",
       "      <td>84178.741692</td>\n",
       "    </tr>\n",
       "  </tbody>\n",
       "</table>\n",
       "</div>"
      ],
      "text/plain": [
       "             MRP                      \n",
       "             min     max          mean\n",
       "Disc Type                             \n",
       "EMMC       14990   32990  23130.000000\n",
       "HDD        19490  129999  58303.666667\n",
       "SSD        15990  434830  84178.741692"
      ]
     },
     "execution_count": 55,
     "metadata": {},
     "output_type": "execute_result"
    }
   ],
   "source": [
    "df.groupby('Disc Type').agg({'MRP' : ['min', 'max', 'mean']})"
   ]
  },
  {
   "cell_type": "markdown",
   "id": "243ddb58",
   "metadata": {},
   "source": [
    "### Average, maximum and minimum Price for different RAM Size"
   ]
  },
  {
   "cell_type": "code",
   "execution_count": 56,
   "id": "d6443937",
   "metadata": {},
   "outputs": [
    {
     "data": {
      "text/html": [
       "<div>\n",
       "<style scoped>\n",
       "    .dataframe tbody tr th:only-of-type {\n",
       "        vertical-align: middle;\n",
       "    }\n",
       "\n",
       "    .dataframe tbody tr th {\n",
       "        vertical-align: top;\n",
       "    }\n",
       "\n",
       "    .dataframe thead tr th {\n",
       "        text-align: left;\n",
       "    }\n",
       "\n",
       "    .dataframe thead tr:last-of-type th {\n",
       "        text-align: right;\n",
       "    }\n",
       "</style>\n",
       "<table border=\"1\" class=\"dataframe\">\n",
       "  <thead>\n",
       "    <tr>\n",
       "      <th></th>\n",
       "      <th colspan=\"3\" halign=\"left\">MRP</th>\n",
       "    </tr>\n",
       "    <tr>\n",
       "      <th></th>\n",
       "      <th>min</th>\n",
       "      <th>max</th>\n",
       "      <th>mean</th>\n",
       "    </tr>\n",
       "    <tr>\n",
       "      <th>RAM Size</th>\n",
       "      <th></th>\n",
       "      <th></th>\n",
       "      <th></th>\n",
       "    </tr>\n",
       "  </thead>\n",
       "  <tbody>\n",
       "    <tr>\n",
       "      <th>16GB</th>\n",
       "      <td>37990</td>\n",
       "      <td>241990</td>\n",
       "      <td>125825.577947</td>\n",
       "    </tr>\n",
       "    <tr>\n",
       "      <th>32GB</th>\n",
       "      <td>199990</td>\n",
       "      <td>434830</td>\n",
       "      <td>288974.705882</td>\n",
       "    </tr>\n",
       "    <tr>\n",
       "      <th>4GB</th>\n",
       "      <td>14990</td>\n",
       "      <td>61249</td>\n",
       "      <td>29448.027027</td>\n",
       "    </tr>\n",
       "    <tr>\n",
       "      <th>8GB</th>\n",
       "      <td>22990</td>\n",
       "      <td>149990</td>\n",
       "      <td>48788.905707</td>\n",
       "    </tr>\n",
       "  </tbody>\n",
       "</table>\n",
       "</div>"
      ],
      "text/plain": [
       "             MRP                       \n",
       "             min     max           mean\n",
       "RAM Size                               \n",
       "16GB       37990  241990  125825.577947\n",
       "32GB      199990  434830  288974.705882\n",
       "4GB        14990   61249   29448.027027\n",
       "8GB        22990  149990   48788.905707"
      ]
     },
     "execution_count": 56,
     "metadata": {},
     "output_type": "execute_result"
    }
   ],
   "source": [
    "df.groupby('RAM Size').agg({'MRP' : ['min', 'max', 'mean']})"
   ]
  },
  {
   "cell_type": "markdown",
   "id": "73d89731",
   "metadata": {},
   "source": [
    "### AverageMaximum and minimum Price for different Disc size"
   ]
  },
  {
   "cell_type": "code",
   "execution_count": 57,
   "id": "c9e79319",
   "metadata": {},
   "outputs": [
    {
     "data": {
      "text/html": [
       "<div>\n",
       "<style scoped>\n",
       "    .dataframe tbody tr th:only-of-type {\n",
       "        vertical-align: middle;\n",
       "    }\n",
       "\n",
       "    .dataframe tbody tr th {\n",
       "        vertical-align: top;\n",
       "    }\n",
       "\n",
       "    .dataframe thead tr th {\n",
       "        text-align: left;\n",
       "    }\n",
       "\n",
       "    .dataframe thead tr:last-of-type th {\n",
       "        text-align: right;\n",
       "    }\n",
       "</style>\n",
       "<table border=\"1\" class=\"dataframe\">\n",
       "  <thead>\n",
       "    <tr>\n",
       "      <th></th>\n",
       "      <th colspan=\"3\" halign=\"left\">MRP</th>\n",
       "    </tr>\n",
       "    <tr>\n",
       "      <th></th>\n",
       "      <th>min</th>\n",
       "      <th>max</th>\n",
       "      <th>mean</th>\n",
       "    </tr>\n",
       "    <tr>\n",
       "      <th>Disc Size</th>\n",
       "      <th></th>\n",
       "      <th></th>\n",
       "      <th></th>\n",
       "    </tr>\n",
       "  </thead>\n",
       "  <tbody>\n",
       "    <tr>\n",
       "      <th>128GB</th>\n",
       "      <td>15990</td>\n",
       "      <td>32990</td>\n",
       "      <td>24925.000000</td>\n",
       "    </tr>\n",
       "    <tr>\n",
       "      <th>1TB</th>\n",
       "      <td>27490</td>\n",
       "      <td>434830</td>\n",
       "      <td>136098.340807</td>\n",
       "    </tr>\n",
       "    <tr>\n",
       "      <th>256GB</th>\n",
       "      <td>19490</td>\n",
       "      <td>121990</td>\n",
       "      <td>38732.282828</td>\n",
       "    </tr>\n",
       "    <tr>\n",
       "      <th>2TB</th>\n",
       "      <td>233990</td>\n",
       "      <td>389990</td>\n",
       "      <td>304704.285714</td>\n",
       "    </tr>\n",
       "    <tr>\n",
       "      <th>32GB</th>\n",
       "      <td>14990</td>\n",
       "      <td>14990</td>\n",
       "      <td>14990.000000</td>\n",
       "    </tr>\n",
       "    <tr>\n",
       "      <th>512GB</th>\n",
       "      <td>29390</td>\n",
       "      <td>222990</td>\n",
       "      <td>58852.338667</td>\n",
       "    </tr>\n",
       "    <tr>\n",
       "      <th>64GB</th>\n",
       "      <td>19490</td>\n",
       "      <td>25990</td>\n",
       "      <td>22118.571429</td>\n",
       "    </tr>\n",
       "  </tbody>\n",
       "</table>\n",
       "</div>"
      ],
      "text/plain": [
       "              MRP                       \n",
       "              min     max           mean\n",
       "Disc Size                               \n",
       "128GB       15990   32990   24925.000000\n",
       "1TB         27490  434830  136098.340807\n",
       "256GB       19490  121990   38732.282828\n",
       "2TB        233990  389990  304704.285714\n",
       "32GB        14990   14990   14990.000000\n",
       "512GB       29390  222990   58852.338667\n",
       "64GB        19490   25990   22118.571429"
      ]
     },
     "execution_count": 57,
     "metadata": {},
     "output_type": "execute_result"
    }
   ],
   "source": [
    "df.groupby('Disc Size').agg({'MRP' : ['min', 'max', 'mean']})"
   ]
  },
  {
   "cell_type": "code",
   "execution_count": null,
   "id": "8b802535",
   "metadata": {},
   "outputs": [],
   "source": []
  },
  {
   "cell_type": "markdown",
   "id": "0d98471a",
   "metadata": {},
   "source": [
    "### Data for Machine Learning"
   ]
  },
  {
   "cell_type": "code",
   "execution_count": 58,
   "id": "2f88af20",
   "metadata": {},
   "outputs": [
    {
     "data": {
      "text/html": [
       "<div>\n",
       "<style scoped>\n",
       "    .dataframe tbody tr th:only-of-type {\n",
       "        vertical-align: middle;\n",
       "    }\n",
       "\n",
       "    .dataframe tbody tr th {\n",
       "        vertical-align: top;\n",
       "    }\n",
       "\n",
       "    .dataframe thead th {\n",
       "        text-align: right;\n",
       "    }\n",
       "</style>\n",
       "<table border=\"1\" class=\"dataframe\">\n",
       "  <thead>\n",
       "    <tr style=\"text-align: right;\">\n",
       "      <th></th>\n",
       "      <th>Brand</th>\n",
       "      <th>Processor Type</th>\n",
       "      <th>Operating System</th>\n",
       "      <th>RAM Type</th>\n",
       "      <th>RAM Size</th>\n",
       "      <th>Disc Type</th>\n",
       "      <th>Disc Size</th>\n",
       "      <th>MRP</th>\n",
       "    </tr>\n",
       "  </thead>\n",
       "  <tbody>\n",
       "    <tr>\n",
       "      <th>0</th>\n",
       "      <td>Lenovo</td>\n",
       "      <td>Intel Core i3</td>\n",
       "      <td>Windows 11</td>\n",
       "      <td>DDR4</td>\n",
       "      <td>8GB</td>\n",
       "      <td>SSD</td>\n",
       "      <td>256GB</td>\n",
       "      <td>36990</td>\n",
       "    </tr>\n",
       "    <tr>\n",
       "      <th>1</th>\n",
       "      <td>Lenovo</td>\n",
       "      <td>Intel Core i3</td>\n",
       "      <td>Windows 11</td>\n",
       "      <td>DDR4</td>\n",
       "      <td>8GB</td>\n",
       "      <td>SSD</td>\n",
       "      <td>512GB</td>\n",
       "      <td>39990</td>\n",
       "    </tr>\n",
       "    <tr>\n",
       "      <th>2</th>\n",
       "      <td>ASUS</td>\n",
       "      <td>Intel Core i3</td>\n",
       "      <td>Windows 11</td>\n",
       "      <td>DDR4</td>\n",
       "      <td>8GB</td>\n",
       "      <td>SSD</td>\n",
       "      <td>512GB</td>\n",
       "      <td>32990</td>\n",
       "    </tr>\n",
       "    <tr>\n",
       "      <th>3</th>\n",
       "      <td>HP</td>\n",
       "      <td>AMD Ryzen 5 Hexa Core</td>\n",
       "      <td>Windows 10</td>\n",
       "      <td>DDR4</td>\n",
       "      <td>8GB</td>\n",
       "      <td>SSD</td>\n",
       "      <td>512GB</td>\n",
       "      <td>49990</td>\n",
       "    </tr>\n",
       "    <tr>\n",
       "      <th>4</th>\n",
       "      <td>ASUS</td>\n",
       "      <td>Intel Core i5</td>\n",
       "      <td>Windows 11</td>\n",
       "      <td>DDR4</td>\n",
       "      <td>8GB</td>\n",
       "      <td>SSD</td>\n",
       "      <td>512GB</td>\n",
       "      <td>49990</td>\n",
       "    </tr>\n",
       "  </tbody>\n",
       "</table>\n",
       "</div>"
      ],
      "text/plain": [
       "    Brand         Processor Type Operating System RAM Type RAM Size Disc Type  \\\n",
       "0  Lenovo          Intel Core i3       Windows 11     DDR4      8GB       SSD   \n",
       "1  Lenovo          Intel Core i3       Windows 11     DDR4      8GB       SSD   \n",
       "2    ASUS          Intel Core i3       Windows 11     DDR4      8GB       SSD   \n",
       "3      HP  AMD Ryzen 5 Hexa Core       Windows 10     DDR4      8GB       SSD   \n",
       "4    ASUS          Intel Core i5       Windows 11     DDR4      8GB       SSD   \n",
       "\n",
       "  Disc Size    MRP  \n",
       "0     256GB  36990  \n",
       "1     512GB  39990  \n",
       "2     512GB  32990  \n",
       "3     512GB  49990  \n",
       "4     512GB  49990  "
      ]
     },
     "execution_count": 58,
     "metadata": {},
     "output_type": "execute_result"
    }
   ],
   "source": [
    "data=df[['Brand','Processor Type','Operating System','RAM Type','RAM Size','Disc Type','Disc Size','MRP']]\n",
    "data.to_csv('laptop_price.csv', index=False)\n",
    "data.head()"
   ]
  },
  {
   "cell_type": "code",
   "execution_count": null,
   "id": "59922029",
   "metadata": {},
   "outputs": [],
   "source": []
  },
  {
   "cell_type": "markdown",
   "id": "ea60d7db",
   "metadata": {},
   "source": [
    "## Summay of relationship between Laptop features and Laptop Price and How the Laptop Pricing works in market.\n",
    "### 1. Price for laptop brand `ALIENWARE` is ranges approximetely from 2 Lakh to 3.5 Lakh, these are costiest laptops.\n",
    "### 2. Average price for `ALIENWARE, APPLE, ASUS`,`MSI` laptops brand is high.\n",
    "### 3. Average price is high for `Mac Operating System` laptops.\n",
    "### 4. `Apple M1 Max`processor laptops has high average laptop price as compared to any other processor.\n",
    "### 5.  `LPDDR3` RAM type laptops has highest average price.\n",
    "### 6. `SSD` Disc type laptops has highest aaverage price.\n",
    "### 7. Higher the RAM size higher the Price of laptop.\n",
    "### 8. Higher the Disc size highrt the Price of laptop.\n",
    "### 9. `64GB` RAM size laptops have high average price.\n",
    "### 10. `2TB1` Disc size laptops have high average price."
   ]
  },
  {
   "cell_type": "code",
   "execution_count": null,
   "id": "2d699310",
   "metadata": {},
   "outputs": [],
   "source": []
  }
 ],
 "metadata": {
  "kernelspec": {
   "display_name": "python3.11",
   "language": "python",
   "name": "python3.11"
  },
  "language_info": {
   "codemirror_mode": {
    "name": "ipython",
    "version": 3
   },
   "file_extension": ".py",
   "mimetype": "text/x-python",
   "name": "python",
   "nbconvert_exporter": "python",
   "pygments_lexer": "ipython3",
   "version": "3.9.7"
  }
 },
 "nbformat": 4,
 "nbformat_minor": 5
}
