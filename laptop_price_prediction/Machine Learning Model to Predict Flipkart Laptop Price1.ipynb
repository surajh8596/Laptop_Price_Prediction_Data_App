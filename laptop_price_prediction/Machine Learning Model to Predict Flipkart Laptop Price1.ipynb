{
  "cells": [
    {
      "cell_type": "code",
      "execution_count": 3,
      "id": "16897e98",
      "metadata": {
        "id": "16897e98"
      },
      "outputs": [],
      "source": [
        "import pandas as pd\n",
        "import numpy as np\n",
        "import warnings\n",
        "warnings.filterwarnings('ignore')"
      ]
    },
    {
      "cell_type": "code",
      "execution_count": 4,
      "id": "449ac3c5",
      "metadata": {
        "colab": {
          "base_uri": "https://localhost:8080/",
          "height": 206
        },
        "id": "449ac3c5",
        "outputId": "8506f593-a3a0-4c1d-af91-91933f11b381"
      },
      "outputs": [
        {
          "output_type": "execute_result",
          "data": {
            "text/plain": [
              "    Brand Operating System Processor RAM Type RAM Size Disc Type Disc Size  \\\n",
              "0  Lenovo       Windows 11     Intel     DDR4      8GB       SSD     256GB   \n",
              "1  Lenovo       Windows 11     Intel     DDR4      8GB       SSD     512GB   \n",
              "2    ASUS       Windows 11     Intel     DDR4      8GB       SSD     512GB   \n",
              "3      HP       Windows 10       AMD     DDR4      8GB       SSD     512GB   \n",
              "4    ASUS       Windows 11     Intel     DDR4      8GB       SSD     512GB   \n",
              "\n",
              "     MRP  \n",
              "0  36990  \n",
              "1  39990  \n",
              "2  32990  \n",
              "3  49990  \n",
              "4  49990  "
            ],
            "text/html": [
              "\n",
              "  <div id=\"df-52b27360-c042-4cd1-9e9b-d71bed3ac046\">\n",
              "    <div class=\"colab-df-container\">\n",
              "      <div>\n",
              "<style scoped>\n",
              "    .dataframe tbody tr th:only-of-type {\n",
              "        vertical-align: middle;\n",
              "    }\n",
              "\n",
              "    .dataframe tbody tr th {\n",
              "        vertical-align: top;\n",
              "    }\n",
              "\n",
              "    .dataframe thead th {\n",
              "        text-align: right;\n",
              "    }\n",
              "</style>\n",
              "<table border=\"1\" class=\"dataframe\">\n",
              "  <thead>\n",
              "    <tr style=\"text-align: right;\">\n",
              "      <th></th>\n",
              "      <th>Brand</th>\n",
              "      <th>Operating System</th>\n",
              "      <th>Processor</th>\n",
              "      <th>RAM Type</th>\n",
              "      <th>RAM Size</th>\n",
              "      <th>Disc Type</th>\n",
              "      <th>Disc Size</th>\n",
              "      <th>MRP</th>\n",
              "    </tr>\n",
              "  </thead>\n",
              "  <tbody>\n",
              "    <tr>\n",
              "      <th>0</th>\n",
              "      <td>Lenovo</td>\n",
              "      <td>Windows 11</td>\n",
              "      <td>Intel</td>\n",
              "      <td>DDR4</td>\n",
              "      <td>8GB</td>\n",
              "      <td>SSD</td>\n",
              "      <td>256GB</td>\n",
              "      <td>36990</td>\n",
              "    </tr>\n",
              "    <tr>\n",
              "      <th>1</th>\n",
              "      <td>Lenovo</td>\n",
              "      <td>Windows 11</td>\n",
              "      <td>Intel</td>\n",
              "      <td>DDR4</td>\n",
              "      <td>8GB</td>\n",
              "      <td>SSD</td>\n",
              "      <td>512GB</td>\n",
              "      <td>39990</td>\n",
              "    </tr>\n",
              "    <tr>\n",
              "      <th>2</th>\n",
              "      <td>ASUS</td>\n",
              "      <td>Windows 11</td>\n",
              "      <td>Intel</td>\n",
              "      <td>DDR4</td>\n",
              "      <td>8GB</td>\n",
              "      <td>SSD</td>\n",
              "      <td>512GB</td>\n",
              "      <td>32990</td>\n",
              "    </tr>\n",
              "    <tr>\n",
              "      <th>3</th>\n",
              "      <td>HP</td>\n",
              "      <td>Windows 10</td>\n",
              "      <td>AMD</td>\n",
              "      <td>DDR4</td>\n",
              "      <td>8GB</td>\n",
              "      <td>SSD</td>\n",
              "      <td>512GB</td>\n",
              "      <td>49990</td>\n",
              "    </tr>\n",
              "    <tr>\n",
              "      <th>4</th>\n",
              "      <td>ASUS</td>\n",
              "      <td>Windows 11</td>\n",
              "      <td>Intel</td>\n",
              "      <td>DDR4</td>\n",
              "      <td>8GB</td>\n",
              "      <td>SSD</td>\n",
              "      <td>512GB</td>\n",
              "      <td>49990</td>\n",
              "    </tr>\n",
              "  </tbody>\n",
              "</table>\n",
              "</div>\n",
              "      <button class=\"colab-df-convert\" onclick=\"convertToInteractive('df-52b27360-c042-4cd1-9e9b-d71bed3ac046')\"\n",
              "              title=\"Convert this dataframe to an interactive table.\"\n",
              "              style=\"display:none;\">\n",
              "        \n",
              "  <svg xmlns=\"http://www.w3.org/2000/svg\" height=\"24px\"viewBox=\"0 0 24 24\"\n",
              "       width=\"24px\">\n",
              "    <path d=\"M0 0h24v24H0V0z\" fill=\"none\"/>\n",
              "    <path d=\"M18.56 5.44l.94 2.06.94-2.06 2.06-.94-2.06-.94-.94-2.06-.94 2.06-2.06.94zm-11 1L8.5 8.5l.94-2.06 2.06-.94-2.06-.94L8.5 2.5l-.94 2.06-2.06.94zm10 10l.94 2.06.94-2.06 2.06-.94-2.06-.94-.94-2.06-.94 2.06-2.06.94z\"/><path d=\"M17.41 7.96l-1.37-1.37c-.4-.4-.92-.59-1.43-.59-.52 0-1.04.2-1.43.59L10.3 9.45l-7.72 7.72c-.78.78-.78 2.05 0 2.83L4 21.41c.39.39.9.59 1.41.59.51 0 1.02-.2 1.41-.59l7.78-7.78 2.81-2.81c.8-.78.8-2.07 0-2.86zM5.41 20L4 18.59l7.72-7.72 1.47 1.35L5.41 20z\"/>\n",
              "  </svg>\n",
              "      </button>\n",
              "      \n",
              "  <style>\n",
              "    .colab-df-container {\n",
              "      display:flex;\n",
              "      flex-wrap:wrap;\n",
              "      gap: 12px;\n",
              "    }\n",
              "\n",
              "    .colab-df-convert {\n",
              "      background-color: #E8F0FE;\n",
              "      border: none;\n",
              "      border-radius: 50%;\n",
              "      cursor: pointer;\n",
              "      display: none;\n",
              "      fill: #1967D2;\n",
              "      height: 32px;\n",
              "      padding: 0 0 0 0;\n",
              "      width: 32px;\n",
              "    }\n",
              "\n",
              "    .colab-df-convert:hover {\n",
              "      background-color: #E2EBFA;\n",
              "      box-shadow: 0px 1px 2px rgba(60, 64, 67, 0.3), 0px 1px 3px 1px rgba(60, 64, 67, 0.15);\n",
              "      fill: #174EA6;\n",
              "    }\n",
              "\n",
              "    [theme=dark] .colab-df-convert {\n",
              "      background-color: #3B4455;\n",
              "      fill: #D2E3FC;\n",
              "    }\n",
              "\n",
              "    [theme=dark] .colab-df-convert:hover {\n",
              "      background-color: #434B5C;\n",
              "      box-shadow: 0px 1px 3px 1px rgba(0, 0, 0, 0.15);\n",
              "      filter: drop-shadow(0px 1px 2px rgba(0, 0, 0, 0.3));\n",
              "      fill: #FFFFFF;\n",
              "    }\n",
              "  </style>\n",
              "\n",
              "      <script>\n",
              "        const buttonEl =\n",
              "          document.querySelector('#df-52b27360-c042-4cd1-9e9b-d71bed3ac046 button.colab-df-convert');\n",
              "        buttonEl.style.display =\n",
              "          google.colab.kernel.accessAllowed ? 'block' : 'none';\n",
              "\n",
              "        async function convertToInteractive(key) {\n",
              "          const element = document.querySelector('#df-52b27360-c042-4cd1-9e9b-d71bed3ac046');\n",
              "          const dataTable =\n",
              "            await google.colab.kernel.invokeFunction('convertToInteractive',\n",
              "                                                     [key], {});\n",
              "          if (!dataTable) return;\n",
              "\n",
              "          const docLinkHtml = 'Like what you see? Visit the ' +\n",
              "            '<a target=\"_blank\" href=https://colab.research.google.com/notebooks/data_table.ipynb>data table notebook</a>'\n",
              "            + ' to learn more about interactive tables.';\n",
              "          element.innerHTML = '';\n",
              "          dataTable['output_type'] = 'display_data';\n",
              "          await google.colab.output.renderOutput(dataTable, element);\n",
              "          const docLink = document.createElement('div');\n",
              "          docLink.innerHTML = docLinkHtml;\n",
              "          element.appendChild(docLink);\n",
              "        }\n",
              "      </script>\n",
              "    </div>\n",
              "  </div>\n",
              "  "
            ]
          },
          "metadata": {},
          "execution_count": 4
        }
      ],
      "source": [
        "df=pd.read_csv('/content/drive/MyDrive/Colab Notebooks/laptop_price.csv')\n",
        "df.head()"
      ]
    },
    {
      "cell_type": "code",
      "execution_count": 5,
      "id": "d0c7d3d7",
      "metadata": {
        "id": "d0c7d3d7"
      },
      "outputs": [],
      "source": [
        "data=df.copy()"
      ]
    },
    {
      "cell_type": "code",
      "execution_count": 6,
      "id": "9f9ed6e5",
      "metadata": {
        "colab": {
          "base_uri": "https://localhost:8080/"
        },
        "id": "9f9ed6e5",
        "outputId": "691b670c-c14e-4993-8de1-d9a9be803295"
      },
      "outputs": [
        {
          "output_type": "execute_result",
          "data": {
            "text/plain": [
              "(720, 8)"
            ]
          },
          "metadata": {},
          "execution_count": 6
        }
      ],
      "source": [
        "data.shape"
      ]
    },
    {
      "cell_type": "code",
      "execution_count": 7,
      "id": "9baa5ac1",
      "metadata": {
        "colab": {
          "base_uri": "https://localhost:8080/"
        },
        "id": "9baa5ac1",
        "outputId": "8e7612b3-58d9-4202-b954-86dba8b7e429"
      },
      "outputs": [
        {
          "output_type": "stream",
          "name": "stdout",
          "text": [
            "<class 'pandas.core.frame.DataFrame'>\n",
            "RangeIndex: 720 entries, 0 to 719\n",
            "Data columns (total 8 columns):\n",
            " #   Column            Non-Null Count  Dtype \n",
            "---  ------            --------------  ----- \n",
            " 0   Brand             720 non-null    object\n",
            " 1   Operating System  720 non-null    object\n",
            " 2   Processor         720 non-null    object\n",
            " 3   RAM Type          720 non-null    object\n",
            " 4   RAM Size          720 non-null    object\n",
            " 5   Disc Type         720 non-null    object\n",
            " 6   Disc Size         720 non-null    object\n",
            " 7   MRP               720 non-null    int64 \n",
            "dtypes: int64(1), object(7)\n",
            "memory usage: 45.1+ KB\n"
          ]
        }
      ],
      "source": [
        "data.info()"
      ]
    },
    {
      "cell_type": "code",
      "execution_count": null,
      "id": "3eed048a",
      "metadata": {
        "id": "3eed048a"
      },
      "outputs": [],
      "source": []
    },
    {
      "cell_type": "markdown",
      "id": "5d5beab3",
      "metadata": {
        "id": "5d5beab3"
      },
      "source": [
        "### Here all input features are object type, first need to convert these feature to numeric type."
      ]
    },
    {
      "cell_type": "markdown",
      "id": "2909632a",
      "metadata": {
        "id": "2909632a"
      },
      "source": [
        "### Convert categorical columns to numeric column"
      ]
    },
    {
      "cell_type": "markdown",
      "id": "38e2a926",
      "metadata": {
        "id": "38e2a926"
      },
      "source": [
        "#### BRAND"
      ]
    },
    {
      "cell_type": "code",
      "execution_count": 8,
      "id": "21afa049",
      "metadata": {
        "colab": {
          "base_uri": "https://localhost:8080/"
        },
        "id": "21afa049",
        "outputId": "36ddedc8-18a6-44e9-f43d-74076eb8c57c"
      },
      "outputs": [
        {
          "output_type": "execute_result",
          "data": {
            "text/plain": [
              "array(['Lenovo', 'ASUS', 'HP', 'DELL', 'RedmiBook', 'realme', 'acer',\n",
              "       'MSI', 'APPLE', 'Infinix', 'SAMSUNG', 'Ultimus', 'Vaio',\n",
              "       'GIGABYTE', 'Nokia', 'ALIENWARE'], dtype=object)"
            ]
          },
          "metadata": {},
          "execution_count": 8
        }
      ],
      "source": [
        "data['Brand'].unique()"
      ]
    },
    {
      "cell_type": "code",
      "execution_count": 9,
      "id": "c28550d6",
      "metadata": {
        "colab": {
          "base_uri": "https://localhost:8080/"
        },
        "id": "c28550d6",
        "outputId": "9d0a7597-1418-40af-c8d5-ed6025b090f6"
      },
      "outputs": [
        {
          "output_type": "execute_result",
          "data": {
            "text/plain": [
              "array([ 1,  2,  3,  4,  5,  6,  7,  8,  9, 10, 11, 12, 13, 14, 15, 16])"
            ]
          },
          "metadata": {},
          "execution_count": 9
        }
      ],
      "source": [
        "def replace_brand(brand):\n",
        "    if brand=='Lenovo':\n",
        "        return 1\n",
        "    elif brand=='ASUS':\n",
        "        return 2\n",
        "    elif brand=='HP':\n",
        "        return 3\n",
        "    elif brand=='DELL':\n",
        "        return 4\n",
        "    elif brand=='RedmiBook':\n",
        "        return 5\n",
        "    elif brand=='realme':\n",
        "        return 6\n",
        "    elif brand=='acer':\n",
        "        return 7\n",
        "    elif brand=='MSI':\n",
        "        return 8\n",
        "    elif brand=='APPLE':\n",
        "        return 9\n",
        "    elif brand=='Infinix':\n",
        "        return 10\n",
        "    elif brand=='SAMSUNG':\n",
        "        return 11\n",
        "    elif brand=='Ultimus':\n",
        "        return 12\n",
        "    elif brand=='Vaio':\n",
        "        return 13\n",
        "    elif brand=='GIGABYTE':\n",
        "        return 14\n",
        "    elif brand=='Nokia':\n",
        "        return 15\n",
        "    elif brand=='ALIENWARE':\n",
        "        return 16\n",
        "    \n",
        "data['Brand']=data['Brand'].apply(replace_brand)\n",
        "data['Brand'].unique()"
      ]
    },
    {
      "cell_type": "code",
      "execution_count": 9,
      "id": "24ccef3e",
      "metadata": {
        "id": "24ccef3e"
      },
      "outputs": [],
      "source": []
    },
    {
      "cell_type": "markdown",
      "id": "6e3f3e2e",
      "metadata": {
        "id": "6e3f3e2e"
      },
      "source": [
        "#### PROCESSOR TYPE"
      ]
    },
    {
      "cell_type": "code",
      "execution_count": 10,
      "id": "7eb8bd91",
      "metadata": {
        "colab": {
          "base_uri": "https://localhost:8080/"
        },
        "id": "7eb8bd91",
        "outputId": "45742085-ddcb-4c90-d311-ab2c419c116d"
      },
      "outputs": [
        {
          "output_type": "execute_result",
          "data": {
            "text/plain": [
              "array(['Intel', 'AMD', 'Apple', 'Qualcomm'], dtype=object)"
            ]
          },
          "metadata": {},
          "execution_count": 10
        }
      ],
      "source": [
        "data['Processor'].unique()"
      ]
    },
    {
      "cell_type": "code",
      "execution_count": 11,
      "id": "1e9ecd79",
      "metadata": {
        "colab": {
          "base_uri": "https://localhost:8080/"
        },
        "id": "1e9ecd79",
        "outputId": "6c0530ec-3ffe-4033-abf2-dd2c4a9286cf"
      },
      "outputs": [
        {
          "output_type": "execute_result",
          "data": {
            "text/plain": [
              "4"
            ]
          },
          "metadata": {},
          "execution_count": 11
        }
      ],
      "source": [
        "data['Processor'].nunique()"
      ]
    },
    {
      "cell_type": "code",
      "execution_count": 12,
      "id": "59ef61e5",
      "metadata": {
        "colab": {
          "base_uri": "https://localhost:8080/"
        },
        "id": "59ef61e5",
        "outputId": "3ff40906-9280-4419-80a6-50a3dc5a661f"
      },
      "outputs": [
        {
          "output_type": "execute_result",
          "data": {
            "text/plain": [
              "array([1, 2, 3, 4])"
            ]
          },
          "metadata": {},
          "execution_count": 12
        }
      ],
      "source": [
        "def replace_processor(Processor):\n",
        "    if Processor=='Intel':\n",
        "        return 1\n",
        "    elif Processor=='AMD':\n",
        "        return 2\n",
        "    elif Processor=='Apple':\n",
        "        return 3\n",
        "    elif Processor=='Qualcomm':\n",
        "        return 4\n",
        "    \n",
        "data['Processor']=data['Processor'].apply(replace_processor)\n",
        "data['Processor'].unique()"
      ]
    },
    {
      "cell_type": "code",
      "execution_count": 12,
      "id": "e2e25765",
      "metadata": {
        "id": "e2e25765"
      },
      "outputs": [],
      "source": []
    },
    {
      "cell_type": "markdown",
      "id": "fc27f7a9",
      "metadata": {
        "id": "fc27f7a9"
      },
      "source": [
        "#### OPERATING SYSTEM"
      ]
    },
    {
      "cell_type": "code",
      "execution_count": 13,
      "id": "0060f103",
      "metadata": {
        "colab": {
          "base_uri": "https://localhost:8080/"
        },
        "id": "0060f103",
        "outputId": "67618156-81bb-40f6-bf85-4c887bc95cdd"
      },
      "outputs": [
        {
          "output_type": "execute_result",
          "data": {
            "text/plain": [
              "array(['Windows 11', 'Windows 10', 'Mac', 'Chrome', 'DOS'], dtype=object)"
            ]
          },
          "metadata": {},
          "execution_count": 13
        }
      ],
      "source": [
        "data['Operating System'].unique()"
      ]
    },
    {
      "cell_type": "code",
      "execution_count": 14,
      "id": "10f122f1",
      "metadata": {
        "colab": {
          "base_uri": "https://localhost:8080/"
        },
        "id": "10f122f1",
        "outputId": "b96b7449-84f1-428e-b353-b608749282ac"
      },
      "outputs": [
        {
          "output_type": "execute_result",
          "data": {
            "text/plain": [
              "array([1, 2, 3, 4, 5])"
            ]
          },
          "metadata": {},
          "execution_count": 14
        }
      ],
      "source": [
        "def replace_os(os):\n",
        "    if os=='Windows 11':\n",
        "        return 1\n",
        "    elif os=='Windows 10':\n",
        "        return 2\n",
        "    elif os=='Mac':\n",
        "        return 3\n",
        "    elif os=='Chrome':\n",
        "        return 4\n",
        "    elif os=='DOS':\n",
        "        return 5\n",
        "    \n",
        "data['Operating System']=data['Operating System'].apply(replace_os)\n",
        "data['Operating System'].unique()"
      ]
    },
    {
      "cell_type": "code",
      "execution_count": 14,
      "id": "ca164cee",
      "metadata": {
        "id": "ca164cee"
      },
      "outputs": [],
      "source": []
    },
    {
      "cell_type": "markdown",
      "id": "e74da1ef",
      "metadata": {
        "id": "e74da1ef"
      },
      "source": [
        "#### RAM TYPE"
      ]
    },
    {
      "cell_type": "code",
      "execution_count": 15,
      "id": "c50d4780",
      "metadata": {
        "colab": {
          "base_uri": "https://localhost:8080/"
        },
        "id": "c50d4780",
        "outputId": "8aceb4a5-994b-4c53-e49f-5c04b79780d1"
      },
      "outputs": [
        {
          "output_type": "execute_result",
          "data": {
            "text/plain": [
              "array(['DDR4', 'DDR5', 'LPDDR4', 'Unified', 'LPDDR4X', 'LPDDR5', 'LPDDR3'],\n",
              "      dtype=object)"
            ]
          },
          "metadata": {},
          "execution_count": 15
        }
      ],
      "source": [
        "data['RAM Type'].unique()"
      ]
    },
    {
      "cell_type": "code",
      "execution_count": 16,
      "id": "1bd6603e",
      "metadata": {
        "colab": {
          "base_uri": "https://localhost:8080/"
        },
        "id": "1bd6603e",
        "outputId": "d2b5b504-a746-4e7c-9eb8-14b1e1b00953"
      },
      "outputs": [
        {
          "output_type": "execute_result",
          "data": {
            "text/plain": [
              "array([1, 2, 3, 4, 5, 6, 7])"
            ]
          },
          "metadata": {},
          "execution_count": 16
        }
      ],
      "source": [
        "def replace_ram_type(ram_type):\n",
        "    if ram_type=='DDR4':\n",
        "        return 1\n",
        "    elif ram_type=='DDR5':\n",
        "        return 2\n",
        "    elif ram_type=='LPDDR4':\n",
        "        return 3\n",
        "    elif ram_type=='Unified':\n",
        "        return 4\n",
        "    elif ram_type=='LPDDR4X':\n",
        "        return 5\n",
        "    elif ram_type=='LPDDR5':\n",
        "        return 6\n",
        "    elif ram_type=='LPDDR3':\n",
        "        return 7\n",
        "    \n",
        "data['RAM Type']=data['RAM Type'].apply(replace_ram_type)\n",
        "data['RAM Type'].unique()"
      ]
    },
    {
      "cell_type": "code",
      "execution_count": 16,
      "id": "b3e0bd0b",
      "metadata": {
        "id": "b3e0bd0b"
      },
      "outputs": [],
      "source": []
    },
    {
      "cell_type": "markdown",
      "id": "3c3d554f",
      "metadata": {
        "id": "3c3d554f"
      },
      "source": [
        "#### RAM SIZE"
      ]
    },
    {
      "cell_type": "code",
      "execution_count": 17,
      "id": "9bf40749",
      "metadata": {
        "colab": {
          "base_uri": "https://localhost:8080/"
        },
        "id": "9bf40749",
        "outputId": "028f676f-2eab-42be-89c3-a6821afe0dcd"
      },
      "outputs": [
        {
          "output_type": "execute_result",
          "data": {
            "text/plain": [
              "array(['8GB', '16GB', '4GB', '32GB'], dtype=object)"
            ]
          },
          "metadata": {},
          "execution_count": 17
        }
      ],
      "source": [
        "data['RAM Size'].unique()"
      ]
    },
    {
      "cell_type": "code",
      "execution_count": 18,
      "id": "bdfa1bab",
      "metadata": {
        "colab": {
          "base_uri": "https://localhost:8080/"
        },
        "id": "bdfa1bab",
        "outputId": "fe9d5545-247c-42ff-843d-2d22d56508f3"
      },
      "outputs": [
        {
          "output_type": "execute_result",
          "data": {
            "text/plain": [
              "array([1, 2, 3, 4])"
            ]
          },
          "metadata": {},
          "execution_count": 18
        }
      ],
      "source": [
        "def replace_ram_size(ram_size):\n",
        "    if ram_size=='8GB':\n",
        "        return 1\n",
        "    elif ram_size=='16GB':\n",
        "        return 2\n",
        "    elif ram_size=='4GB':\n",
        "        return 3\n",
        "    elif ram_size=='32GB':\n",
        "        return 4\n",
        "\n",
        "    \n",
        "data['RAM Size']=data['RAM Size'].apply(replace_ram_size)\n",
        "data['RAM Size'].unique()"
      ]
    },
    {
      "cell_type": "code",
      "execution_count": 18,
      "id": "58ccc78f",
      "metadata": {
        "id": "58ccc78f"
      },
      "outputs": [],
      "source": []
    },
    {
      "cell_type": "markdown",
      "id": "17dee96d",
      "metadata": {
        "id": "17dee96d"
      },
      "source": [
        "#### DISC TYPE"
      ]
    },
    {
      "cell_type": "code",
      "execution_count": 19,
      "id": "c21d24e8",
      "metadata": {
        "colab": {
          "base_uri": "https://localhost:8080/"
        },
        "id": "c21d24e8",
        "outputId": "d745578f-9fca-401a-c189-f97a7f985cde"
      },
      "outputs": [
        {
          "output_type": "execute_result",
          "data": {
            "text/plain": [
              "array(['SSD', 'HDD', 'EMMC'], dtype=object)"
            ]
          },
          "metadata": {},
          "execution_count": 19
        }
      ],
      "source": [
        "data['Disc Type'].unique()"
      ]
    },
    {
      "cell_type": "code",
      "execution_count": 20,
      "id": "a592dbc6",
      "metadata": {
        "colab": {
          "base_uri": "https://localhost:8080/"
        },
        "id": "a592dbc6",
        "outputId": "8b5b6406-3783-4be9-aa11-65387f215bf6"
      },
      "outputs": [
        {
          "output_type": "execute_result",
          "data": {
            "text/plain": [
              "array([1, 2, 3])"
            ]
          },
          "metadata": {},
          "execution_count": 20
        }
      ],
      "source": [
        "def replace_disc_type(disc_type):\n",
        "    if disc_type=='SSD':\n",
        "        return 1\n",
        "    elif disc_type=='HDD':\n",
        "        return 2\n",
        "    elif disc_type=='EMMC':\n",
        "        return 3\n",
        "\n",
        "    \n",
        "data['Disc Type']=data['Disc Type'].apply(replace_disc_type)\n",
        "data['Disc Type'].unique()"
      ]
    },
    {
      "cell_type": "code",
      "execution_count": 20,
      "id": "ed0eb52b",
      "metadata": {
        "id": "ed0eb52b"
      },
      "outputs": [],
      "source": []
    },
    {
      "cell_type": "markdown",
      "id": "907bc70e",
      "metadata": {
        "id": "907bc70e"
      },
      "source": [
        "#### DISC SIZE"
      ]
    },
    {
      "cell_type": "code",
      "execution_count": 21,
      "id": "c23b1460",
      "metadata": {
        "colab": {
          "base_uri": "https://localhost:8080/"
        },
        "id": "c23b1460",
        "outputId": "d2db3454-3ef5-4a78-e2e4-22677799e97c"
      },
      "outputs": [
        {
          "output_type": "execute_result",
          "data": {
            "text/plain": [
              "array(['256GB', '512GB', '1TB', '128GB', '64GB', '32GB', '2TB'],\n",
              "      dtype=object)"
            ]
          },
          "metadata": {},
          "execution_count": 21
        }
      ],
      "source": [
        "data['Disc Size'].unique()"
      ]
    },
    {
      "cell_type": "code",
      "execution_count": 22,
      "id": "db842023",
      "metadata": {
        "colab": {
          "base_uri": "https://localhost:8080/"
        },
        "id": "db842023",
        "outputId": "51b095fc-304e-4c2f-f803-10297a87733b"
      },
      "outputs": [
        {
          "output_type": "execute_result",
          "data": {
            "text/plain": [
              "array([1, 2, 3, 4, 5, 6, 7])"
            ]
          },
          "metadata": {},
          "execution_count": 22
        }
      ],
      "source": [
        "def replace_disc_size(disc_size):\n",
        "    if disc_size=='256GB':\n",
        "        return 1\n",
        "    elif disc_size=='512GB':\n",
        "        return 2\n",
        "    elif disc_size=='1TB':\n",
        "        return 3\n",
        "    elif disc_size=='128GB':\n",
        "        return 4\n",
        "    elif disc_size=='64GB':\n",
        "        return 5\n",
        "    elif disc_size=='32GB':\n",
        "        return 6\n",
        "    elif disc_size=='2TB':\n",
        "        return 7\n",
        "    \n",
        "data['Disc Size']=data['Disc Size'].apply(replace_disc_size)\n",
        "data['Disc Size'].unique()"
      ]
    },
    {
      "cell_type": "code",
      "execution_count": 23,
      "id": "6f8e2079",
      "metadata": {
        "colab": {
          "base_uri": "https://localhost:8080/",
          "height": 206
        },
        "id": "6f8e2079",
        "outputId": "51f51d06-073c-46a3-85ba-00fe04f97cda"
      },
      "outputs": [
        {
          "output_type": "execute_result",
          "data": {
            "text/plain": [
              "   Brand  Operating System  Processor  RAM Type  RAM Size  Disc Type  \\\n",
              "0      1                 1          1         1         1          1   \n",
              "1      1                 1          1         1         1          1   \n",
              "2      2                 1          1         1         1          1   \n",
              "3      3                 2          2         1         1          1   \n",
              "4      2                 1          1         1         1          1   \n",
              "\n",
              "   Disc Size    MRP  \n",
              "0          1  36990  \n",
              "1          2  39990  \n",
              "2          2  32990  \n",
              "3          2  49990  \n",
              "4          2  49990  "
            ],
            "text/html": [
              "\n",
              "  <div id=\"df-8fd0d1c4-9e3b-4960-820c-994f00a5c9d8\">\n",
              "    <div class=\"colab-df-container\">\n",
              "      <div>\n",
              "<style scoped>\n",
              "    .dataframe tbody tr th:only-of-type {\n",
              "        vertical-align: middle;\n",
              "    }\n",
              "\n",
              "    .dataframe tbody tr th {\n",
              "        vertical-align: top;\n",
              "    }\n",
              "\n",
              "    .dataframe thead th {\n",
              "        text-align: right;\n",
              "    }\n",
              "</style>\n",
              "<table border=\"1\" class=\"dataframe\">\n",
              "  <thead>\n",
              "    <tr style=\"text-align: right;\">\n",
              "      <th></th>\n",
              "      <th>Brand</th>\n",
              "      <th>Operating System</th>\n",
              "      <th>Processor</th>\n",
              "      <th>RAM Type</th>\n",
              "      <th>RAM Size</th>\n",
              "      <th>Disc Type</th>\n",
              "      <th>Disc Size</th>\n",
              "      <th>MRP</th>\n",
              "    </tr>\n",
              "  </thead>\n",
              "  <tbody>\n",
              "    <tr>\n",
              "      <th>0</th>\n",
              "      <td>1</td>\n",
              "      <td>1</td>\n",
              "      <td>1</td>\n",
              "      <td>1</td>\n",
              "      <td>1</td>\n",
              "      <td>1</td>\n",
              "      <td>1</td>\n",
              "      <td>36990</td>\n",
              "    </tr>\n",
              "    <tr>\n",
              "      <th>1</th>\n",
              "      <td>1</td>\n",
              "      <td>1</td>\n",
              "      <td>1</td>\n",
              "      <td>1</td>\n",
              "      <td>1</td>\n",
              "      <td>1</td>\n",
              "      <td>2</td>\n",
              "      <td>39990</td>\n",
              "    </tr>\n",
              "    <tr>\n",
              "      <th>2</th>\n",
              "      <td>2</td>\n",
              "      <td>1</td>\n",
              "      <td>1</td>\n",
              "      <td>1</td>\n",
              "      <td>1</td>\n",
              "      <td>1</td>\n",
              "      <td>2</td>\n",
              "      <td>32990</td>\n",
              "    </tr>\n",
              "    <tr>\n",
              "      <th>3</th>\n",
              "      <td>3</td>\n",
              "      <td>2</td>\n",
              "      <td>2</td>\n",
              "      <td>1</td>\n",
              "      <td>1</td>\n",
              "      <td>1</td>\n",
              "      <td>2</td>\n",
              "      <td>49990</td>\n",
              "    </tr>\n",
              "    <tr>\n",
              "      <th>4</th>\n",
              "      <td>2</td>\n",
              "      <td>1</td>\n",
              "      <td>1</td>\n",
              "      <td>1</td>\n",
              "      <td>1</td>\n",
              "      <td>1</td>\n",
              "      <td>2</td>\n",
              "      <td>49990</td>\n",
              "    </tr>\n",
              "  </tbody>\n",
              "</table>\n",
              "</div>\n",
              "      <button class=\"colab-df-convert\" onclick=\"convertToInteractive('df-8fd0d1c4-9e3b-4960-820c-994f00a5c9d8')\"\n",
              "              title=\"Convert this dataframe to an interactive table.\"\n",
              "              style=\"display:none;\">\n",
              "        \n",
              "  <svg xmlns=\"http://www.w3.org/2000/svg\" height=\"24px\"viewBox=\"0 0 24 24\"\n",
              "       width=\"24px\">\n",
              "    <path d=\"M0 0h24v24H0V0z\" fill=\"none\"/>\n",
              "    <path d=\"M18.56 5.44l.94 2.06.94-2.06 2.06-.94-2.06-.94-.94-2.06-.94 2.06-2.06.94zm-11 1L8.5 8.5l.94-2.06 2.06-.94-2.06-.94L8.5 2.5l-.94 2.06-2.06.94zm10 10l.94 2.06.94-2.06 2.06-.94-2.06-.94-.94-2.06-.94 2.06-2.06.94z\"/><path d=\"M17.41 7.96l-1.37-1.37c-.4-.4-.92-.59-1.43-.59-.52 0-1.04.2-1.43.59L10.3 9.45l-7.72 7.72c-.78.78-.78 2.05 0 2.83L4 21.41c.39.39.9.59 1.41.59.51 0 1.02-.2 1.41-.59l7.78-7.78 2.81-2.81c.8-.78.8-2.07 0-2.86zM5.41 20L4 18.59l7.72-7.72 1.47 1.35L5.41 20z\"/>\n",
              "  </svg>\n",
              "      </button>\n",
              "      \n",
              "  <style>\n",
              "    .colab-df-container {\n",
              "      display:flex;\n",
              "      flex-wrap:wrap;\n",
              "      gap: 12px;\n",
              "    }\n",
              "\n",
              "    .colab-df-convert {\n",
              "      background-color: #E8F0FE;\n",
              "      border: none;\n",
              "      border-radius: 50%;\n",
              "      cursor: pointer;\n",
              "      display: none;\n",
              "      fill: #1967D2;\n",
              "      height: 32px;\n",
              "      padding: 0 0 0 0;\n",
              "      width: 32px;\n",
              "    }\n",
              "\n",
              "    .colab-df-convert:hover {\n",
              "      background-color: #E2EBFA;\n",
              "      box-shadow: 0px 1px 2px rgba(60, 64, 67, 0.3), 0px 1px 3px 1px rgba(60, 64, 67, 0.15);\n",
              "      fill: #174EA6;\n",
              "    }\n",
              "\n",
              "    [theme=dark] .colab-df-convert {\n",
              "      background-color: #3B4455;\n",
              "      fill: #D2E3FC;\n",
              "    }\n",
              "\n",
              "    [theme=dark] .colab-df-convert:hover {\n",
              "      background-color: #434B5C;\n",
              "      box-shadow: 0px 1px 3px 1px rgba(0, 0, 0, 0.15);\n",
              "      filter: drop-shadow(0px 1px 2px rgba(0, 0, 0, 0.3));\n",
              "      fill: #FFFFFF;\n",
              "    }\n",
              "  </style>\n",
              "\n",
              "      <script>\n",
              "        const buttonEl =\n",
              "          document.querySelector('#df-8fd0d1c4-9e3b-4960-820c-994f00a5c9d8 button.colab-df-convert');\n",
              "        buttonEl.style.display =\n",
              "          google.colab.kernel.accessAllowed ? 'block' : 'none';\n",
              "\n",
              "        async function convertToInteractive(key) {\n",
              "          const element = document.querySelector('#df-8fd0d1c4-9e3b-4960-820c-994f00a5c9d8');\n",
              "          const dataTable =\n",
              "            await google.colab.kernel.invokeFunction('convertToInteractive',\n",
              "                                                     [key], {});\n",
              "          if (!dataTable) return;\n",
              "\n",
              "          const docLinkHtml = 'Like what you see? Visit the ' +\n",
              "            '<a target=\"_blank\" href=https://colab.research.google.com/notebooks/data_table.ipynb>data table notebook</a>'\n",
              "            + ' to learn more about interactive tables.';\n",
              "          element.innerHTML = '';\n",
              "          dataTable['output_type'] = 'display_data';\n",
              "          await google.colab.output.renderOutput(dataTable, element);\n",
              "          const docLink = document.createElement('div');\n",
              "          docLink.innerHTML = docLinkHtml;\n",
              "          element.appendChild(docLink);\n",
              "        }\n",
              "      </script>\n",
              "    </div>\n",
              "  </div>\n",
              "  "
            ]
          },
          "metadata": {},
          "execution_count": 23
        }
      ],
      "source": [
        "data.head()"
      ]
    },
    {
      "cell_type": "code",
      "execution_count": 24,
      "id": "dff8c1eb",
      "metadata": {
        "colab": {
          "base_uri": "https://localhost:8080/"
        },
        "id": "dff8c1eb",
        "outputId": "660d36b6-e68b-4c20-e11b-adf6c5c5bbf0"
      },
      "outputs": [
        {
          "output_type": "execute_result",
          "data": {
            "text/plain": [
              "Brand               0\n",
              "Operating System    0\n",
              "Processor           0\n",
              "RAM Type            0\n",
              "RAM Size            0\n",
              "Disc Type           0\n",
              "Disc Size           0\n",
              "MRP                 0\n",
              "dtype: int64"
            ]
          },
          "metadata": {},
          "execution_count": 24
        }
      ],
      "source": [
        "data.isna().sum()"
      ]
    },
    {
      "cell_type": "code",
      "execution_count": 24,
      "id": "4c27e435",
      "metadata": {
        "id": "4c27e435"
      },
      "outputs": [],
      "source": []
    },
    {
      "cell_type": "markdown",
      "id": "5fe170a2",
      "metadata": {
        "id": "5fe170a2"
      },
      "source": [
        "### Split into dependent and independent"
      ]
    },
    {
      "cell_type": "code",
      "execution_count": 25,
      "id": "28dae9ab",
      "metadata": {
        "id": "28dae9ab"
      },
      "outputs": [],
      "source": [
        "X=data.drop('MRP', axis=1).values\n",
        "y=data['MRP'].values"
      ]
    },
    {
      "cell_type": "code",
      "execution_count": 25,
      "id": "d42ccd98",
      "metadata": {
        "id": "d42ccd98"
      },
      "outputs": [],
      "source": []
    },
    {
      "cell_type": "markdown",
      "id": "add0f52b",
      "metadata": {
        "id": "add0f52b"
      },
      "source": [
        "### Feature Importance"
      ]
    },
    {
      "cell_type": "code",
      "execution_count": 26,
      "id": "05bd801f",
      "metadata": {
        "colab": {
          "base_uri": "https://localhost:8080/",
          "height": 269
        },
        "id": "05bd801f",
        "outputId": "b48a269a-fb1a-48a6-97d1-74a68e5363db"
      },
      "outputs": [
        {
          "output_type": "execute_result",
          "data": {
            "text/plain": [
              "                        score\n",
              "Brand             1002.698315\n",
              "Operating System   136.273240\n",
              "Processor          109.117346\n",
              "RAM Type           355.100090\n",
              "RAM Size           197.422769\n",
              "Disc Type           50.246053\n",
              "Disc Size          206.062114"
            ],
            "text/html": [
              "\n",
              "  <div id=\"df-09551d61-7ef6-4a17-a000-c197f0cf08fd\">\n",
              "    <div class=\"colab-df-container\">\n",
              "      <div>\n",
              "<style scoped>\n",
              "    .dataframe tbody tr th:only-of-type {\n",
              "        vertical-align: middle;\n",
              "    }\n",
              "\n",
              "    .dataframe tbody tr th {\n",
              "        vertical-align: top;\n",
              "    }\n",
              "\n",
              "    .dataframe thead th {\n",
              "        text-align: right;\n",
              "    }\n",
              "</style>\n",
              "<table border=\"1\" class=\"dataframe\">\n",
              "  <thead>\n",
              "    <tr style=\"text-align: right;\">\n",
              "      <th></th>\n",
              "      <th>score</th>\n",
              "    </tr>\n",
              "  </thead>\n",
              "  <tbody>\n",
              "    <tr>\n",
              "      <th>Brand</th>\n",
              "      <td>1002.698315</td>\n",
              "    </tr>\n",
              "    <tr>\n",
              "      <th>Operating System</th>\n",
              "      <td>136.273240</td>\n",
              "    </tr>\n",
              "    <tr>\n",
              "      <th>Processor</th>\n",
              "      <td>109.117346</td>\n",
              "    </tr>\n",
              "    <tr>\n",
              "      <th>RAM Type</th>\n",
              "      <td>355.100090</td>\n",
              "    </tr>\n",
              "    <tr>\n",
              "      <th>RAM Size</th>\n",
              "      <td>197.422769</td>\n",
              "    </tr>\n",
              "    <tr>\n",
              "      <th>Disc Type</th>\n",
              "      <td>50.246053</td>\n",
              "    </tr>\n",
              "    <tr>\n",
              "      <th>Disc Size</th>\n",
              "      <td>206.062114</td>\n",
              "    </tr>\n",
              "  </tbody>\n",
              "</table>\n",
              "</div>\n",
              "      <button class=\"colab-df-convert\" onclick=\"convertToInteractive('df-09551d61-7ef6-4a17-a000-c197f0cf08fd')\"\n",
              "              title=\"Convert this dataframe to an interactive table.\"\n",
              "              style=\"display:none;\">\n",
              "        \n",
              "  <svg xmlns=\"http://www.w3.org/2000/svg\" height=\"24px\"viewBox=\"0 0 24 24\"\n",
              "       width=\"24px\">\n",
              "    <path d=\"M0 0h24v24H0V0z\" fill=\"none\"/>\n",
              "    <path d=\"M18.56 5.44l.94 2.06.94-2.06 2.06-.94-2.06-.94-.94-2.06-.94 2.06-2.06.94zm-11 1L8.5 8.5l.94-2.06 2.06-.94-2.06-.94L8.5 2.5l-.94 2.06-2.06.94zm10 10l.94 2.06.94-2.06 2.06-.94-2.06-.94-.94-2.06-.94 2.06-2.06.94z\"/><path d=\"M17.41 7.96l-1.37-1.37c-.4-.4-.92-.59-1.43-.59-.52 0-1.04.2-1.43.59L10.3 9.45l-7.72 7.72c-.78.78-.78 2.05 0 2.83L4 21.41c.39.39.9.59 1.41.59.51 0 1.02-.2 1.41-.59l7.78-7.78 2.81-2.81c.8-.78.8-2.07 0-2.86zM5.41 20L4 18.59l7.72-7.72 1.47 1.35L5.41 20z\"/>\n",
              "  </svg>\n",
              "      </button>\n",
              "      \n",
              "  <style>\n",
              "    .colab-df-container {\n",
              "      display:flex;\n",
              "      flex-wrap:wrap;\n",
              "      gap: 12px;\n",
              "    }\n",
              "\n",
              "    .colab-df-convert {\n",
              "      background-color: #E8F0FE;\n",
              "      border: none;\n",
              "      border-radius: 50%;\n",
              "      cursor: pointer;\n",
              "      display: none;\n",
              "      fill: #1967D2;\n",
              "      height: 32px;\n",
              "      padding: 0 0 0 0;\n",
              "      width: 32px;\n",
              "    }\n",
              "\n",
              "    .colab-df-convert:hover {\n",
              "      background-color: #E2EBFA;\n",
              "      box-shadow: 0px 1px 2px rgba(60, 64, 67, 0.3), 0px 1px 3px 1px rgba(60, 64, 67, 0.15);\n",
              "      fill: #174EA6;\n",
              "    }\n",
              "\n",
              "    [theme=dark] .colab-df-convert {\n",
              "      background-color: #3B4455;\n",
              "      fill: #D2E3FC;\n",
              "    }\n",
              "\n",
              "    [theme=dark] .colab-df-convert:hover {\n",
              "      background-color: #434B5C;\n",
              "      box-shadow: 0px 1px 3px 1px rgba(0, 0, 0, 0.15);\n",
              "      filter: drop-shadow(0px 1px 2px rgba(0, 0, 0, 0.3));\n",
              "      fill: #FFFFFF;\n",
              "    }\n",
              "  </style>\n",
              "\n",
              "      <script>\n",
              "        const buttonEl =\n",
              "          document.querySelector('#df-09551d61-7ef6-4a17-a000-c197f0cf08fd button.colab-df-convert');\n",
              "        buttonEl.style.display =\n",
              "          google.colab.kernel.accessAllowed ? 'block' : 'none';\n",
              "\n",
              "        async function convertToInteractive(key) {\n",
              "          const element = document.querySelector('#df-09551d61-7ef6-4a17-a000-c197f0cf08fd');\n",
              "          const dataTable =\n",
              "            await google.colab.kernel.invokeFunction('convertToInteractive',\n",
              "                                                     [key], {});\n",
              "          if (!dataTable) return;\n",
              "\n",
              "          const docLinkHtml = 'Like what you see? Visit the ' +\n",
              "            '<a target=\"_blank\" href=https://colab.research.google.com/notebooks/data_table.ipynb>data table notebook</a>'\n",
              "            + ' to learn more about interactive tables.';\n",
              "          element.innerHTML = '';\n",
              "          dataTable['output_type'] = 'display_data';\n",
              "          await google.colab.output.renderOutput(dataTable, element);\n",
              "          const docLink = document.createElement('div');\n",
              "          docLink.innerHTML = docLinkHtml;\n",
              "          element.appendChild(docLink);\n",
              "        }\n",
              "      </script>\n",
              "    </div>\n",
              "  </div>\n",
              "  "
            ]
          },
          "metadata": {},
          "execution_count": 26
        }
      ],
      "source": [
        "from sklearn.feature_selection import SelectKBest\n",
        "from sklearn.feature_selection import chi2\n",
        "\n",
        "bestfeatures=SelectKBest(score_func=chi2,k='all')\n",
        "fit=bestfeatures.fit(X,y)\n",
        "\n",
        "dfscores=pd.DataFrame(fit.scores_)\n",
        "dfscores.index=[['Brand', 'Operating System', 'Processor', 'RAM Type', 'RAM Size',\n",
        "                 'Disc Type', 'Disc Size']]\n",
        "dfscores.columns=['score']\n",
        "dfscores"
      ]
    },
    {
      "cell_type": "code",
      "execution_count": 27,
      "id": "f817d5fa",
      "metadata": {
        "scrolled": false,
        "colab": {
          "base_uri": "https://localhost:8080/",
          "height": 575
        },
        "id": "f817d5fa",
        "outputId": "a5e5a427-241c-4589-dc4c-ee68cafd508a"
      },
      "outputs": [
        {
          "output_type": "execute_result",
          "data": {
            "text/plain": [
              "<Axes: >"
            ]
          },
          "metadata": {},
          "execution_count": 27
        },
        {
          "output_type": "display_data",
          "data": {
            "text/plain": [
              "<Figure size 640x480 with 1 Axes>"
            ],
            "image/png": "[encoded data removed]"
          },
          "metadata": {}
        }
      ],
      "source": [
        "dfscores.plot(kind='bar')"
      ]
    },
    {
      "cell_type": "markdown",
      "id": "df0aca5a",
      "metadata": {
        "id": "df0aca5a"
      },
      "source": [
        "#### Brands drive the Price of laptops on large scale, Disc type not driving the price of laptop that much."
      ]
    },
    {
      "cell_type": "code",
      "execution_count": 27,
      "id": "65e26da3",
      "metadata": {
        "id": "65e26da3"
      },
      "outputs": [],
      "source": []
    },
    {
      "cell_type": "markdown",
      "id": "d6000f1c",
      "metadata": {
        "id": "d6000f1c"
      },
      "source": [
        "### Standardize the features"
      ]
    },
    {
      "cell_type": "code",
      "execution_count": 28,
      "id": "683f45cb",
      "metadata": {
        "colab": {
          "base_uri": "https://localhost:8080/"
        },
        "id": "683f45cb",
        "outputId": "9b643ca1-8c97-4c37-9606-cdccec377bf5"
      },
      "outputs": [
        {
          "output_type": "stream",
          "name": "stdout",
          "text": [
            "[[-0.80688224 -0.46911664 -0.87423048 ... -0.76754824 -0.28058001\n",
            "  -1.45873792]\n",
            " [-0.80688224 -0.46911664 -0.87423048 ... -0.76754824 -0.28058001\n",
            "  -0.31711694]\n",
            " [-0.44104142 -0.46911664 -0.87423048 ... -0.76754824 -0.28058001\n",
            "  -0.31711694]\n",
            " ...\n",
            " [-0.44104142 -0.46911664  0.91906281 ...  0.65676808 -0.28058001\n",
            "   0.82450404]\n",
            " [-0.44104142 -0.46911664 -0.87423048 ...  0.65676808 -0.28058001\n",
            "  -0.31711694]\n",
            " [-0.80688224  1.21970327 -0.87423048 ... -0.76754824  2.69026717\n",
            "   0.82450404]]\n"
          ]
        }
      ],
      "source": [
        "from sklearn.preprocessing import StandardScaler, MinMaxScaler\n",
        "std=StandardScaler()\n",
        "X=std.fit_transform(X)\n",
        "\n",
        "print(X)"
      ]
    },
    {
      "cell_type": "code",
      "execution_count": null,
      "id": "f23e471f",
      "metadata": {
        "id": "f23e471f"
      },
      "outputs": [],
      "source": []
    },
    {
      "cell_type": "markdown",
      "id": "c752cf51",
      "metadata": {
        "id": "c752cf51"
      },
      "source": [
        "### Split into training and testing set"
      ]
    },
    {
      "cell_type": "code",
      "execution_count": 29,
      "id": "9bfe8cce",
      "metadata": {
        "colab": {
          "base_uri": "https://localhost:8080/"
        },
        "id": "9bfe8cce",
        "outputId": "d2ce359a-b068-419f-95ae-d92831a11afd"
      },
      "outputs": [
        {
          "output_type": "stream",
          "name": "stdout",
          "text": [
            "(576, 7)\n",
            "(576,)\n",
            "(144, 7)\n",
            "(144,)\n"
          ]
        }
      ],
      "source": [
        "from sklearn.model_selection import train_test_split\n",
        "\n",
        "x_train, x_test, y_train, y_test = train_test_split(X, y, test_size=0.2, random_state=42)\n",
        "print(x_train.shape)\n",
        "print(y_train.shape)\n",
        "print(x_test.shape)\n",
        "print(y_test.shape)"
      ]
    },
    {
      "cell_type": "markdown",
      "id": "3e2a2f1f",
      "metadata": {
        "id": "3e2a2f1f"
      },
      "source": [
        "### Machine Learning Regression Models"
      ]
    },
    {
      "cell_type": "markdown",
      "id": "dbb316c1",
      "metadata": {
        "id": "dbb316c1"
      },
      "source": [
        "### Linear Regression"
      ]
    },
    {
      "cell_type": "code",
      "execution_count": null,
      "id": "26abc20f",
      "metadata": {
        "id": "26abc20f"
      },
      "outputs": [],
      "source": [
        "from sklearn.linear_model import LinearRegression\n",
        "lr=LinearRegression()\n",
        "lr=lr.fit(x_train,y_train)\n",
        "y_pred=lr.predict(x_test)"
      ]
    },
    {
      "cell_type": "code",
      "execution_count": null,
      "id": "a2586a88",
      "metadata": {
        "id": "a2586a88",
        "outputId": "1da3043e-bdb1-4c65-e9dc-3929298ec4f4"
      },
      "outputs": [
        {
          "data": {
            "text/html": [
              "<div>\n",
              "<style scoped>\n",
              "    .dataframe tbody tr th:only-of-type {\n",
              "        vertical-align: middle;\n",
              "    }\n",
              "\n",
              "    .dataframe tbody tr th {\n",
              "        vertical-align: top;\n",
              "    }\n",
              "\n",
              "    .dataframe thead th {\n",
              "        text-align: right;\n",
              "    }\n",
              "</style>\n",
              "<table border=\"1\" class=\"dataframe\">\n",
              "  <thead>\n",
              "    <tr style=\"text-align: right;\">\n",
              "      <th></th>\n",
              "      <th>Model</th>\n",
              "      <th>MSE</th>\n",
              "      <th>RMSE</th>\n",
              "      <th>R2 Score</th>\n",
              "    </tr>\n",
              "  </thead>\n",
              "  <tbody>\n",
              "    <tr>\n",
              "      <th>0</th>\n",
              "      <td>Linear Regression</td>\n",
              "      <td>1.165097e+09</td>\n",
              "      <td>34133.52</td>\n",
              "      <td>0.52</td>\n",
              "    </tr>\n",
              "  </tbody>\n",
              "</table>\n",
              "</div>"
            ],
            "text/plain": [
              "               Model           MSE      RMSE  R2 Score\n",
              "0  Linear Regression  1.165097e+09  34133.52      0.52"
            ]
          },
          "execution_count": 29,
          "metadata": {},
          "output_type": "execute_result"
        }
      ],
      "source": [
        "from sklearn.metrics import mean_squared_error as mse, r2_score\n",
        "\n",
        "MSE=mse(y_pred,y_test).round(2)\n",
        "RMSE=np.sqrt(MSE).round(2)\n",
        "R2=r2_score(y_pred, y_test).round(2)\n",
        "\n",
        "results=pd.DataFrame({\"Model\":[\"Linear Regression\"], \"MSE\":[MSE], \"RMSE\":[RMSE], \"R2 Score\":[R2]})\n",
        "results"
      ]
    },
    {
      "cell_type": "code",
      "execution_count": null,
      "id": "43dfac80",
      "metadata": {
        "id": "43dfac80"
      },
      "outputs": [],
      "source": []
    },
    {
      "cell_type": "markdown",
      "id": "b9cb58f4",
      "metadata": {
        "id": "b9cb58f4"
      },
      "source": [
        "### KNN Regressor"
      ]
    },
    {
      "cell_type": "code",
      "execution_count": null,
      "id": "1ecb3eb0",
      "metadata": {
        "id": "1ecb3eb0"
      },
      "outputs": [],
      "source": [
        "from sklearn.neighbors import KNeighborsRegressor\n",
        "\n",
        "knn=KNeighborsRegressor(n_neighbors=3)\n",
        "knn=knn.fit(x_train,y_train)\n",
        "y_pred=knn.predict(x_test)"
      ]
    },
    {
      "cell_type": "code",
      "execution_count": null,
      "id": "14acb7be",
      "metadata": {
        "id": "14acb7be",
        "outputId": "6eab3f11-579c-4287-aecb-f488aebee40e"
      },
      "outputs": [
        {
          "data": {
            "text/html": [
              "<div>\n",
              "<style scoped>\n",
              "    .dataframe tbody tr th:only-of-type {\n",
              "        vertical-align: middle;\n",
              "    }\n",
              "\n",
              "    .dataframe tbody tr th {\n",
              "        vertical-align: top;\n",
              "    }\n",
              "\n",
              "    .dataframe thead th {\n",
              "        text-align: right;\n",
              "    }\n",
              "</style>\n",
              "<table border=\"1\" class=\"dataframe\">\n",
              "  <thead>\n",
              "    <tr style=\"text-align: right;\">\n",
              "      <th></th>\n",
              "      <th>Model</th>\n",
              "      <th>MSE</th>\n",
              "      <th>RMSE</th>\n",
              "      <th>R2 Score</th>\n",
              "    </tr>\n",
              "  </thead>\n",
              "  <tbody>\n",
              "    <tr>\n",
              "      <th>0</th>\n",
              "      <td>Linear Regression</td>\n",
              "      <td>1.165097e+09</td>\n",
              "      <td>34133.52</td>\n",
              "      <td>0.52</td>\n",
              "    </tr>\n",
              "    <tr>\n",
              "      <th>0</th>\n",
              "      <td>KNN Regression</td>\n",
              "      <td>8.127858e+08</td>\n",
              "      <td>28509.40</td>\n",
              "      <td>0.81</td>\n",
              "    </tr>\n",
              "  </tbody>\n",
              "</table>\n",
              "</div>"
            ],
            "text/plain": [
              "               Model           MSE      RMSE  R2 Score\n",
              "0  Linear Regression  1.165097e+09  34133.52      0.52\n",
              "0     KNN Regression  8.127858e+08  28509.40      0.81"
            ]
          },
          "execution_count": 31,
          "metadata": {},
          "output_type": "execute_result"
        }
      ],
      "source": [
        "MSE=mse(y_pred,y_test).round(2)\n",
        "RMSE=np.sqrt(MSE).round(2)\n",
        "R2=r2_score(y_pred, y_test).round(2)\n",
        "\n",
        "result=pd.DataFrame({\"Model\":[\"KNN Regression\"], \"MSE\":[MSE], \"RMSE\":[RMSE], \"R2 Score\":[R2]})\n",
        "results=pd.concat([results,result])\n",
        "results"
      ]
    },
    {
      "cell_type": "code",
      "execution_count": null,
      "id": "2b2c9b96",
      "metadata": {
        "id": "2b2c9b96"
      },
      "outputs": [],
      "source": []
    },
    {
      "cell_type": "markdown",
      "id": "6dc42499",
      "metadata": {
        "id": "6dc42499"
      },
      "source": [
        "### Decision Tree"
      ]
    },
    {
      "cell_type": "code",
      "execution_count": null,
      "id": "27e696c0",
      "metadata": {
        "id": "27e696c0"
      },
      "outputs": [],
      "source": [
        "from sklearn.tree import DecisionTreeRegressor\n",
        "\n",
        "dt=DecisionTreeRegressor(random_state=0)\n",
        "dt.fit(x_train,y_train)\n",
        "y_pred=dt.predict(x_test)"
      ]
    },
    {
      "cell_type": "code",
      "execution_count": null,
      "id": "9c58e499",
      "metadata": {
        "id": "9c58e499",
        "outputId": "e6862adb-3b43-4f66-eb31-964b4da2ee42"
      },
      "outputs": [
        {
          "data": {
            "text/html": [
              "<div>\n",
              "<style scoped>\n",
              "    .dataframe tbody tr th:only-of-type {\n",
              "        vertical-align: middle;\n",
              "    }\n",
              "\n",
              "    .dataframe tbody tr th {\n",
              "        vertical-align: top;\n",
              "    }\n",
              "\n",
              "    .dataframe thead th {\n",
              "        text-align: right;\n",
              "    }\n",
              "</style>\n",
              "<table border=\"1\" class=\"dataframe\">\n",
              "  <thead>\n",
              "    <tr style=\"text-align: right;\">\n",
              "      <th></th>\n",
              "      <th>Model</th>\n",
              "      <th>MSE</th>\n",
              "      <th>RMSE</th>\n",
              "      <th>R2 Score</th>\n",
              "    </tr>\n",
              "  </thead>\n",
              "  <tbody>\n",
              "    <tr>\n",
              "      <th>0</th>\n",
              "      <td>Linear Regression</td>\n",
              "      <td>1.165097e+09</td>\n",
              "      <td>34133.52</td>\n",
              "      <td>0.52</td>\n",
              "    </tr>\n",
              "    <tr>\n",
              "      <th>0</th>\n",
              "      <td>KNN Regression</td>\n",
              "      <td>8.127858e+08</td>\n",
              "      <td>28509.40</td>\n",
              "      <td>0.81</td>\n",
              "    </tr>\n",
              "    <tr>\n",
              "      <th>0</th>\n",
              "      <td>Decision Tree Regression</td>\n",
              "      <td>5.533518e+08</td>\n",
              "      <td>23523.43</td>\n",
              "      <td>0.85</td>\n",
              "    </tr>\n",
              "  </tbody>\n",
              "</table>\n",
              "</div>"
            ],
            "text/plain": [
              "                      Model           MSE      RMSE  R2 Score\n",
              "0         Linear Regression  1.165097e+09  34133.52      0.52\n",
              "0            KNN Regression  8.127858e+08  28509.40      0.81\n",
              "0  Decision Tree Regression  5.533518e+08  23523.43      0.85"
            ]
          },
          "execution_count": 33,
          "metadata": {},
          "output_type": "execute_result"
        }
      ],
      "source": [
        "MSE=mse(y_pred,y_test).round(2)\n",
        "RMSE=np.sqrt(MSE).round(2)\n",
        "R2=r2_score(y_pred, y_test).round(2)\n",
        "\n",
        "result=pd.DataFrame({\"Model\":[\"Decision Tree Regression\"], \"MSE\":[MSE], \"RMSE\":[RMSE], \"R2 Score\":[R2]})\n",
        "\n",
        "results=pd.concat([results,result])\n",
        "results"
      ]
    },
    {
      "cell_type": "code",
      "execution_count": null,
      "id": "625709bc",
      "metadata": {
        "id": "625709bc"
      },
      "outputs": [],
      "source": []
    },
    {
      "cell_type": "markdown",
      "id": "c957974e",
      "metadata": {
        "id": "c957974e"
      },
      "source": [
        "### Random Forest"
      ]
    },
    {
      "cell_type": "code",
      "execution_count": null,
      "id": "abaff8f0",
      "metadata": {
        "id": "abaff8f0"
      },
      "outputs": [],
      "source": [
        "from sklearn.ensemble import RandomForestRegressor\n",
        "\n",
        "rf=RandomForestRegressor()\n",
        "rf.fit(x_train,y_train)\n",
        "y_pred=rf.predict(x_test)"
      ]
    },
    {
      "cell_type": "code",
      "execution_count": null,
      "id": "7a54a724",
      "metadata": {
        "id": "7a54a724",
        "outputId": "36b511c3-325a-4f69-ef1e-c40cc3a4b20b"
      },
      "outputs": [
        {
          "data": {
            "text/html": [
              "<div>\n",
              "<style scoped>\n",
              "    .dataframe tbody tr th:only-of-type {\n",
              "        vertical-align: middle;\n",
              "    }\n",
              "\n",
              "    .dataframe tbody tr th {\n",
              "        vertical-align: top;\n",
              "    }\n",
              "\n",
              "    .dataframe thead th {\n",
              "        text-align: right;\n",
              "    }\n",
              "</style>\n",
              "<table border=\"1\" class=\"dataframe\">\n",
              "  <thead>\n",
              "    <tr style=\"text-align: right;\">\n",
              "      <th></th>\n",
              "      <th>Model</th>\n",
              "      <th>MSE</th>\n",
              "      <th>RMSE</th>\n",
              "      <th>R2 Score</th>\n",
              "    </tr>\n",
              "  </thead>\n",
              "  <tbody>\n",
              "    <tr>\n",
              "      <th>0</th>\n",
              "      <td>Linear Regression</td>\n",
              "      <td>1.165097e+09</td>\n",
              "      <td>34133.52</td>\n",
              "      <td>0.52</td>\n",
              "    </tr>\n",
              "    <tr>\n",
              "      <th>0</th>\n",
              "      <td>KNN Regression</td>\n",
              "      <td>8.127858e+08</td>\n",
              "      <td>28509.40</td>\n",
              "      <td>0.81</td>\n",
              "    </tr>\n",
              "    <tr>\n",
              "      <th>0</th>\n",
              "      <td>Decision Tree Regression</td>\n",
              "      <td>5.533518e+08</td>\n",
              "      <td>23523.43</td>\n",
              "      <td>0.85</td>\n",
              "    </tr>\n",
              "    <tr>\n",
              "      <th>0</th>\n",
              "      <td>Random Forest Regression</td>\n",
              "      <td>5.749915e+08</td>\n",
              "      <td>23978.98</td>\n",
              "      <td>0.83</td>\n",
              "    </tr>\n",
              "  </tbody>\n",
              "</table>\n",
              "</div>"
            ],
            "text/plain": [
              "                      Model           MSE      RMSE  R2 Score\n",
              "0         Linear Regression  1.165097e+09  34133.52      0.52\n",
              "0            KNN Regression  8.127858e+08  28509.40      0.81\n",
              "0  Decision Tree Regression  5.533518e+08  23523.43      0.85\n",
              "0  Random Forest Regression  5.749915e+08  23978.98      0.83"
            ]
          },
          "execution_count": 35,
          "metadata": {},
          "output_type": "execute_result"
        }
      ],
      "source": [
        "MSE=mse(y_pred,y_test).round(2)\n",
        "RMSE=np.sqrt(MSE).round(2)\n",
        "R2=r2_score(y_pred, y_test).round(2)\n",
        "\n",
        "result=pd.DataFrame({\"Model\":[\"Random Forest Regression\"], \"MSE\":[MSE], \"RMSE\":[RMSE], \"R2 Score\":[R2]})\n",
        "\n",
        "results=pd.concat([results,result])\n",
        "results"
      ]
    },
    {
      "cell_type": "code",
      "execution_count": null,
      "id": "4966eb86",
      "metadata": {
        "id": "4966eb86"
      },
      "outputs": [],
      "source": []
    },
    {
      "cell_type": "markdown",
      "id": "4a0d701a",
      "metadata": {
        "id": "4a0d701a"
      },
      "source": [
        "### Gradient boosting"
      ]
    },
    {
      "cell_type": "code",
      "execution_count": null,
      "id": "0f355ebb",
      "metadata": {
        "id": "0f355ebb"
      },
      "outputs": [],
      "source": [
        "from sklearn.ensemble import GradientBoostingRegressor\n",
        "\n",
        "grb= GradientBoostingRegressor(n_estimators =100,random_state =0) \n",
        "grb.fit(x_train, y_train) \n",
        "y_pred = grb.predict(x_test)"
      ]
    },
    {
      "cell_type": "code",
      "execution_count": null,
      "id": "7e06b03e",
      "metadata": {
        "id": "7e06b03e",
        "outputId": "877ac7d3-d3ec-4a35-b8bd-a6ed0046ff2f"
      },
      "outputs": [
        {
          "data": {
            "text/html": [
              "<div>\n",
              "<style scoped>\n",
              "    .dataframe tbody tr th:only-of-type {\n",
              "        vertical-align: middle;\n",
              "    }\n",
              "\n",
              "    .dataframe tbody tr th {\n",
              "        vertical-align: top;\n",
              "    }\n",
              "\n",
              "    .dataframe thead th {\n",
              "        text-align: right;\n",
              "    }\n",
              "</style>\n",
              "<table border=\"1\" class=\"dataframe\">\n",
              "  <thead>\n",
              "    <tr style=\"text-align: right;\">\n",
              "      <th></th>\n",
              "      <th>Model</th>\n",
              "      <th>MSE</th>\n",
              "      <th>RMSE</th>\n",
              "      <th>R2 Score</th>\n",
              "    </tr>\n",
              "  </thead>\n",
              "  <tbody>\n",
              "    <tr>\n",
              "      <th>0</th>\n",
              "      <td>Linear Regression</td>\n",
              "      <td>1.165097e+09</td>\n",
              "      <td>34133.52</td>\n",
              "      <td>0.520000</td>\n",
              "    </tr>\n",
              "    <tr>\n",
              "      <th>0</th>\n",
              "      <td>KNN Regression</td>\n",
              "      <td>8.127858e+08</td>\n",
              "      <td>28509.40</td>\n",
              "      <td>0.810000</td>\n",
              "    </tr>\n",
              "    <tr>\n",
              "      <th>0</th>\n",
              "      <td>Decision Tree Regression</td>\n",
              "      <td>5.533518e+08</td>\n",
              "      <td>23523.43</td>\n",
              "      <td>0.850000</td>\n",
              "    </tr>\n",
              "    <tr>\n",
              "      <th>0</th>\n",
              "      <td>Random Forest Regression</td>\n",
              "      <td>5.749915e+08</td>\n",
              "      <td>23978.98</td>\n",
              "      <td>0.830000</td>\n",
              "    </tr>\n",
              "    <tr>\n",
              "      <th>0</th>\n",
              "      <td>Gradient Boosting Regression</td>\n",
              "      <td>5.494580e+08</td>\n",
              "      <td>23440.52</td>\n",
              "      <td>0.862283</td>\n",
              "    </tr>\n",
              "  </tbody>\n",
              "</table>\n",
              "</div>"
            ],
            "text/plain": [
              "                          Model           MSE      RMSE  R2 Score\n",
              "0             Linear Regression  1.165097e+09  34133.52  0.520000\n",
              "0                KNN Regression  8.127858e+08  28509.40  0.810000\n",
              "0      Decision Tree Regression  5.533518e+08  23523.43  0.850000\n",
              "0      Random Forest Regression  5.749915e+08  23978.98  0.830000\n",
              "0  Gradient Boosting Regression  5.494580e+08  23440.52  0.862283"
            ]
          },
          "execution_count": 37,
          "metadata": {},
          "output_type": "execute_result"
        }
      ],
      "source": [
        "MSE=mse(y_pred,y_test).round(2)\n",
        "RMSE=np.sqrt(MSE).round(2)\n",
        "R2=r2_score(y_pred, y_test)\n",
        "\n",
        "result=pd.DataFrame({\"Model\":[\"Gradient Boosting Regression\"], \"MSE\":[MSE], \"RMSE\":[RMSE], \"R2 Score\":[R2]})\n",
        "\n",
        "results=pd.concat([results,result])\n",
        "results"
      ]
    },
    {
      "cell_type": "code",
      "execution_count": null,
      "id": "73ae1dae",
      "metadata": {
        "id": "73ae1dae"
      },
      "outputs": [],
      "source": []
    },
    {
      "cell_type": "markdown",
      "id": "bc8f3bc0",
      "metadata": {
        "id": "bc8f3bc0"
      },
      "source": [
        "### 5. ADA Boost"
      ]
    },
    {
      "cell_type": "code",
      "execution_count": null,
      "id": "b074dcb7",
      "metadata": {
        "id": "b074dcb7"
      },
      "outputs": [],
      "source": [
        "from sklearn.ensemble import AdaBoostRegressor\n",
        "\n",
        "ada=AdaBoostRegressor(n_estimators=100,learning_rate=0.001,random_state=0)\n",
        "ada.fit(x_train,y_train)\n",
        "y_pred=ada.predict(x_test)"
      ]
    },
    {
      "cell_type": "code",
      "execution_count": null,
      "id": "1707bb28",
      "metadata": {
        "id": "1707bb28",
        "outputId": "f4809b03-1ee3-4667-a40b-eb8f7bfbba5f"
      },
      "outputs": [
        {
          "data": {
            "text/html": [
              "<div>\n",
              "<style scoped>\n",
              "    .dataframe tbody tr th:only-of-type {\n",
              "        vertical-align: middle;\n",
              "    }\n",
              "\n",
              "    .dataframe tbody tr th {\n",
              "        vertical-align: top;\n",
              "    }\n",
              "\n",
              "    .dataframe thead th {\n",
              "        text-align: right;\n",
              "    }\n",
              "</style>\n",
              "<table border=\"1\" class=\"dataframe\">\n",
              "  <thead>\n",
              "    <tr style=\"text-align: right;\">\n",
              "      <th></th>\n",
              "      <th>Model</th>\n",
              "      <th>MSE</th>\n",
              "      <th>RMSE</th>\n",
              "      <th>R2 Score</th>\n",
              "    </tr>\n",
              "  </thead>\n",
              "  <tbody>\n",
              "    <tr>\n",
              "      <th>0</th>\n",
              "      <td>Linear Regression</td>\n",
              "      <td>1.165097e+09</td>\n",
              "      <td>34133.52</td>\n",
              "      <td>0.520000</td>\n",
              "    </tr>\n",
              "    <tr>\n",
              "      <th>0</th>\n",
              "      <td>KNN Regression</td>\n",
              "      <td>8.127858e+08</td>\n",
              "      <td>28509.40</td>\n",
              "      <td>0.810000</td>\n",
              "    </tr>\n",
              "    <tr>\n",
              "      <th>0</th>\n",
              "      <td>Decision Tree Regression</td>\n",
              "      <td>5.533518e+08</td>\n",
              "      <td>23523.43</td>\n",
              "      <td>0.850000</td>\n",
              "    </tr>\n",
              "    <tr>\n",
              "      <th>0</th>\n",
              "      <td>Random Forest Regression</td>\n",
              "      <td>5.749915e+08</td>\n",
              "      <td>23978.98</td>\n",
              "      <td>0.830000</td>\n",
              "    </tr>\n",
              "    <tr>\n",
              "      <th>0</th>\n",
              "      <td>Gradient Boosting Regression</td>\n",
              "      <td>5.494580e+08</td>\n",
              "      <td>23440.52</td>\n",
              "      <td>0.862283</td>\n",
              "    </tr>\n",
              "    <tr>\n",
              "      <th>0</th>\n",
              "      <td>ADA Boost Regression</td>\n",
              "      <td>7.567641e+08</td>\n",
              "      <td>27509.34</td>\n",
              "      <td>0.744465</td>\n",
              "    </tr>\n",
              "  </tbody>\n",
              "</table>\n",
              "</div>"
            ],
            "text/plain": [
              "                          Model           MSE      RMSE  R2 Score\n",
              "0             Linear Regression  1.165097e+09  34133.52  0.520000\n",
              "0                KNN Regression  8.127858e+08  28509.40  0.810000\n",
              "0      Decision Tree Regression  5.533518e+08  23523.43  0.850000\n",
              "0      Random Forest Regression  5.749915e+08  23978.98  0.830000\n",
              "0  Gradient Boosting Regression  5.494580e+08  23440.52  0.862283\n",
              "0          ADA Boost Regression  7.567641e+08  27509.34  0.744465"
            ]
          },
          "execution_count": 39,
          "metadata": {},
          "output_type": "execute_result"
        }
      ],
      "source": [
        "MSE=mse(y_pred,y_test).round(2)\n",
        "RMSE=np.sqrt(MSE).round(2)\n",
        "R2=r2_score(y_pred, y_test)\n",
        "\n",
        "result=pd.DataFrame({\"Model\":[\"ADA Boost Regression\"], \"MSE\":[MSE], \"RMSE\":[RMSE], \"R2 Score\":[R2]})\n",
        "\n",
        "results=pd.concat([results,result])\n",
        "results"
      ]
    },
    {
      "cell_type": "code",
      "execution_count": null,
      "id": "6aa3fcf2",
      "metadata": {
        "id": "6aa3fcf2"
      },
      "outputs": [],
      "source": []
    },
    {
      "cell_type": "markdown",
      "id": "dd3dd890",
      "metadata": {
        "id": "dd3dd890"
      },
      "source": [
        "### XG boost"
      ]
    },
    {
      "cell_type": "code",
      "execution_count": null,
      "id": "195d2b39",
      "metadata": {
        "id": "195d2b39"
      },
      "outputs": [],
      "source": [
        "from xgboost import XGBRegressor\n",
        "\n",
        "xgb=XGBRegressor(verbosity=0) \n",
        "xgb.fit(x_train,y_train)\n",
        "y_pred=xgb.predict(x_test)"
      ]
    },
    {
      "cell_type": "code",
      "execution_count": null,
      "id": "419ff775",
      "metadata": {
        "id": "419ff775",
        "outputId": "f746a64c-dc32-4309-9217-ff811c73989a"
      },
      "outputs": [
        {
          "data": {
            "text/html": [
              "<div>\n",
              "<style scoped>\n",
              "    .dataframe tbody tr th:only-of-type {\n",
              "        vertical-align: middle;\n",
              "    }\n",
              "\n",
              "    .dataframe tbody tr th {\n",
              "        vertical-align: top;\n",
              "    }\n",
              "\n",
              "    .dataframe thead th {\n",
              "        text-align: right;\n",
              "    }\n",
              "</style>\n",
              "<table border=\"1\" class=\"dataframe\">\n",
              "  <thead>\n",
              "    <tr style=\"text-align: right;\">\n",
              "      <th></th>\n",
              "      <th>Model</th>\n",
              "      <th>MSE</th>\n",
              "      <th>RMSE</th>\n",
              "      <th>R2 Score</th>\n",
              "    </tr>\n",
              "  </thead>\n",
              "  <tbody>\n",
              "    <tr>\n",
              "      <th>0</th>\n",
              "      <td>Linear Regression</td>\n",
              "      <td>1.165097e+09</td>\n",
              "      <td>34133.52</td>\n",
              "      <td>0.520000</td>\n",
              "    </tr>\n",
              "    <tr>\n",
              "      <th>0</th>\n",
              "      <td>KNN Regression</td>\n",
              "      <td>8.127858e+08</td>\n",
              "      <td>28509.40</td>\n",
              "      <td>0.810000</td>\n",
              "    </tr>\n",
              "    <tr>\n",
              "      <th>0</th>\n",
              "      <td>Decision Tree Regression</td>\n",
              "      <td>5.533518e+08</td>\n",
              "      <td>23523.43</td>\n",
              "      <td>0.850000</td>\n",
              "    </tr>\n",
              "    <tr>\n",
              "      <th>0</th>\n",
              "      <td>Random Forest Regression</td>\n",
              "      <td>5.749915e+08</td>\n",
              "      <td>23978.98</td>\n",
              "      <td>0.830000</td>\n",
              "    </tr>\n",
              "    <tr>\n",
              "      <th>0</th>\n",
              "      <td>Gradient Boosting Regression</td>\n",
              "      <td>5.494580e+08</td>\n",
              "      <td>23440.52</td>\n",
              "      <td>0.862283</td>\n",
              "    </tr>\n",
              "    <tr>\n",
              "      <th>0</th>\n",
              "      <td>ADA Boost Regression</td>\n",
              "      <td>7.567641e+08</td>\n",
              "      <td>27509.34</td>\n",
              "      <td>0.744465</td>\n",
              "    </tr>\n",
              "    <tr>\n",
              "      <th>0</th>\n",
              "      <td>XG Boost Regression</td>\n",
              "      <td>5.649962e+08</td>\n",
              "      <td>23769.65</td>\n",
              "      <td>0.845916</td>\n",
              "    </tr>\n",
              "  </tbody>\n",
              "</table>\n",
              "</div>"
            ],
            "text/plain": [
              "                          Model           MSE      RMSE  R2 Score\n",
              "0             Linear Regression  1.165097e+09  34133.52  0.520000\n",
              "0                KNN Regression  8.127858e+08  28509.40  0.810000\n",
              "0      Decision Tree Regression  5.533518e+08  23523.43  0.850000\n",
              "0      Random Forest Regression  5.749915e+08  23978.98  0.830000\n",
              "0  Gradient Boosting Regression  5.494580e+08  23440.52  0.862283\n",
              "0          ADA Boost Regression  7.567641e+08  27509.34  0.744465\n",
              "0           XG Boost Regression  5.649962e+08  23769.65  0.845916"
            ]
          },
          "execution_count": 41,
          "metadata": {},
          "output_type": "execute_result"
        }
      ],
      "source": [
        "MSE=mse(y_pred,y_test).round(2)\n",
        "RMSE=np.sqrt(MSE).round(2)\n",
        "R2=r2_score(y_pred, y_test)\n",
        "\n",
        "result=pd.DataFrame({\"Model\":[\"XG Boost Regression\"], \"MSE\":[MSE], \"RMSE\":[RMSE], \"R2 Score\":[R2]})\n",
        "\n",
        "results=pd.concat([results,result])\n",
        "results"
      ]
    },
    {
      "cell_type": "code",
      "execution_count": null,
      "id": "e3455091",
      "metadata": {
        "id": "e3455091"
      },
      "outputs": [],
      "source": []
    },
    {
      "cell_type": "markdown",
      "id": "f8563395",
      "metadata": {
        "id": "f8563395"
      },
      "source": [
        "### XG boost regressor has high R2 score and low RMSE, tune this model and select this to predict the price of Laptop."
      ]
    },
    {
      "cell_type": "code",
      "execution_count": null,
      "id": "d520f163",
      "metadata": {
        "id": "d520f163",
        "outputId": "6a9e0cfc-3875-4218-865d-f0a4e39f4eee"
      },
      "outputs": [
        {
          "name": "stdout",
          "output_type": "stream",
          "text": [
            "457971928.85\n",
            "21400.27870963367\n",
            "86.84\n"
          ]
        }
      ],
      "source": [
        "xgb=XGBRegressor(learning_rate=0.15, n_estimators=50, max_leaves=0, random_state=42)\n",
        "\n",
        "xgb.fit(x_train,y_train)\n",
        "y_pred=xgb.predict(x_test)\n",
        "\n",
        "print(mse(y_pred,y_test).round(2))\n",
        "print(np.sqrt(mse(y_pred,y_test).round(2)))\n",
        "print(((r2_score(y_pred, y_test))*100).round(2))"
      ]
    },
    {
      "cell_type": "code",
      "execution_count": null,
      "id": "2e5d76ee",
      "metadata": {
        "id": "2e5d76ee"
      },
      "outputs": [],
      "source": []
    },
    {
      "cell_type": "markdown",
      "id": "0906144a",
      "metadata": {
        "id": "0906144a"
      },
      "source": [
        "### Cross validation to check model performace"
      ]
    },
    {
      "cell_type": "code",
      "execution_count": null,
      "id": "ff1ddb0d",
      "metadata": {
        "id": "ff1ddb0d",
        "outputId": "35359c39-d649-4976-b8fb-706973d69d41"
      },
      "outputs": [
        {
          "name": "stdout",
          "output_type": "stream",
          "text": [
            "Cross validations Score:\n",
            " [0.8603306  0.80200795 0.87746295 0.88874028 0.87624929 0.88260216\n",
            " 0.76237864 0.8513186  0.84390526 0.80778223 0.76120786 0.86066386\n",
            " 0.87742852 0.83614981 0.79473697 0.86295514 0.86328152 0.88329833\n",
            " 0.88926268 0.8445585 ]\n",
            "Average Cross validations Score: 0.8463160581065953\n",
            "Maximum Cross validations Score: 0.8892626827893856\n",
            "Minimum Cross validations Score: 0.7612078560098237\n"
          ]
        }
      ],
      "source": [
        "from sklearn.model_selection import cross_val_score, KFold, ShuffleSplit\n",
        "\n",
        "xgb=XGBRegressor(learning_rate=0.15, n_estimators=50, max_leaves=0, random_state=42)\n",
        "\n",
        "k=ShuffleSplit(n_splits=20, test_size=0.2, random_state=20)\n",
        "score=cross_val_score(xgb, X,y, cv=k)\n",
        "print(\"Cross validations Score:\\n\", score)\n",
        "print(\"Average Cross validations Score:\", score.mean())\n",
        "print(\"Maximum Cross validations Score:\", score.max())\n",
        "print(\"Minimum Cross validations Score:\", score.min())"
      ]
    },
    {
      "cell_type": "markdown",
      "id": "8ba1a479",
      "metadata": {
        "id": "8ba1a479"
      },
      "source": [
        "#### Applying cross validation improving model performance, R2 Score increased."
      ]
    },
    {
      "cell_type": "code",
      "execution_count": null,
      "id": "d4394696",
      "metadata": {
        "id": "d4394696"
      },
      "outputs": [],
      "source": []
    },
    {
      "cell_type": "markdown",
      "id": "79bf4f59",
      "metadata": {
        "id": "79bf4f59"
      },
      "source": [
        "### Grid Search CV to tune the hyperparameter"
      ]
    },
    {
      "cell_type": "code",
      "execution_count": 31,
      "id": "28004b2d",
      "metadata": {
        "colab": {
          "base_uri": "https://localhost:8080/"
        },
        "id": "28004b2d",
        "outputId": "3e17a3c9-a655-4b07-e719-b80bba556e4a"
      },
      "outputs": [
        {
          "output_type": "execute_result",
          "data": {
            "text/plain": [
              "{'learning_rate': 0.19, 'max_depth': 5, 'n_estimators': 70}"
            ]
          },
          "metadata": {},
          "execution_count": 31
        }
      ],
      "source": [
        "from sklearn.model_selection import GridSearchCV\n",
        "\n",
        "xgb=XGBRegressor(max_leaves=0)\n",
        "parameters=dict(n_estimators=[50,60,70,80,90,100], max_depth=[1,2,3,4,5],\n",
        "                learning_rate=[0.1,0.11,0.12,0.13,0.14,0.15,0.16,0.18,0.19,0.2])\n",
        "grid_search_cv=GridSearchCV(xgb,param_grid=parameters)\n",
        "search = grid_search_cv.fit(x_train,y_train)\n",
        "search.best_params_"
      ]
    },
    {
      "cell_type": "code",
      "execution_count": 33,
      "id": "c9ba6dde",
      "metadata": {
        "colab": {
          "base_uri": "https://localhost:8080/"
        },
        "id": "c9ba6dde",
        "outputId": "cba534d5-8925-4f5d-a505-199b2063818f"
      },
      "outputs": [
        {
          "output_type": "execute_result",
          "data": {
            "text/plain": [
              "0.8481641440304185"
            ]
          },
          "metadata": {},
          "execution_count": 33
        }
      ],
      "source": [
        "xgb=XGBRegressor(max_leaves=0, n_estimators=70, max_depth=5, learning_rate=0.19)\n",
        "xgb=xgb.fit(x_train,y_train)\n",
        "r2_score(xgb.predict(x_test), y_test)"
      ]
    },
    {
      "cell_type": "code",
      "execution_count": null,
      "id": "45d99275",
      "metadata": {
        "id": "45d99275"
      },
      "outputs": [],
      "source": []
    },
    {
      "cell_type": "code",
      "execution_count": null,
      "id": "25411c8c",
      "metadata": {
        "id": "25411c8c"
      },
      "outputs": [],
      "source": []
    },
    {
      "cell_type": "markdown",
      "id": "04b09de6",
      "metadata": {
        "id": "04b09de6"
      },
      "source": [
        "## Using Encoding (OneHotEncoding/Dummies)"
      ]
    },
    {
      "cell_type": "code",
      "execution_count": 34,
      "id": "2ffb4290",
      "metadata": {
        "id": "2ffb4290"
      },
      "outputs": [],
      "source": [
        "data=df.copy()"
      ]
    },
    {
      "cell_type": "code",
      "execution_count": 35,
      "id": "091a1261",
      "metadata": {
        "colab": {
          "base_uri": "https://localhost:8080/",
          "height": 206
        },
        "id": "091a1261",
        "outputId": "fc85e641-1030-4293-8676-b3df213db0a6"
      },
      "outputs": [
        {
          "output_type": "execute_result",
          "data": {
            "text/plain": [
              "    Brand Operating System Processor RAM Type RAM Size Disc Type Disc Size  \\\n",
              "0  Lenovo       Windows 11     Intel     DDR4      8GB       SSD     256GB   \n",
              "1  Lenovo       Windows 11     Intel     DDR4      8GB       SSD     512GB   \n",
              "2    ASUS       Windows 11     Intel     DDR4      8GB       SSD     512GB   \n",
              "3      HP       Windows 10       AMD     DDR4      8GB       SSD     512GB   \n",
              "4    ASUS       Windows 11     Intel     DDR4      8GB       SSD     512GB   \n",
              "\n",
              "     MRP  \n",
              "0  36990  \n",
              "1  39990  \n",
              "2  32990  \n",
              "3  49990  \n",
              "4  49990  "
            ],
            "text/html": [
              "\n",
              "  <div id=\"df-4a364136-8ac4-4460-9187-3f0888e2cde0\">\n",
              "    <div class=\"colab-df-container\">\n",
              "      <div>\n",
              "<style scoped>\n",
              "    .dataframe tbody tr th:only-of-type {\n",
              "        vertical-align: middle;\n",
              "    }\n",
              "\n",
              "    .dataframe tbody tr th {\n",
              "        vertical-align: top;\n",
              "    }\n",
              "\n",
              "    .dataframe thead th {\n",
              "        text-align: right;\n",
              "    }\n",
              "</style>\n",
              "<table border=\"1\" class=\"dataframe\">\n",
              "  <thead>\n",
              "    <tr style=\"text-align: right;\">\n",
              "      <th></th>\n",
              "      <th>Brand</th>\n",
              "      <th>Operating System</th>\n",
              "      <th>Processor</th>\n",
              "      <th>RAM Type</th>\n",
              "      <th>RAM Size</th>\n",
              "      <th>Disc Type</th>\n",
              "      <th>Disc Size</th>\n",
              "      <th>MRP</th>\n",
              "    </tr>\n",
              "  </thead>\n",
              "  <tbody>\n",
              "    <tr>\n",
              "      <th>0</th>\n",
              "      <td>Lenovo</td>\n",
              "      <td>Windows 11</td>\n",
              "      <td>Intel</td>\n",
              "      <td>DDR4</td>\n",
              "      <td>8GB</td>\n",
              "      <td>SSD</td>\n",
              "      <td>256GB</td>\n",
              "      <td>36990</td>\n",
              "    </tr>\n",
              "    <tr>\n",
              "      <th>1</th>\n",
              "      <td>Lenovo</td>\n",
              "      <td>Windows 11</td>\n",
              "      <td>Intel</td>\n",
              "      <td>DDR4</td>\n",
              "      <td>8GB</td>\n",
              "      <td>SSD</td>\n",
              "      <td>512GB</td>\n",
              "      <td>39990</td>\n",
              "    </tr>\n",
              "    <tr>\n",
              "      <th>2</th>\n",
              "      <td>ASUS</td>\n",
              "      <td>Windows 11</td>\n",
              "      <td>Intel</td>\n",
              "      <td>DDR4</td>\n",
              "      <td>8GB</td>\n",
              "      <td>SSD</td>\n",
              "      <td>512GB</td>\n",
              "      <td>32990</td>\n",
              "    </tr>\n",
              "    <tr>\n",
              "      <th>3</th>\n",
              "      <td>HP</td>\n",
              "      <td>Windows 10</td>\n",
              "      <td>AMD</td>\n",
              "      <td>DDR4</td>\n",
              "      <td>8GB</td>\n",
              "      <td>SSD</td>\n",
              "      <td>512GB</td>\n",
              "      <td>49990</td>\n",
              "    </tr>\n",
              "    <tr>\n",
              "      <th>4</th>\n",
              "      <td>ASUS</td>\n",
              "      <td>Windows 11</td>\n",
              "      <td>Intel</td>\n",
              "      <td>DDR4</td>\n",
              "      <td>8GB</td>\n",
              "      <td>SSD</td>\n",
              "      <td>512GB</td>\n",
              "      <td>49990</td>\n",
              "    </tr>\n",
              "  </tbody>\n",
              "</table>\n",
              "</div>\n",
              "      <button class=\"colab-df-convert\" onclick=\"convertToInteractive('df-4a364136-8ac4-4460-9187-3f0888e2cde0')\"\n",
              "              title=\"Convert this dataframe to an interactive table.\"\n",
              "              style=\"display:none;\">\n",
              "        \n",
              "  <svg xmlns=\"http://www.w3.org/2000/svg\" height=\"24px\"viewBox=\"0 0 24 24\"\n",
              "       width=\"24px\">\n",
              "    <path d=\"M0 0h24v24H0V0z\" fill=\"none\"/>\n",
              "    <path d=\"M18.56 5.44l.94 2.06.94-2.06 2.06-.94-2.06-.94-.94-2.06-.94 2.06-2.06.94zm-11 1L8.5 8.5l.94-2.06 2.06-.94-2.06-.94L8.5 2.5l-.94 2.06-2.06.94zm10 10l.94 2.06.94-2.06 2.06-.94-2.06-.94-.94-2.06-.94 2.06-2.06.94z\"/><path d=\"M17.41 7.96l-1.37-1.37c-.4-.4-.92-.59-1.43-.59-.52 0-1.04.2-1.43.59L10.3 9.45l-7.72 7.72c-.78.78-.78 2.05 0 2.83L4 21.41c.39.39.9.59 1.41.59.51 0 1.02-.2 1.41-.59l7.78-7.78 2.81-2.81c.8-.78.8-2.07 0-2.86zM5.41 20L4 18.59l7.72-7.72 1.47 1.35L5.41 20z\"/>\n",
              "  </svg>\n",
              "      </button>\n",
              "      \n",
              "  <style>\n",
              "    .colab-df-container {\n",
              "      display:flex;\n",
              "      flex-wrap:wrap;\n",
              "      gap: 12px;\n",
              "    }\n",
              "\n",
              "    .colab-df-convert {\n",
              "      background-color: #E8F0FE;\n",
              "      border: none;\n",
              "      border-radius: 50%;\n",
              "      cursor: pointer;\n",
              "      display: none;\n",
              "      fill: #1967D2;\n",
              "      height: 32px;\n",
              "      padding: 0 0 0 0;\n",
              "      width: 32px;\n",
              "    }\n",
              "\n",
              "    .colab-df-convert:hover {\n",
              "      background-color: #E2EBFA;\n",
              "      box-shadow: 0px 1px 2px rgba(60, 64, 67, 0.3), 0px 1px 3px 1px rgba(60, 64, 67, 0.15);\n",
              "      fill: #174EA6;\n",
              "    }\n",
              "\n",
              "    [theme=dark] .colab-df-convert {\n",
              "      background-color: #3B4455;\n",
              "      fill: #D2E3FC;\n",
              "    }\n",
              "\n",
              "    [theme=dark] .colab-df-convert:hover {\n",
              "      background-color: #434B5C;\n",
              "      box-shadow: 0px 1px 3px 1px rgba(0, 0, 0, 0.15);\n",
              "      filter: drop-shadow(0px 1px 2px rgba(0, 0, 0, 0.3));\n",
              "      fill: #FFFFFF;\n",
              "    }\n",
              "  </style>\n",
              "\n",
              "      <script>\n",
              "        const buttonEl =\n",
              "          document.querySelector('#df-4a364136-8ac4-4460-9187-3f0888e2cde0 button.colab-df-convert');\n",
              "        buttonEl.style.display =\n",
              "          google.colab.kernel.accessAllowed ? 'block' : 'none';\n",
              "\n",
              "        async function convertToInteractive(key) {\n",
              "          const element = document.querySelector('#df-4a364136-8ac4-4460-9187-3f0888e2cde0');\n",
              "          const dataTable =\n",
              "            await google.colab.kernel.invokeFunction('convertToInteractive',\n",
              "                                                     [key], {});\n",
              "          if (!dataTable) return;\n",
              "\n",
              "          const docLinkHtml = 'Like what you see? Visit the ' +\n",
              "            '<a target=\"_blank\" href=https://colab.research.google.com/notebooks/data_table.ipynb>data table notebook</a>'\n",
              "            + ' to learn more about interactive tables.';\n",
              "          element.innerHTML = '';\n",
              "          dataTable['output_type'] = 'display_data';\n",
              "          await google.colab.output.renderOutput(dataTable, element);\n",
              "          const docLink = document.createElement('div');\n",
              "          docLink.innerHTML = docLinkHtml;\n",
              "          element.appendChild(docLink);\n",
              "        }\n",
              "      </script>\n",
              "    </div>\n",
              "  </div>\n",
              "  "
            ]
          },
          "metadata": {},
          "execution_count": 35
        }
      ],
      "source": [
        "data.head()"
      ]
    },
    {
      "cell_type": "markdown",
      "id": "ffce51c2",
      "metadata": {
        "id": "ffce51c2"
      },
      "source": [
        "### Create dummies for all Categorical column"
      ]
    },
    {
      "cell_type": "code",
      "execution_count": 36,
      "id": "34990a22",
      "metadata": {
        "id": "34990a22"
      },
      "outputs": [],
      "source": [
        "pd.options.display.max_columns=100"
      ]
    },
    {
      "cell_type": "code",
      "execution_count": 37,
      "id": "fc466d7b",
      "metadata": {
        "colab": {
          "base_uri": "https://localhost:8080/",
          "height": 305
        },
        "id": "fc466d7b",
        "outputId": "9b7e3711-26d1-4c1f-b14d-85d125f56b71"
      },
      "outputs": [
        {
          "output_type": "execute_result",
          "data": {
            "text/plain": [
              "     MRP  Brand_ALIENWARE  Brand_APPLE  Brand_ASUS  Brand_DELL  \\\n",
              "0  36990                0            0           0           0   \n",
              "1  39990                0            0           0           0   \n",
              "2  32990                0            0           1           0   \n",
              "3  49990                0            0           0           0   \n",
              "4  49990                0            0           1           0   \n",
              "\n",
              "   Brand_GIGABYTE  Brand_HP  Brand_Infinix  Brand_Lenovo  Brand_MSI  \\\n",
              "0               0         0              0             1          0   \n",
              "1               0         0              0             1          0   \n",
              "2               0         0              0             0          0   \n",
              "3               0         1              0             0          0   \n",
              "4               0         0              0             0          0   \n",
              "\n",
              "   Brand_Nokia  Brand_RedmiBook  Brand_SAMSUNG  Brand_Ultimus  Brand_Vaio  \\\n",
              "0            0                0              0              0           0   \n",
              "1            0                0              0              0           0   \n",
              "2            0                0              0              0           0   \n",
              "3            0                0              0              0           0   \n",
              "4            0                0              0              0           0   \n",
              "\n",
              "   Brand_acer  Brand_realme  Operating System_Chrome  Operating System_DOS  \\\n",
              "0           0             0                        0                     0   \n",
              "1           0             0                        0                     0   \n",
              "2           0             0                        0                     0   \n",
              "3           0             0                        0                     0   \n",
              "4           0             0                        0                     0   \n",
              "\n",
              "   Operating System_Mac  Operating System_Windows 10  \\\n",
              "0                     0                            0   \n",
              "1                     0                            0   \n",
              "2                     0                            0   \n",
              "3                     0                            1   \n",
              "4                     0                            0   \n",
              "\n",
              "   Operating System_Windows 11  Processor_AMD  Processor_Apple  \\\n",
              "0                            1              0                0   \n",
              "1                            1              0                0   \n",
              "2                            1              0                0   \n",
              "3                            0              1                0   \n",
              "4                            1              0                0   \n",
              "\n",
              "   Processor_Intel  Processor_Qualcomm  RAM Type_DDR4  RAM Type_DDR5  \\\n",
              "0                1                   0              1              0   \n",
              "1                1                   0              1              0   \n",
              "2                1                   0              1              0   \n",
              "3                0                   0              1              0   \n",
              "4                1                   0              1              0   \n",
              "\n",
              "   RAM Type_LPDDR3  RAM Type_LPDDR4  RAM Type_LPDDR4X  RAM Type_LPDDR5  \\\n",
              "0                0                0                 0                0   \n",
              "1                0                0                 0                0   \n",
              "2                0                0                 0                0   \n",
              "3                0                0                 0                0   \n",
              "4                0                0                 0                0   \n",
              "\n",
              "   RAM Type_Unified  RAM Size_16GB  RAM Size_32GB  RAM Size_4GB  RAM Size_8GB  \\\n",
              "0                 0              0              0             0             1   \n",
              "1                 0              0              0             0             1   \n",
              "2                 0              0              0             0             1   \n",
              "3                 0              0              0             0             1   \n",
              "4                 0              0              0             0             1   \n",
              "\n",
              "   Disc Type_EMMC  Disc Type_HDD  Disc Type_SSD  Disc Size_128GB  \\\n",
              "0               0              0              1                0   \n",
              "1               0              0              1                0   \n",
              "2               0              0              1                0   \n",
              "3               0              0              1                0   \n",
              "4               0              0              1                0   \n",
              "\n",
              "   Disc Size_1TB  Disc Size_256GB  Disc Size_2TB  Disc Size_32GB  \\\n",
              "0              0                1              0               0   \n",
              "1              0                0              0               0   \n",
              "2              0                0              0               0   \n",
              "3              0                0              0               0   \n",
              "4              0                0              0               0   \n",
              "\n",
              "   Disc Size_512GB  Disc Size_64GB  \n",
              "0                0               0  \n",
              "1                1               0  \n",
              "2                1               0  \n",
              "3                1               0  \n",
              "4                1               0  "
            ],
            "text/html": [
              "\n",
              "  <div id=\"df-e0f18b91-d7ac-4eac-ba3b-ed0636694f57\">\n",
              "    <div class=\"colab-df-container\">\n",
              "      <div>\n",
              "<style scoped>\n",
              "    .dataframe tbody tr th:only-of-type {\n",
              "        vertical-align: middle;\n",
              "    }\n",
              "\n",
              "    .dataframe tbody tr th {\n",
              "        vertical-align: top;\n",
              "    }\n",
              "\n",
              "    .dataframe thead th {\n",
              "        text-align: right;\n",
              "    }\n",
              "</style>\n",
              "<table border=\"1\" class=\"dataframe\">\n",
              "  <thead>\n",
              "    <tr style=\"text-align: right;\">\n",
              "      <th></th>\n",
              "      <th>MRP</th>\n",
              "      <th>Brand_ALIENWARE</th>\n",
              "      <th>Brand_APPLE</th>\n",
              "      <th>Brand_ASUS</th>\n",
              "      <th>Brand_DELL</th>\n",
              "      <th>Brand_GIGABYTE</th>\n",
              "      <th>Brand_HP</th>\n",
              "      <th>Brand_Infinix</th>\n",
              "      <th>Brand_Lenovo</th>\n",
              "      <th>Brand_MSI</th>\n",
              "      <th>Brand_Nokia</th>\n",
              "      <th>Brand_RedmiBook</th>\n",
              "      <th>Brand_SAMSUNG</th>\n",
              "      <th>Brand_Ultimus</th>\n",
              "      <th>Brand_Vaio</th>\n",
              "      <th>Brand_acer</th>\n",
              "      <th>Brand_realme</th>\n",
              "      <th>Operating System_Chrome</th>\n",
              "      <th>Operating System_DOS</th>\n",
              "      <th>Operating System_Mac</th>\n",
              "      <th>Operating System_Windows 10</th>\n",
              "      <th>Operating System_Windows 11</th>\n",
              "      <th>Processor_AMD</th>\n",
              "      <th>Processor_Apple</th>\n",
              "      <th>Processor_Intel</th>\n",
              "      <th>Processor_Qualcomm</th>\n",
              "      <th>RAM Type_DDR4</th>\n",
              "      <th>RAM Type_DDR5</th>\n",
              "      <th>RAM Type_LPDDR3</th>\n",
              "      <th>RAM Type_LPDDR4</th>\n",
              "      <th>RAM Type_LPDDR4X</th>\n",
              "      <th>RAM Type_LPDDR5</th>\n",
              "      <th>RAM Type_Unified</th>\n",
              "      <th>RAM Size_16GB</th>\n",
              "      <th>RAM Size_32GB</th>\n",
              "      <th>RAM Size_4GB</th>\n",
              "      <th>RAM Size_8GB</th>\n",
              "      <th>Disc Type_EMMC</th>\n",
              "      <th>Disc Type_HDD</th>\n",
              "      <th>Disc Type_SSD</th>\n",
              "      <th>Disc Size_128GB</th>\n",
              "      <th>Disc Size_1TB</th>\n",
              "      <th>Disc Size_256GB</th>\n",
              "      <th>Disc Size_2TB</th>\n",
              "      <th>Disc Size_32GB</th>\n",
              "      <th>Disc Size_512GB</th>\n",
              "      <th>Disc Size_64GB</th>\n",
              "    </tr>\n",
              "  </thead>\n",
              "  <tbody>\n",
              "    <tr>\n",
              "      <th>0</th>\n",
              "      <td>36990</td>\n",
              "      <td>0</td>\n",
              "      <td>0</td>\n",
              "      <td>0</td>\n",
              "      <td>0</td>\n",
              "      <td>0</td>\n",
              "      <td>0</td>\n",
              "      <td>0</td>\n",
              "      <td>1</td>\n",
              "      <td>0</td>\n",
              "      <td>0</td>\n",
              "      <td>0</td>\n",
              "      <td>0</td>\n",
              "      <td>0</td>\n",
              "      <td>0</td>\n",
              "      <td>0</td>\n",
              "      <td>0</td>\n",
              "      <td>0</td>\n",
              "      <td>0</td>\n",
              "      <td>0</td>\n",
              "      <td>0</td>\n",
              "      <td>1</td>\n",
              "      <td>0</td>\n",
              "      <td>0</td>\n",
              "      <td>1</td>\n",
              "      <td>0</td>\n",
              "      <td>1</td>\n",
              "      <td>0</td>\n",
              "      <td>0</td>\n",
              "      <td>0</td>\n",
              "      <td>0</td>\n",
              "      <td>0</td>\n",
              "      <td>0</td>\n",
              "      <td>0</td>\n",
              "      <td>0</td>\n",
              "      <td>0</td>\n",
              "      <td>1</td>\n",
              "      <td>0</td>\n",
              "      <td>0</td>\n",
              "      <td>1</td>\n",
              "      <td>0</td>\n",
              "      <td>0</td>\n",
              "      <td>1</td>\n",
              "      <td>0</td>\n",
              "      <td>0</td>\n",
              "      <td>0</td>\n",
              "      <td>0</td>\n",
              "    </tr>\n",
              "    <tr>\n",
              "      <th>1</th>\n",
              "      <td>39990</td>\n",
              "      <td>0</td>\n",
              "      <td>0</td>\n",
              "      <td>0</td>\n",
              "      <td>0</td>\n",
              "      <td>0</td>\n",
              "      <td>0</td>\n",
              "      <td>0</td>\n",
              "      <td>1</td>\n",
              "      <td>0</td>\n",
              "      <td>0</td>\n",
              "      <td>0</td>\n",
              "      <td>0</td>\n",
              "      <td>0</td>\n",
              "      <td>0</td>\n",
              "      <td>0</td>\n",
              "      <td>0</td>\n",
              "      <td>0</td>\n",
              "      <td>0</td>\n",
              "      <td>0</td>\n",
              "      <td>0</td>\n",
              "      <td>1</td>\n",
              "      <td>0</td>\n",
              "      <td>0</td>\n",
              "      <td>1</td>\n",
              "      <td>0</td>\n",
              "      <td>1</td>\n",
              "      <td>0</td>\n",
              "      <td>0</td>\n",
              "      <td>0</td>\n",
              "      <td>0</td>\n",
              "      <td>0</td>\n",
              "      <td>0</td>\n",
              "      <td>0</td>\n",
              "      <td>0</td>\n",
              "      <td>0</td>\n",
              "      <td>1</td>\n",
              "      <td>0</td>\n",
              "      <td>0</td>\n",
              "      <td>1</td>\n",
              "      <td>0</td>\n",
              "      <td>0</td>\n",
              "      <td>0</td>\n",
              "      <td>0</td>\n",
              "      <td>0</td>\n",
              "      <td>1</td>\n",
              "      <td>0</td>\n",
              "    </tr>\n",
              "    <tr>\n",
              "      <th>2</th>\n",
              "      <td>32990</td>\n",
              "      <td>0</td>\n",
              "      <td>0</td>\n",
              "      <td>1</td>\n",
              "      <td>0</td>\n",
              "      <td>0</td>\n",
              "      <td>0</td>\n",
              "      <td>0</td>\n",
              "      <td>0</td>\n",
              "      <td>0</td>\n",
              "      <td>0</td>\n",
              "      <td>0</td>\n",
              "      <td>0</td>\n",
              "      <td>0</td>\n",
              "      <td>0</td>\n",
              "      <td>0</td>\n",
              "      <td>0</td>\n",
              "      <td>0</td>\n",
              "      <td>0</td>\n",
              "      <td>0</td>\n",
              "      <td>0</td>\n",
              "      <td>1</td>\n",
              "      <td>0</td>\n",
              "      <td>0</td>\n",
              "      <td>1</td>\n",
              "      <td>0</td>\n",
              "      <td>1</td>\n",
              "      <td>0</td>\n",
              "      <td>0</td>\n",
              "      <td>0</td>\n",
              "      <td>0</td>\n",
              "      <td>0</td>\n",
              "      <td>0</td>\n",
              "      <td>0</td>\n",
              "      <td>0</td>\n",
              "      <td>0</td>\n",
              "      <td>1</td>\n",
              "      <td>0</td>\n",
              "      <td>0</td>\n",
              "      <td>1</td>\n",
              "      <td>0</td>\n",
              "      <td>0</td>\n",
              "      <td>0</td>\n",
              "      <td>0</td>\n",
              "      <td>0</td>\n",
              "      <td>1</td>\n",
              "      <td>0</td>\n",
              "    </tr>\n",
              "    <tr>\n",
              "      <th>3</th>\n",
              "      <td>49990</td>\n",
              "      <td>0</td>\n",
              "      <td>0</td>\n",
              "      <td>0</td>\n",
              "      <td>0</td>\n",
              "      <td>0</td>\n",
              "      <td>1</td>\n",
              "      <td>0</td>\n",
              "      <td>0</td>\n",
              "      <td>0</td>\n",
              "      <td>0</td>\n",
              "      <td>0</td>\n",
              "      <td>0</td>\n",
              "      <td>0</td>\n",
              "      <td>0</td>\n",
              "      <td>0</td>\n",
              "      <td>0</td>\n",
              "      <td>0</td>\n",
              "      <td>0</td>\n",
              "      <td>0</td>\n",
              "      <td>1</td>\n",
              "      <td>0</td>\n",
              "      <td>1</td>\n",
              "      <td>0</td>\n",
              "      <td>0</td>\n",
              "      <td>0</td>\n",
              "      <td>1</td>\n",
              "      <td>0</td>\n",
              "      <td>0</td>\n",
              "      <td>0</td>\n",
              "      <td>0</td>\n",
              "      <td>0</td>\n",
              "      <td>0</td>\n",
              "      <td>0</td>\n",
              "      <td>0</td>\n",
              "      <td>0</td>\n",
              "      <td>1</td>\n",
              "      <td>0</td>\n",
              "      <td>0</td>\n",
              "      <td>1</td>\n",
              "      <td>0</td>\n",
              "      <td>0</td>\n",
              "      <td>0</td>\n",
              "      <td>0</td>\n",
              "      <td>0</td>\n",
              "      <td>1</td>\n",
              "      <td>0</td>\n",
              "    </tr>\n",
              "    <tr>\n",
              "      <th>4</th>\n",
              "      <td>49990</td>\n",
              "      <td>0</td>\n",
              "      <td>0</td>\n",
              "      <td>1</td>\n",
              "      <td>0</td>\n",
              "      <td>0</td>\n",
              "      <td>0</td>\n",
              "      <td>0</td>\n",
              "      <td>0</td>\n",
              "      <td>0</td>\n",
              "      <td>0</td>\n",
              "      <td>0</td>\n",
              "      <td>0</td>\n",
              "      <td>0</td>\n",
              "      <td>0</td>\n",
              "      <td>0</td>\n",
              "      <td>0</td>\n",
              "      <td>0</td>\n",
              "      <td>0</td>\n",
              "      <td>0</td>\n",
              "      <td>0</td>\n",
              "      <td>1</td>\n",
              "      <td>0</td>\n",
              "      <td>0</td>\n",
              "      <td>1</td>\n",
              "      <td>0</td>\n",
              "      <td>1</td>\n",
              "      <td>0</td>\n",
              "      <td>0</td>\n",
              "      <td>0</td>\n",
              "      <td>0</td>\n",
              "      <td>0</td>\n",
              "      <td>0</td>\n",
              "      <td>0</td>\n",
              "      <td>0</td>\n",
              "      <td>0</td>\n",
              "      <td>1</td>\n",
              "      <td>0</td>\n",
              "      <td>0</td>\n",
              "      <td>1</td>\n",
              "      <td>0</td>\n",
              "      <td>0</td>\n",
              "      <td>0</td>\n",
              "      <td>0</td>\n",
              "      <td>0</td>\n",
              "      <td>1</td>\n",
              "      <td>0</td>\n",
              "    </tr>\n",
              "  </tbody>\n",
              "</table>\n",
              "</div>\n",
              "      <button class=\"colab-df-convert\" onclick=\"convertToInteractive('df-e0f18b91-d7ac-4eac-ba3b-ed0636694f57')\"\n",
              "              title=\"Convert this dataframe to an interactive table.\"\n",
              "              style=\"display:none;\">\n",
              "        \n",
              "  <svg xmlns=\"http://www.w3.org/2000/svg\" height=\"24px\"viewBox=\"0 0 24 24\"\n",
              "       width=\"24px\">\n",
              "    <path d=\"M0 0h24v24H0V0z\" fill=\"none\"/>\n",
              "    <path d=\"M18.56 5.44l.94 2.06.94-2.06 2.06-.94-2.06-.94-.94-2.06-.94 2.06-2.06.94zm-11 1L8.5 8.5l.94-2.06 2.06-.94-2.06-.94L8.5 2.5l-.94 2.06-2.06.94zm10 10l.94 2.06.94-2.06 2.06-.94-2.06-.94-.94-2.06-.94 2.06-2.06.94z\"/><path d=\"M17.41 7.96l-1.37-1.37c-.4-.4-.92-.59-1.43-.59-.52 0-1.04.2-1.43.59L10.3 9.45l-7.72 7.72c-.78.78-.78 2.05 0 2.83L4 21.41c.39.39.9.59 1.41.59.51 0 1.02-.2 1.41-.59l7.78-7.78 2.81-2.81c.8-.78.8-2.07 0-2.86zM5.41 20L4 18.59l7.72-7.72 1.47 1.35L5.41 20z\"/>\n",
              "  </svg>\n",
              "      </button>\n",
              "      \n",
              "  <style>\n",
              "    .colab-df-container {\n",
              "      display:flex;\n",
              "      flex-wrap:wrap;\n",
              "      gap: 12px;\n",
              "    }\n",
              "\n",
              "    .colab-df-convert {\n",
              "      background-color: #E8F0FE;\n",
              "      border: none;\n",
              "      border-radius: 50%;\n",
              "      cursor: pointer;\n",
              "      display: none;\n",
              "      fill: #1967D2;\n",
              "      height: 32px;\n",
              "      padding: 0 0 0 0;\n",
              "      width: 32px;\n",
              "    }\n",
              "\n",
              "    .colab-df-convert:hover {\n",
              "      background-color: #E2EBFA;\n",
              "      box-shadow: 0px 1px 2px rgba(60, 64, 67, 0.3), 0px 1px 3px 1px rgba(60, 64, 67, 0.15);\n",
              "      fill: #174EA6;\n",
              "    }\n",
              "\n",
              "    [theme=dark] .colab-df-convert {\n",
              "      background-color: #3B4455;\n",
              "      fill: #D2E3FC;\n",
              "    }\n",
              "\n",
              "    [theme=dark] .colab-df-convert:hover {\n",
              "      background-color: #434B5C;\n",
              "      box-shadow: 0px 1px 3px 1px rgba(0, 0, 0, 0.15);\n",
              "      filter: drop-shadow(0px 1px 2px rgba(0, 0, 0, 0.3));\n",
              "      fill: #FFFFFF;\n",
              "    }\n",
              "  </style>\n",
              "\n",
              "      <script>\n",
              "        const buttonEl =\n",
              "          document.querySelector('#df-e0f18b91-d7ac-4eac-ba3b-ed0636694f57 button.colab-df-convert');\n",
              "        buttonEl.style.display =\n",
              "          google.colab.kernel.accessAllowed ? 'block' : 'none';\n",
              "\n",
              "        async function convertToInteractive(key) {\n",
              "          const element = document.querySelector('#df-e0f18b91-d7ac-4eac-ba3b-ed0636694f57');\n",
              "          const dataTable =\n",
              "            await google.colab.kernel.invokeFunction('convertToInteractive',\n",
              "                                                     [key], {});\n",
              "          if (!dataTable) return;\n",
              "\n",
              "          const docLinkHtml = 'Like what you see? Visit the ' +\n",
              "            '<a target=\"_blank\" href=https://colab.research.google.com/notebooks/data_table.ipynb>data table notebook</a>'\n",
              "            + ' to learn more about interactive tables.';\n",
              "          element.innerHTML = '';\n",
              "          dataTable['output_type'] = 'display_data';\n",
              "          await google.colab.output.renderOutput(dataTable, element);\n",
              "          const docLink = document.createElement('div');\n",
              "          docLink.innerHTML = docLinkHtml;\n",
              "          element.appendChild(docLink);\n",
              "        }\n",
              "      </script>\n",
              "    </div>\n",
              "  </div>\n",
              "  "
            ]
          },
          "metadata": {},
          "execution_count": 37
        }
      ],
      "source": [
        "data1=pd.get_dummies(data)\n",
        "data1.head()"
      ]
    },
    {
      "cell_type": "code",
      "execution_count": 38,
      "id": "84985bd4",
      "metadata": {
        "id": "84985bd4"
      },
      "outputs": [],
      "source": [
        "X=data1.drop(\"MRP\", axis=1).values\n",
        "y=data1[\"MRP\"].values"
      ]
    },
    {
      "cell_type": "code",
      "execution_count": 39,
      "id": "59a94a6c",
      "metadata": {
        "id": "59a94a6c"
      },
      "outputs": [],
      "source": [
        "from sklearn.model_selection import train_test_split\n",
        "\n",
        "x_train,x_test,y_train,y_test=train_test_split(X,y,test_size=0.2, random_state=0)"
      ]
    },
    {
      "cell_type": "code",
      "execution_count": 40,
      "id": "1e6221bd",
      "metadata": {
        "id": "1e6221bd"
      },
      "outputs": [],
      "source": [
        "from sklearn.ensemble import RandomForestRegressor\n",
        "\n",
        "rf=RandomForestRegressor()\n",
        "rf=rf.fit(x_train,y_train)\n",
        "y_pred=rf.predict(x_test)"
      ]
    },
    {
      "cell_type": "code",
      "execution_count": 41,
      "id": "7213e01e",
      "metadata": {
        "colab": {
          "base_uri": "https://localhost:8080/"
        },
        "id": "7213e01e",
        "outputId": "a0703b46-95ee-42ab-e1a9-1004618ff7b6"
      },
      "outputs": [
        {
          "output_type": "stream",
          "name": "stdout",
          "text": [
            "0.8814833023146538\n"
          ]
        }
      ],
      "source": [
        "from sklearn.metrics import r2_score, mean_squared_error\n",
        "\n",
        "print(r2_score(y_pred,y_test))"
      ]
    },
    {
      "cell_type": "code",
      "execution_count": 42,
      "id": "c01e6b0e",
      "metadata": {
        "id": "c01e6b0e"
      },
      "outputs": [],
      "source": [
        "from xgboost import XGBRegressor\n",
        "\n",
        "xgb=XGBRegressor(max_depth=2, max_leaves=2, booster='gbtree', learning_rate=0.19)\n",
        "xgb=xgb.fit(x_train,y_train)\n",
        "y_pred=xgb.predict(x_test)"
      ]
    },
    {
      "cell_type": "code",
      "execution_count": 43,
      "id": "c0985db9",
      "metadata": {
        "colab": {
          "base_uri": "https://localhost:8080/"
        },
        "id": "c0985db9",
        "outputId": "75f05de8-b14f-4178-9443-66652c60818e"
      },
      "outputs": [
        {
          "output_type": "stream",
          "name": "stdout",
          "text": [
            "0.9194503254451336\n"
          ]
        }
      ],
      "source": [
        "print(r2_score(y_pred,y_test))"
      ]
    },
    {
      "cell_type": "code",
      "execution_count": 44,
      "id": "a030e102",
      "metadata": {
        "colab": {
          "base_uri": "https://localhost:8080/"
        },
        "id": "a030e102",
        "outputId": "46942e23-afe4-4078-f5d8-c078c1eed58b"
      },
      "outputs": [
        {
          "output_type": "stream",
          "name": "stdout",
          "text": [
            "Cross validations Score:\n",
            " [0.91495966 0.86168018 0.87582945 0.87495164 0.75954796 0.8584843\n",
            " 0.85802864 0.861162   0.89802215 0.89467985 0.90591489 0.9027385\n",
            " 0.80068514 0.87119416 0.84570491 0.90027658 0.91734123 0.89167961\n",
            " 0.8737434  0.86210028 0.81779995 0.77564639 0.87008686 0.85636394\n",
            " 0.86456345 0.79513169 0.86457515 0.91414549 0.84615609 0.91845645\n",
            " 0.86076979 0.82577774 0.86356383 0.75768202 0.89336363 0.8824216\n",
            " 0.77474707 0.86287407 0.74270906 0.821472   0.90838447 0.73386763\n",
            " 0.88383526 0.86878077 0.84570138 0.90018183 0.83044239 0.75801717\n",
            " 0.888287   0.74862135 0.78805095 0.90638862 0.83821118 0.88128637\n",
            " 0.74308117 0.90848259 0.84828986 0.80767976 0.91570959 0.85648085\n",
            " 0.85429738 0.89273711 0.91752643 0.84750399 0.83238282 0.89484455\n",
            " 0.75613081 0.92308529 0.88530085 0.80523874 0.89942804 0.8403766\n",
            " 0.88406558 0.81704577 0.85611929 0.92021717 0.8583537  0.8589777\n",
            " 0.83303107 0.79486626 0.76482706 0.89590943 0.73198221 0.932207\n",
            " 0.91704336 0.83780941 0.7816254  0.87294641 0.88250465 0.90700427\n",
            " 0.91271285 0.78101937 0.78463749 0.94130416 0.87746148 0.80910564\n",
            " 0.81013198 0.90201933 0.76999185 0.91697436]\n",
            "Average Cross validations Score: 0.852975578508306\n",
            "Maximum Cross validations Score: 0.9413041611842587\n",
            "Minimum Cross validations Score: 0.7319822095523782\n"
          ]
        }
      ],
      "source": [
        "from sklearn.model_selection import cross_val_score, KFold, ShuffleSplit\n",
        "\n",
        "xgb=XGBRegressor(n_estimators=100,max_depth=2, max_leaves=2, booster='gbtree', learning_rate=0.19)\n",
        "\n",
        "k=ShuffleSplit(n_splits=100, test_size=0.2, random_state=0)\n",
        "score=cross_val_score(xgb, X,y, cv=k)\n",
        "print(\"Cross validations Score:\\n\", score)\n",
        "print(\"Average Cross validations Score:\", score.mean())\n",
        "print(\"Maximum Cross validations Score:\", score.max())\n",
        "print(\"Minimum Cross validations Score:\", score.min())"
      ]
    },
    {
      "cell_type": "markdown",
      "id": "2235da46",
      "metadata": {
        "id": "2235da46"
      },
      "source": [
        "### The model performace Increased."
      ]
    },
    {
      "cell_type": "markdown",
      "source": [
        "### GridSeaechCV"
      ],
      "metadata": {
        "id": "KPu6VrMTVeHT"
      },
      "id": "KPu6VrMTVeHT"
    },
    {
      "cell_type": "code",
      "execution_count": 46,
      "id": "0dbb0f7f",
      "metadata": {
        "colab": {
          "base_uri": "https://localhost:8080/"
        },
        "id": "0dbb0f7f",
        "outputId": "df0c977e-dcbf-466d-8f3b-9fb881800062"
      },
      "outputs": [
        {
          "output_type": "execute_result",
          "data": {
            "text/plain": [
              "{'learning_rate': 0.2, 'max_depth': 1, 'n_estimators': 100}"
            ]
          },
          "metadata": {},
          "execution_count": 46
        }
      ],
      "source": [
        "xgb=XGBRegressor(max_leaves=0)\n",
        "parameters=dict(n_estimators=[50,60,70,80,90,100], max_depth=[1,2,3,4,5],\n",
        "                learning_rate=[0.1,0.11,0.12,0.13,0.14,0.15,0.16,0.18,0.19,0.2])\n",
        "grid_search_cv=GridSearchCV(xgb,param_grid=parameters)\n",
        "search = grid_search_cv.fit(x_train,y_train)\n",
        "search.best_params_"
      ]
    },
    {
      "cell_type": "code",
      "source": [
        "xgb=XGBRegressor(max_leaves=0, n_estimators=100, max_depth=1, learning_rate=0.2)\n",
        "xgb=xgb.fit(x_train,y_train)\n",
        "r2_score(xgb.predict(x_test), y_test)"
      ],
      "metadata": {
        "colab": {
          "base_uri": "https://localhost:8080/"
        },
        "id": "pAebHDTYXIHy",
        "outputId": "f88c7cf1-4e27-4f33-9cf3-0d5726880f04"
      },
      "id": "pAebHDTYXIHy",
      "execution_count": 52,
      "outputs": [
        {
          "output_type": "execute_result",
          "data": {
            "text/plain": [
              "0.9058283609449451"
            ]
          },
          "metadata": {},
          "execution_count": 52
        }
      ]
    },
    {
      "cell_type": "markdown",
      "source": [
        "#### Model Performance is increased."
      ],
      "metadata": {
        "id": "M3Rzlr8vYDg6"
      },
      "id": "M3Rzlr8vYDg6"
    },
    {
      "cell_type": "code",
      "source": [],
      "metadata": {
        "id": "R56XAAN6XyQr"
      },
      "id": "R56XAAN6XyQr",
      "execution_count": null,
      "outputs": []
    }
  ],
  "metadata": {
    "kernelspec": {
      "display_name": "python3.11",
      "language": "python",
      "name": "python3.11"
    },
    "language_info": {
      "codemirror_mode": {
        "name": "ipython",
        "version": 3
      },
      "file_extension": ".py",
      "mimetype": "text/x-python",
      "name": "python",
      "nbconvert_exporter": "python",
      "pygments_lexer": "ipython3",
      "version": "3.9.7"
    },
    "colab": {
      "provenance": []
    }
  },
  "nbformat": 4,
  "nbformat_minor": 5
}