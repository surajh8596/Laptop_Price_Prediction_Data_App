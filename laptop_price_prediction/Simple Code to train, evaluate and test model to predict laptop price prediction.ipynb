{
 "cells": [
  {
   "cell_type": "markdown",
   "id": "8241496d",
   "metadata": {},
   "source": [
    "### Import Library"
   ]
  },
  {
   "cell_type": "code",
   "execution_count": 1,
   "id": "70faeb1c",
   "metadata": {},
   "outputs": [],
   "source": [
    "import pandas as pd\n",
    "import numpy as np\n",
    "import warnings\n",
    "warnings.filterwarnings('ignore')"
   ]
  },
  {
   "cell_type": "markdown",
   "id": "be607177",
   "metadata": {},
   "source": [
    "### Load data"
   ]
  },
  {
   "cell_type": "code",
   "execution_count": 37,
   "id": "b83eee82",
   "metadata": {},
   "outputs": [
    {
     "data": {
      "text/html": [
       "<div>\n",
       "<style scoped>\n",
       "    .dataframe tbody tr th:only-of-type {\n",
       "        vertical-align: middle;\n",
       "    }\n",
       "\n",
       "    .dataframe tbody tr th {\n",
       "        vertical-align: top;\n",
       "    }\n",
       "\n",
       "    .dataframe thead th {\n",
       "        text-align: right;\n",
       "    }\n",
       "</style>\n",
       "<table border=\"1\" class=\"dataframe\">\n",
       "  <thead>\n",
       "    <tr style=\"text-align: right;\">\n",
       "      <th></th>\n",
       "      <th>Brand</th>\n",
       "      <th>Operating System</th>\n",
       "      <th>Processor</th>\n",
       "      <th>RAM Type</th>\n",
       "      <th>RAM Size</th>\n",
       "      <th>Disc Type</th>\n",
       "      <th>Disc Size</th>\n",
       "      <th>MRP</th>\n",
       "    </tr>\n",
       "  </thead>\n",
       "  <tbody>\n",
       "    <tr>\n",
       "      <th>0</th>\n",
       "      <td>Lenovo</td>\n",
       "      <td>Windows 11</td>\n",
       "      <td>Intel</td>\n",
       "      <td>DDR4</td>\n",
       "      <td>8GB</td>\n",
       "      <td>SSD</td>\n",
       "      <td>256GB</td>\n",
       "      <td>36990</td>\n",
       "    </tr>\n",
       "    <tr>\n",
       "      <th>1</th>\n",
       "      <td>Lenovo</td>\n",
       "      <td>Windows 11</td>\n",
       "      <td>Intel</td>\n",
       "      <td>DDR4</td>\n",
       "      <td>8GB</td>\n",
       "      <td>SSD</td>\n",
       "      <td>512GB</td>\n",
       "      <td>39990</td>\n",
       "    </tr>\n",
       "    <tr>\n",
       "      <th>2</th>\n",
       "      <td>ASUS</td>\n",
       "      <td>Windows 11</td>\n",
       "      <td>Intel</td>\n",
       "      <td>DDR4</td>\n",
       "      <td>8GB</td>\n",
       "      <td>SSD</td>\n",
       "      <td>512GB</td>\n",
       "      <td>32990</td>\n",
       "    </tr>\n",
       "    <tr>\n",
       "      <th>3</th>\n",
       "      <td>HP</td>\n",
       "      <td>Windows 10</td>\n",
       "      <td>AMD</td>\n",
       "      <td>DDR4</td>\n",
       "      <td>8GB</td>\n",
       "      <td>SSD</td>\n",
       "      <td>512GB</td>\n",
       "      <td>49990</td>\n",
       "    </tr>\n",
       "    <tr>\n",
       "      <th>4</th>\n",
       "      <td>ASUS</td>\n",
       "      <td>Windows 11</td>\n",
       "      <td>Intel</td>\n",
       "      <td>DDR4</td>\n",
       "      <td>8GB</td>\n",
       "      <td>SSD</td>\n",
       "      <td>512GB</td>\n",
       "      <td>49990</td>\n",
       "    </tr>\n",
       "  </tbody>\n",
       "</table>\n",
       "</div>"
      ],
      "text/plain": [
       "    Brand Operating System Processor RAM Type RAM Size Disc Type Disc Size  \\\n",
       "0  Lenovo       Windows 11     Intel     DDR4      8GB       SSD     256GB   \n",
       "1  Lenovo       Windows 11     Intel     DDR4      8GB       SSD     512GB   \n",
       "2    ASUS       Windows 11     Intel     DDR4      8GB       SSD     512GB   \n",
       "3      HP       Windows 10       AMD     DDR4      8GB       SSD     512GB   \n",
       "4    ASUS       Windows 11     Intel     DDR4      8GB       SSD     512GB   \n",
       "\n",
       "     MRP  \n",
       "0  36990  \n",
       "1  39990  \n",
       "2  32990  \n",
       "3  49990  \n",
       "4  49990  "
      ]
     },
     "execution_count": 37,
     "metadata": {},
     "output_type": "execute_result"
    }
   ],
   "source": [
    "data=pd.read_csv('D:\\\\DATA SCIENCE Internship with Innomatics\\\\laptop_price_prediction\\\\resourses\\\\data\\\\laptop_price.csv')\n",
    "data.head()"
   ]
  },
  {
   "cell_type": "markdown",
   "id": "11009270",
   "metadata": {},
   "source": [
    "### Create Input and output features"
   ]
  },
  {
   "cell_type": "code",
   "execution_count": 38,
   "id": "b1123e9b",
   "metadata": {},
   "outputs": [],
   "source": [
    "X=data.drop('MRP', axis=1)\n",
    "y=data['MRP']"
   ]
  },
  {
   "cell_type": "markdown",
   "id": "541bb9b9",
   "metadata": {},
   "source": [
    "### Create Dummies using one hot encoding"
   ]
  },
  {
   "cell_type": "code",
   "execution_count": 39,
   "id": "5b704003",
   "metadata": {},
   "outputs": [
    {
     "data": {
      "text/plain": [
       "array([[0., 0., 0., ..., 0., 0., 0.],\n",
       "       [0., 0., 0., ..., 0., 1., 0.],\n",
       "       [0., 0., 1., ..., 0., 1., 0.],\n",
       "       ...,\n",
       "       [0., 0., 1., ..., 0., 0., 0.],\n",
       "       [0., 0., 1., ..., 0., 1., 0.],\n",
       "       [0., 0., 0., ..., 0., 0., 0.]])"
      ]
     },
     "execution_count": 39,
     "metadata": {},
     "output_type": "execute_result"
    }
   ],
   "source": [
    "from sklearn.preprocessing import OneHotEncoder\n",
    "\n",
    "ohe=OneHotEncoder()\n",
    "ohe_fit=ohe.fit(X)\n",
    "X=ohe_fit.transform(X).toarray()\n",
    "X"
   ]
  },
  {
   "cell_type": "markdown",
   "id": "36ea335e",
   "metadata": {},
   "source": [
    "### Standardize the features"
   ]
  },
  {
   "cell_type": "code",
   "execution_count": 40,
   "id": "6b808054",
   "metadata": {},
   "outputs": [
    {
     "name": "stdout",
     "output_type": "stream",
     "text": [
      "[[-0.06468462 -0.16463334 -0.73156082 ... -0.03729371 -1.04257207\n",
      "  -0.09908417]\n",
      " [-0.06468462 -0.16463334 -0.73156082 ... -0.03729371  0.9591663\n",
      "  -0.09908417]\n",
      " [-0.06468462 -0.16463334  1.36694034 ... -0.03729371  0.9591663\n",
      "  -0.09908417]\n",
      " ...\n",
      " [-0.06468462 -0.16463334  1.36694034 ... -0.03729371 -1.04257207\n",
      "  -0.09908417]\n",
      " [-0.06468462 -0.16463334  1.36694034 ... -0.03729371  0.9591663\n",
      "  -0.09908417]\n",
      " [-0.06468462 -0.16463334 -0.73156082 ... -0.03729371 -1.04257207\n",
      "  -0.09908417]]\n"
     ]
    }
   ],
   "source": [
    "from sklearn.preprocessing import StandardScaler\n",
    "std=StandardScaler()\n",
    "std_fit=std.fit(X)\n",
    "X=std_fit.transform(X)\n",
    "print(X)"
   ]
  },
  {
   "cell_type": "markdown",
   "id": "c2211d9e",
   "metadata": {},
   "source": [
    "### SPlit data into train test"
   ]
  },
  {
   "cell_type": "code",
   "execution_count": 41,
   "id": "7d9efe21",
   "metadata": {},
   "outputs": [
    {
     "name": "stdout",
     "output_type": "stream",
     "text": [
      "(576, 46)\n",
      "(576,)\n",
      "(144, 46)\n",
      "(144,)\n"
     ]
    }
   ],
   "source": [
    "from sklearn.model_selection import train_test_split\n",
    "\n",
    "x_train, x_test, y_train, y_test = train_test_split(X, y, test_size=0.2, random_state=42)\n",
    "print(x_train.shape)\n",
    "print(y_train.shape)\n",
    "print(x_test.shape)\n",
    "print(y_test.shape)"
   ]
  },
  {
   "cell_type": "markdown",
   "id": "31bd2195",
   "metadata": {},
   "source": [
    "### Training and evaluating the model"
   ]
  },
  {
   "cell_type": "code",
   "execution_count": 42,
   "id": "9499c33f",
   "metadata": {},
   "outputs": [
    {
     "data": {
      "text/plain": [
       "0.83"
      ]
     },
     "execution_count": 42,
     "metadata": {},
     "output_type": "execute_result"
    }
   ],
   "source": [
    "from sklearn.metrics import mean_squared_error as mse, r2_score\n",
    "from sklearn.ensemble import RandomForestRegressor\n",
    "\n",
    "rf=RandomForestRegressor()\n",
    "rf.fit(x_train,y_train)\n",
    "y_pred=rf.predict(x_test)\n",
    "r2_score(y_pred, y_test).round(2)"
   ]
  },
  {
   "cell_type": "markdown",
   "id": "2c31a41e",
   "metadata": {},
   "source": [
    "### Test the model for New Data"
   ]
  },
  {
   "cell_type": "code",
   "execution_count": 35,
   "id": "c601574a",
   "metadata": {},
   "outputs": [
    {
     "name": "stdout",
     "output_type": "stream",
     "text": [
      "Enter Brand here:Lenovo\n",
      "Enter OS here:Windows 11\n",
      "Enter Processor here:Intel\n",
      "Enter RAM Type here:DDR4\n",
      "Enter RAM Size here:32GB\n",
      "Enter Disc Type here:SSD\n",
      "Enter Disc Size here:1TB\n"
     ]
    },
    {
     "data": {
      "text/html": [
       "<div>\n",
       "<style scoped>\n",
       "    .dataframe tbody tr th:only-of-type {\n",
       "        vertical-align: middle;\n",
       "    }\n",
       "\n",
       "    .dataframe tbody tr th {\n",
       "        vertical-align: top;\n",
       "    }\n",
       "\n",
       "    .dataframe thead th {\n",
       "        text-align: right;\n",
       "    }\n",
       "</style>\n",
       "<table border=\"1\" class=\"dataframe\">\n",
       "  <thead>\n",
       "    <tr style=\"text-align: right;\">\n",
       "      <th></th>\n",
       "      <th>Brand</th>\n",
       "      <th>Operating System</th>\n",
       "      <th>Processor</th>\n",
       "      <th>RAM Type</th>\n",
       "      <th>RAM Size</th>\n",
       "      <th>Disc Type</th>\n",
       "      <th>Disc Size</th>\n",
       "    </tr>\n",
       "  </thead>\n",
       "  <tbody>\n",
       "    <tr>\n",
       "      <th>0</th>\n",
       "      <td>Lenovo</td>\n",
       "      <td>Windows 11</td>\n",
       "      <td>Intel</td>\n",
       "      <td>DDR4</td>\n",
       "      <td>32GB</td>\n",
       "      <td>SSD</td>\n",
       "      <td>1TB</td>\n",
       "    </tr>\n",
       "  </tbody>\n",
       "</table>\n",
       "</div>"
      ],
      "text/plain": [
       "    Brand Operating System Processor RAM Type RAM Size Disc Type Disc Size\n",
       "0  Lenovo       Windows 11     Intel     DDR4     32GB       SSD       1TB"
      ]
     },
     "execution_count": 35,
     "metadata": {},
     "output_type": "execute_result"
    }
   ],
   "source": [
    "#Take required input from user\n",
    "brand=input(\"Enter Brand here:\")\n",
    "os=input(\"Enter OS here:\")\n",
    "processor=input(\"Enter Processor here:\")\n",
    "ram_type=input(\"Enter RAM Type here:\")\n",
    "ram_size=input(\"Enter RAM Size here:\")\n",
    "disc_type=input(\"Enter Disc Type here:\")\n",
    "disc_size=input(\"Enter Disc Size here:\")\n",
    "\n",
    "#Create dataframe\n",
    "sample=pd.DataFrame({'Brand':[brand], 'Operating System':[os], 'Processor':[processor],\n",
    "                   'RAM Type':[ram_type], 'RAM Size':[ram_size],\n",
    "                   'Disc Type':[disc_type], 'Disc Size':[disc_size]})\n",
    "sample"
   ]
  },
  {
   "cell_type": "markdown",
   "id": "34dfa7b1",
   "metadata": {},
   "source": [
    "#### we have created One Hot Encoding object previosly so use that object to transform the data"
   ]
  },
  {
   "cell_type": "code",
   "execution_count": 36,
   "id": "e52e208f",
   "metadata": {},
   "outputs": [
    {
     "data": {
      "text/plain": [
       "array([[0., 0., 0., 0., 0., 0., 0., 1., 0., 0., 0., 0., 0., 0., 0., 0.,\n",
       "        0., 0., 0., 0., 1., 0., 0., 1., 0., 1., 0., 0., 0., 0., 0., 0.,\n",
       "        0., 1., 0., 0., 0., 0., 1., 0., 1., 0., 0., 0., 0., 0.]])"
      ]
     },
     "execution_count": 36,
     "metadata": {},
     "output_type": "execute_result"
    }
   ],
   "source": [
    "sample1=ohe_fit.transform(sample).toarray()\n",
    "sample1"
   ]
  },
  {
   "cell_type": "markdown",
   "id": "14730396",
   "metadata": {},
   "source": [
    "#### we have created Standard Scaler object previously so use that object to transform the data"
   ]
  },
  {
   "cell_type": "code",
   "execution_count": 43,
   "id": "362efe95",
   "metadata": {},
   "outputs": [
    {
     "data": {
      "text/plain": [
       "array([[-0.06468462, -0.16463334, -0.73156082, -0.30424413, -0.03729371,\n",
       "        -0.30424413, -0.16903085,  1.63507473, -0.20851441, -0.03729371,\n",
       "        -0.21211493, -0.05277798, -0.05277798, -0.03729371, -0.22604179,\n",
       "        -0.09166985, -0.09908417, -0.05277798, -0.17332893, -0.46719815,\n",
       "         0.53237436, -0.86953871, -0.16463334,  0.91986621, -0.03729371,\n",
       "         0.53237436, -0.38274902, -0.03729371, -0.10599979, -0.23275044,\n",
       "        -0.11250879, -0.13018891, -0.75861212,  6.43062526, -0.23275044,\n",
       "        -1.12751646, -0.11867817, -0.26726124,  0.29599543, -0.10599979,\n",
       "         1.49288297, -0.3992747 , -0.09908417, -0.03729371, -1.04257207,\n",
       "        -0.09908417]])"
      ]
     },
     "execution_count": 43,
     "metadata": {},
     "output_type": "execute_result"
    }
   ],
   "source": [
    "sample2=std_fit.transform(sample1)\n",
    "sample2"
   ]
  },
  {
   "cell_type": "markdown",
   "id": "def5ec92",
   "metadata": {},
   "source": [
    "### Predict the laptop price"
   ]
  },
  {
   "cell_type": "markdown",
   "id": "2f08194f",
   "metadata": {},
   "source": [
    "#### use already trained random forest model"
   ]
  },
  {
   "cell_type": "code",
   "execution_count": 44,
   "id": "15194d06",
   "metadata": {},
   "outputs": [
    {
     "data": {
      "text/plain": [
       "array([338605.58])"
      ]
     },
     "execution_count": 44,
     "metadata": {},
     "output_type": "execute_result"
    }
   ],
   "source": [
    "rf.predict(sample2)"
   ]
  },
  {
   "cell_type": "code",
   "execution_count": null,
   "id": "bf7cd554",
   "metadata": {},
   "outputs": [],
   "source": []
  }
 ],
 "metadata": {
  "kernelspec": {
   "display_name": "python3.11",
   "language": "python",
   "name": "python3.11"
  },
  "language_info": {
   "codemirror_mode": {
    "name": "ipython",
    "version": 3
   },
   "file_extension": ".py",
   "mimetype": "text/x-python",
   "name": "python",
   "nbconvert_exporter": "python",
   "pygments_lexer": "ipython3",
   "version": "3.9.7"
  }
 },
 "nbformat": 4,
 "nbformat_minor": 5
}
