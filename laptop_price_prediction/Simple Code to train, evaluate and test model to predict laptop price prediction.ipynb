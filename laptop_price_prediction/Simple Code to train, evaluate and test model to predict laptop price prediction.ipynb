{
 "cells": [
  {
   "cell_type": "markdown",
   "id": "8241496d",
   "metadata": {},
   "source": [
    "### Import Library"
   ]
  },
  {
   "cell_type": "code",
   "execution_count": 1,
   "id": "70faeb1c",
   "metadata": {},
   "outputs": [],
   "source": [
    "import pandas as pd\n",
    "import numpy as np\n",
    "import warnings\n",
    "warnings.filterwarnings('ignore')"
   ]
  },
  {
   "cell_type": "markdown",
   "id": "be607177",
   "metadata": {},
   "source": [
    "### Load data"
   ]
  },
  {
   "cell_type": "code",
   "execution_count": 20,
   "id": "b83eee82",
   "metadata": {},
   "outputs": [
    {
     "data": {
      "text/html": [
       "<div>\n",
       "<style scoped>\n",
       "    .dataframe tbody tr th:only-of-type {\n",
       "        vertical-align: middle;\n",
       "    }\n",
       "\n",
       "    .dataframe tbody tr th {\n",
       "        vertical-align: top;\n",
       "    }\n",
       "\n",
       "    .dataframe thead th {\n",
       "        text-align: right;\n",
       "    }\n",
       "</style>\n",
       "<table border=\"1\" class=\"dataframe\">\n",
       "  <thead>\n",
       "    <tr style=\"text-align: right;\">\n",
       "      <th></th>\n",
       "      <th>Brand</th>\n",
       "      <th>Operating System</th>\n",
       "      <th>Processor</th>\n",
       "      <th>RAM Type</th>\n",
       "      <th>RAM Size</th>\n",
       "      <th>Disc Type</th>\n",
       "      <th>Disc Size</th>\n",
       "      <th>MRP</th>\n",
       "    </tr>\n",
       "  </thead>\n",
       "  <tbody>\n",
       "    <tr>\n",
       "      <th>0</th>\n",
       "      <td>Lenovo</td>\n",
       "      <td>Windows 11</td>\n",
       "      <td>Intel</td>\n",
       "      <td>DDR4</td>\n",
       "      <td>8GB</td>\n",
       "      <td>SSD</td>\n",
       "      <td>256GB</td>\n",
       "      <td>36990</td>\n",
       "    </tr>\n",
       "    <tr>\n",
       "      <th>1</th>\n",
       "      <td>Lenovo</td>\n",
       "      <td>Windows 11</td>\n",
       "      <td>Intel</td>\n",
       "      <td>DDR4</td>\n",
       "      <td>8GB</td>\n",
       "      <td>SSD</td>\n",
       "      <td>512GB</td>\n",
       "      <td>39990</td>\n",
       "    </tr>\n",
       "    <tr>\n",
       "      <th>2</th>\n",
       "      <td>ASUS</td>\n",
       "      <td>Windows 11</td>\n",
       "      <td>Intel</td>\n",
       "      <td>DDR4</td>\n",
       "      <td>8GB</td>\n",
       "      <td>SSD</td>\n",
       "      <td>512GB</td>\n",
       "      <td>32990</td>\n",
       "    </tr>\n",
       "    <tr>\n",
       "      <th>3</th>\n",
       "      <td>HP</td>\n",
       "      <td>Windows 10</td>\n",
       "      <td>AMD</td>\n",
       "      <td>DDR4</td>\n",
       "      <td>8GB</td>\n",
       "      <td>SSD</td>\n",
       "      <td>512GB</td>\n",
       "      <td>49990</td>\n",
       "    </tr>\n",
       "    <tr>\n",
       "      <th>4</th>\n",
       "      <td>ASUS</td>\n",
       "      <td>Windows 11</td>\n",
       "      <td>Intel</td>\n",
       "      <td>DDR4</td>\n",
       "      <td>8GB</td>\n",
       "      <td>SSD</td>\n",
       "      <td>512GB</td>\n",
       "      <td>49990</td>\n",
       "    </tr>\n",
       "  </tbody>\n",
       "</table>\n",
       "</div>"
      ],
      "text/plain": [
       "    Brand Operating System Processor RAM Type RAM Size Disc Type Disc Size  \\\n",
       "0  Lenovo       Windows 11     Intel     DDR4      8GB       SSD     256GB   \n",
       "1  Lenovo       Windows 11     Intel     DDR4      8GB       SSD     512GB   \n",
       "2    ASUS       Windows 11     Intel     DDR4      8GB       SSD     512GB   \n",
       "3      HP       Windows 10       AMD     DDR4      8GB       SSD     512GB   \n",
       "4    ASUS       Windows 11     Intel     DDR4      8GB       SSD     512GB   \n",
       "\n",
       "     MRP  \n",
       "0  36990  \n",
       "1  39990  \n",
       "2  32990  \n",
       "3  49990  \n",
       "4  49990  "
      ]
     },
     "execution_count": 20,
     "metadata": {},
     "output_type": "execute_result"
    }
   ],
   "source": [
    "data=pd.read_csv('D:\\\\DATA SCIENCE Internship with Innomatics\\\\laptop_price_prediction\\\\resourses\\\\data\\\\laptop_price.csv')\n",
    "data.head()"
   ]
  },
  {
   "cell_type": "markdown",
   "id": "11009270",
   "metadata": {},
   "source": [
    "### Create Input and output features"
   ]
  },
  {
   "cell_type": "code",
   "execution_count": 21,
   "id": "b1123e9b",
   "metadata": {},
   "outputs": [],
   "source": [
    "X=data.drop('MRP', axis=1)\n",
    "y=data['MRP']"
   ]
  },
  {
   "cell_type": "markdown",
   "id": "d5a22d9f",
   "metadata": {},
   "source": [
    "### Split into train and test"
   ]
  },
  {
   "cell_type": "code",
   "execution_count": 22,
   "id": "c0bd88a3",
   "metadata": {},
   "outputs": [
    {
     "name": "stdout",
     "output_type": "stream",
     "text": [
      "(576, 7)\n",
      "(576,)\n",
      "(144, 7)\n",
      "(144,)\n"
     ]
    }
   ],
   "source": [
    "from sklearn.model_selection import train_test_split\n",
    "\n",
    "x_train, x_test, y_train, y_test = train_test_split(X, y, test_size=0.2)\n",
    "print(x_train.shape)\n",
    "print(y_train.shape)\n",
    "print(x_test.shape)\n",
    "print(y_test.shape)"
   ]
  },
  {
   "cell_type": "markdown",
   "id": "541bb9b9",
   "metadata": {},
   "source": [
    "### Create Dummies using one hot encoding"
   ]
  },
  {
   "cell_type": "code",
   "execution_count": 23,
   "id": "5b704003",
   "metadata": {},
   "outputs": [
    {
     "data": {
      "text/plain": [
       "array([[0., 0., 0., ..., 0., 1., 0.],\n",
       "       [0., 0., 0., ..., 0., 1., 0.],\n",
       "       [0., 0., 0., ..., 0., 1., 0.],\n",
       "       ...,\n",
       "       [0., 1., 0., ..., 0., 1., 0.],\n",
       "       [0., 0., 0., ..., 0., 1., 0.],\n",
       "       [0., 0., 0., ..., 0., 1., 0.]])"
      ]
     },
     "execution_count": 23,
     "metadata": {},
     "output_type": "execute_result"
    }
   ],
   "source": [
    "from sklearn.preprocessing import OneHotEncoder\n",
    "\n",
    "ohe=OneHotEncoder()\n",
    "ohe_fit=ohe.fit(x_train)\n",
    "x_train_tf=ohe_fit.transform(x_train).toarray()\n",
    "x_train_tf"
   ]
  },
  {
   "cell_type": "code",
   "execution_count": 24,
   "id": "8929dcb2",
   "metadata": {},
   "outputs": [
    {
     "data": {
      "text/plain": [
       "array([[0., 0., 1., ..., 0., 0., 0.],\n",
       "       [0., 0., 0., ..., 0., 0., 0.],\n",
       "       [0., 0., 0., ..., 0., 1., 0.],\n",
       "       ...,\n",
       "       [0., 0., 1., ..., 0., 0., 0.],\n",
       "       [0., 0., 1., ..., 0., 0., 0.],\n",
       "       [0., 0., 0., ..., 0., 0., 0.]])"
      ]
     },
     "execution_count": 24,
     "metadata": {},
     "output_type": "execute_result"
    }
   ],
   "source": [
    "x_test_tf=ohe_fit.transform(x_test).toarray()\n",
    "x_test_tf"
   ]
  },
  {
   "cell_type": "markdown",
   "id": "31bd2195",
   "metadata": {},
   "source": [
    "### Training and evaluating the model"
   ]
  },
  {
   "cell_type": "code",
   "execution_count": 25,
   "id": "9499c33f",
   "metadata": {},
   "outputs": [
    {
     "data": {
      "text/plain": [
       "0.89"
      ]
     },
     "execution_count": 25,
     "metadata": {},
     "output_type": "execute_result"
    }
   ],
   "source": [
    "from sklearn.metrics import mean_squared_error as mse, r2_score\n",
    "from sklearn.ensemble import RandomForestRegressor\n",
    "\n",
    "rf=RandomForestRegressor()\n",
    "rf.fit(x_train_tf,y_train)\n",
    "y_pred=rf.predict(x_test_tf)\n",
    "r2_score(y_pred, y_test).round(2)"
   ]
  },
  {
   "cell_type": "markdown",
   "id": "2c31a41e",
   "metadata": {},
   "source": [
    "### Test the model for New Data"
   ]
  },
  {
   "cell_type": "code",
   "execution_count": 26,
   "id": "c601574a",
   "metadata": {},
   "outputs": [
    {
     "name": "stdout",
     "output_type": "stream",
     "text": [
      "Enter Brand here:Lenovo\n",
      "Enter OS here:Windows 11\n",
      "Enter Processor here:Intel\n",
      "Enter RAM Type here:DDR4\n",
      "Enter RAM Size here:16GB\n",
      "Enter Disc Type here:HDD\n",
      "Enter Disc Size here:256GB\n"
     ]
    },
    {
     "data": {
      "text/html": [
       "<div>\n",
       "<style scoped>\n",
       "    .dataframe tbody tr th:only-of-type {\n",
       "        vertical-align: middle;\n",
       "    }\n",
       "\n",
       "    .dataframe tbody tr th {\n",
       "        vertical-align: top;\n",
       "    }\n",
       "\n",
       "    .dataframe thead th {\n",
       "        text-align: right;\n",
       "    }\n",
       "</style>\n",
       "<table border=\"1\" class=\"dataframe\">\n",
       "  <thead>\n",
       "    <tr style=\"text-align: right;\">\n",
       "      <th></th>\n",
       "      <th>Brand</th>\n",
       "      <th>Operating System</th>\n",
       "      <th>Processor</th>\n",
       "      <th>RAM Type</th>\n",
       "      <th>RAM Size</th>\n",
       "      <th>Disc Type</th>\n",
       "      <th>Disc Size</th>\n",
       "    </tr>\n",
       "  </thead>\n",
       "  <tbody>\n",
       "    <tr>\n",
       "      <th>0</th>\n",
       "      <td>Lenovo</td>\n",
       "      <td>Windows 11</td>\n",
       "      <td>Intel</td>\n",
       "      <td>DDR4</td>\n",
       "      <td>16GB</td>\n",
       "      <td>HDD</td>\n",
       "      <td>256GB</td>\n",
       "    </tr>\n",
       "  </tbody>\n",
       "</table>\n",
       "</div>"
      ],
      "text/plain": [
       "    Brand Operating System Processor RAM Type RAM Size Disc Type Disc Size\n",
       "0  Lenovo       Windows 11     Intel     DDR4     16GB       HDD     256GB"
      ]
     },
     "execution_count": 26,
     "metadata": {},
     "output_type": "execute_result"
    }
   ],
   "source": [
    "#Take required input from user\n",
    "brand=input(\"Enter Brand here:\")\n",
    "os=input(\"Enter OS here:\")\n",
    "processor=input(\"Enter Processor here:\")\n",
    "ram_type=input(\"Enter RAM Type here:\")\n",
    "ram_size=input(\"Enter RAM Size here:\")\n",
    "disc_type=input(\"Enter Disc Type here:\")\n",
    "disc_size=input(\"Enter Disc Size here:\")\n",
    "\n",
    "#Create dataframe\n",
    "sample=pd.DataFrame({'Brand':[brand], 'Operating System':[os], 'Processor':[processor],\n",
    "                   'RAM Type':[ram_type], 'RAM Size':[ram_size],\n",
    "                   'Disc Type':[disc_type], 'Disc Size':[disc_size]})\n",
    "sample"
   ]
  },
  {
   "cell_type": "markdown",
   "id": "34dfa7b1",
   "metadata": {},
   "source": [
    "#### we have created One Hot Encoding object previosly so use that object to transform the data"
   ]
  },
  {
   "cell_type": "code",
   "execution_count": 27,
   "id": "e52e208f",
   "metadata": {},
   "outputs": [
    {
     "data": {
      "text/plain": [
       "array([[0., 0., 0., 0., 0., 0., 0., 1., 0., 0., 0., 0., 0., 0., 0., 0.,\n",
       "        0., 0., 0., 0., 1., 0., 0., 1., 0., 1., 0., 0., 0., 0., 0., 0.,\n",
       "        1., 0., 0., 0., 0., 1., 0., 0., 0., 1., 0., 0., 0., 0.]])"
      ]
     },
     "execution_count": 27,
     "metadata": {},
     "output_type": "execute_result"
    }
   ],
   "source": [
    "sample1=ohe_fit.transform(sample).toarray()\n",
    "sample1"
   ]
  },
  {
   "cell_type": "markdown",
   "id": "def5ec92",
   "metadata": {},
   "source": [
    "### Predict the laptop price"
   ]
  },
  {
   "cell_type": "markdown",
   "id": "2f08194f",
   "metadata": {},
   "source": [
    "#### use already trained random forest model"
   ]
  },
  {
   "cell_type": "code",
   "execution_count": 29,
   "id": "15194d06",
   "metadata": {},
   "outputs": [
    {
     "data": {
      "text/plain": [
       "array([115446.01190476])"
      ]
     },
     "execution_count": 29,
     "metadata": {},
     "output_type": "execute_result"
    }
   ],
   "source": [
    "rf.predict(sample1)"
   ]
  },
  {
   "cell_type": "code",
   "execution_count": null,
   "id": "bf7cd554",
   "metadata": {},
   "outputs": [],
   "source": []
  }
 ],
 "metadata": {
  "kernelspec": {
   "display_name": "python3.11",
   "language": "python",
   "name": "python3.11"
  },
  "language_info": {
   "codemirror_mode": {
    "name": "ipython",
    "version": 3
   },
   "file_extension": ".py",
   "mimetype": "text/x-python",
   "name": "python",
   "nbconvert_exporter": "python",
   "pygments_lexer": "ipython3",
   "version": "3.9.7"
  }
 },
 "nbformat": 4,
 "nbformat_minor": 5
}
